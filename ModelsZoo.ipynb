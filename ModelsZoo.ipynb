{
 "cells": [
  {
   "cell_type": "code",
   "execution_count": 11,
   "metadata": {},
   "outputs": [],
   "source": [
    "import tensorflow as tf\n",
    "from tensorflow import keras\n",
    "from tensorflow.keras.layers import (InputLayer, Conv2D, MaxPool2D, \n",
    "                                     Flatten, Dense, Conv2DTranspose, \n",
    "                                     UpSampling2D, Reshape)\n",
    "from tensorflow.keras.losses import mse\n",
    "\n",
    "# x.summary()\n",
    "from skimage.transform import resize\n",
    "import matplotlib.pyplot as plt\n",
    "import numpy as np\n",
    "pics = np.load('play_trace_0.npz')"
   ]
  },
  {
   "cell_type": "code",
   "execution_count": 9,
   "metadata": {},
   "outputs": [],
   "source": [
    "IMG_HEIGHT = 64 \n",
    "IMG_WIDTH = 64"
   ]
  },
  {
   "cell_type": "code",
   "execution_count": 18,
   "metadata": {},
   "outputs": [],
   "source": [
    "class CVAE(tf.keras.Model):\n",
    "    \n",
    "    def __init__(self, latent_dim=64, activation='relu', initializer='he_normal', \n",
    "                 optimizer=tf.keras.optimizers.Adam(1e-4), \n",
    "                 reconstruction_lossfun=mse, fname=None):\n",
    "        super(CVAE, self).__init__()\n",
    "        \n",
    "        self.latent_dim = latent_dim\n",
    "        self.optimizer = optimizer\n",
    "        self.reconstruction_lossfun = reconstruction_lossfun\n",
    "        self.inference_net = tf.keras.Sequential(\n",
    "          [\n",
    "              InputLayer(input_shape=(IMG_HEIGHT, IMG_WIDTH, 3)),\n",
    "              Conv2D(filters=16, kernel_size=3, strides=2, \n",
    "                     activation=activation, kernel_initializer=initializer),\n",
    "              #BatchNormalization(),\n",
    "              Conv2D(filters=32, kernel_size=3, strides=2,\n",
    "                     activation=activation, kernel_initializer=initializer),\n",
    "              #BatchNormalization(),\n",
    "              Conv2D(filters=64, kernel_size=3, strides=2,\n",
    "                     activation=activation, kernel_initializer=initializer),\n",
    "              #BatchNormalization(),\n",
    "              MaxPool2D(),\n",
    "              Flatten(),\n",
    "              Dense(self.latent_dim + self.latent_dim) \n",
    "          ]\n",
    "        )\n",
    "\n",
    "        self.generative_net = tf.keras.Sequential(\n",
    "            [\n",
    "                InputLayer(input_shape=(self.latent_dim,)),\n",
    "                Dense(64, activation=activation),\n",
    "                Reshape((4,4,4)),\n",
    "                Conv2DTranspose(filters=8, kernel_size=3, strides=2, padding='same',\n",
    "                                activation=activation, kernel_initializer=initializer),\n",
    "                UpSampling2D(),\n",
    "                Conv2D(filters=64, kernel_size=1, strides=1),\n",
    "                UpSampling2D(),\n",
    "                Conv2D(filters=64, kernel_size=1, strides=1),\n",
    "                Conv2DTranspose(filters=128, kernel_size=3, strides=2, padding='same',\n",
    "                                activation=activation, kernel_initializer=initializer),\n",
    "                Conv2DTranspose(filters=3, kernel_size=1, strides=1)\n",
    "            ]\n",
    "        )\n",
    "        \n",
    "        if fname: \n",
    "            self.load_weights(fname)\n",
    "        return\n",
    "    \n",
    "    def sample(self, n=10, eps=None):\n",
    "        if eps is None:\n",
    "            eps = tf.random.normal(shape=(n, self.latent_dim))\n",
    "        return self.decode(eps, apply_sigmoid=True)\n",
    "\n",
    "    def encode(self, x):\n",
    "        mean, logvar = tf.split(self.inference_net(x), num_or_size_splits=2, axis=1)\n",
    "        return mean, logvar\n",
    "\n",
    "    def reparameterize(self, mean, logvar):\n",
    "        eps = tf.random.normal(shape=mean.shape)\n",
    "        return eps * tf.exp(logvar * .5) + mean\n",
    "\n",
    "    def decode(self, z, apply_sigmoid=False):\n",
    "        logits = self.generative_net(z)\n",
    "        if apply_sigmoid:\n",
    "            probs = tf.sigmoid(logits)\n",
    "            return probs\n",
    "        return logits\n",
    "    \n",
    "    def encode_to_z(self, x):\n",
    "        mean, logvar = self.encode(x)\n",
    "        return self.reparameterize(mean, logvar)\n",
    "    \n",
    "    def predict(self, x):\n",
    "        z = self.encode_to_z(x)\n",
    "        return self.decode(z, apply_sigmoid=True)\n",
    "    \n",
    "    @staticmethod\n",
    "    def log_normal_pdf(sample, mean, logvar, raxis=1):\n",
    "        log2pi = tf.math.log(2. * np.pi)\n",
    "        return tf.reduce_sum(-.5 * ((sample - mean) ** 2. * tf.exp(-logvar) + logvar + log2pi),\n",
    "                          axis=raxis)\n",
    "    \n",
    "    def summary(self): \n",
    "        print('Encoder summary:')\n",
    "        self.inference_net.summary()\n",
    "        print('Decoder summary:')\n",
    "        self.generative_net.summary()\n",
    "        return\n",
    "    \n",
    "    def compute_loss(self, x):\n",
    "        mean, logvar = self.encode(x)\n",
    "        z = self.reparameterize(mean, logvar)\n",
    "        pred = self.decode(z, apply_sigmoid=True)\n",
    "        reconstruction_loss = self.reconstruction_lossfun(pred, x)\n",
    "        reconstruction_loss = tf.reduce_mean(reconstruction_loss, 2)\n",
    "        reconstruction_loss = tf.reduce_mean(reconstruction_loss, 1)\n",
    "        logpz = self.log_normal_pdf(z, 0., 0.)\n",
    "        logqz_x = self.log_normal_pdf(z, mean, logvar)\n",
    "        #import pdb; pdb.set_trace()\n",
    "        return -tf.reduce_mean(reconstruction_loss + logpz - logqz_x)\n",
    "\n",
    "    def compute_apply_gradients(self, x):\n",
    "        with tf.GradientTape() as tape:\n",
    "            loss = self.compute_loss(x)\n",
    "            gradients = tape.gradient(loss, self.trainable_variables)\n",
    "            self.optimizer.apply_gradients(zip(gradients, self.trainable_variables))\n",
    "        return loss\n",
    "            \n",
    "    def save_weights(self, name): \n",
    "        self.inference_net.save_weights(f'{name}_inference.hdf5')\n",
    "        self.generative_net.save_weights(f'{name}_generative.hdf5')\n",
    "        return\n",
    "    \n",
    "    def load_weights(self, name):\n",
    "        self.inference_net.load_weights(f'{name}_inference.hdf5')\n",
    "        self.generative_net.load_weights(f'{name}_generative.hdf5')\n",
    "        return\n",
    "    \n",
    "    def fit(self, train_generator, test_generator, fname, epochs=100, val_frequency=1):\n",
    "        \"\"\"Note: this breaks the usual model.fit API\"\"\"\n",
    "        \n",
    "        history = {'loss': [], 'val_loss': []}\n",
    "        for epoch in range(1, epochs + 1):\n",
    "            start_time = time.time()\n",
    "            loss = tf.keras.metrics.Mean()\n",
    "            for train_x in tqdm(train_generator, f\"epoch: {epoch}\"):\n",
    "                loss(self.compute_apply_gradients(train_x))\n",
    "            end_time = time.time()\n",
    "            elbo = -loss.result()\n",
    "            history['loss'].append(np.asscalar(np.array(elbo)))\n",
    "            \n",
    "            if epoch % val_frequency == 0:\n",
    "                loss = tf.keras.metrics.Mean()\n",
    "                for test_x in tqdm(test_generator, f\"validating epoch {epoch}\"):\n",
    "                    loss(self.compute_loss(test_x))\n",
    "                elbo = -loss.result()\n",
    "                history['val_loss'].append(np.asscalar(np.array(elbo)))\n",
    "                print('Epoch: {}, Test set ELBO: {}, '\n",
    "                      'time elapse for current epoch {}'.format(epoch,\n",
    "                                                                elbo,\n",
    "                                                                end_time - start_time))\n",
    "        self.save_weights(fname)\n",
    "        return history"
   ]
  },
  {
   "cell_type": "code",
   "execution_count": 19,
   "metadata": {},
   "outputs": [],
   "source": [
    "x = CVAE()"
   ]
  },
  {
   "cell_type": "code",
   "execution_count": 65,
   "metadata": {},
   "outputs": [],
   "source": [
    "o = x.predict(resize(pics['b']/255, (1024, 64, 64, 3)))"
   ]
  },
  {
   "cell_type": "code",
   "execution_count": 67,
   "metadata": {},
   "outputs": [
    {
     "data": {
      "text/plain": [
       "<matplotlib.image.AxesImage at 0x7f556c163090>"
      ]
     },
     "execution_count": 67,
     "metadata": {},
     "output_type": "execute_result"
    },
    {
     "data": {
      "image/png": "[encoded data removed]",
      "text/plain": [
       "<Figure size 432x288 with 1 Axes>"
      ]
     },
     "metadata": {
      "needs_background": "light"
     },
     "output_type": "display_data"
    }
   ],
   "source": [
    "plt.imshow(o[0])"
   ]
  },
  {
   "cell_type": "code",
   "execution_count": null,
   "metadata": {},
   "outputs": [],
   "source": []
  },
  {
   "cell_type": "code",
   "execution_count": 69,
   "metadata": {},
   "outputs": [],
   "source": [
    "import mdn"
   ]
  },
  {
   "cell_type": "code",
   "execution_count": 70,
   "metadata": {},
   "outputs": [
    {
     "name": "stdout",
     "output_type": "stream",
     "text": [
      "Model: \"sequential_7\"\n",
      "_________________________________________________________________\n",
      "Layer (type)                 Output Shape              Param #   \n",
      "=================================================================\n",
      "dense_8 (Dense)              (None, 15)                30        \n",
      "_________________________________________________________________\n",
      "mdn (MDN)                    (None, 50)                800       \n",
      "=================================================================\n",
      "Total params: 830\n",
      "Trainable params: 830\n",
      "Non-trainable params: 0\n",
      "_________________________________________________________________\n"
     ]
    }
   ],
   "source": [
    "N_HIDDEN = 15  # number of hidden units in the Dense layer\n",
    "N_MIXES = 10  # number of mixture components\n",
    "OUTPUT_DIMS = 2  # number of real-values predicted by each mixture component\n",
    "\n",
    "model = tf.keras.Sequential()\n",
    "model.add(tf.keras.layers.Dense(N_HIDDEN, batch_input_shape=(None, 1), activation='relu'))\n",
    "model.add(mdn.MDN(OUTPUT_DIMS, N_MIXES))\n",
    "model.compile(loss=mdn.get_mixture_loss_func(OUTPUT_DIMS,N_MIXES), optimizer=tf.keras.optimizers.Adam())\n",
    "model.summary()"
   ]
  },
  {
   "cell_type": "code",
   "execution_count": null,
   "metadata": {},
   "outputs": [],
   "source": []
  },
  {
   "cell_type": "code",
   "execution_count": null,
   "metadata": {},
   "outputs": [],
   "source": [
    "class MDN_RNN:\n",
    "    def __init__(self):\n",
    "        pass"
   ]
  },
  {
   "cell_type": "code",
   "execution_count": 1,
   "metadata": {},
   "outputs": [],
   "source": [
    "class controller:\n",
    "    def __init__(self):\n",
    "        pass"
   ]
  },
  {
   "cell_type": "code",
   "execution_count": null,
   "metadata": {},
   "outputs": [],
   "source": []
  }
 ],
 "metadata": {
  "kernelspec": {
   "display_name": "Python 3",
   "language": "python",
   "name": "python3"
  },
  "language_info": {
   "codemirror_mode": {
    "name": "ipython",
    "version": 3
   },
   "file_extension": ".py",
   "mimetype": "text/x-python",
   "name": "python",
   "nbconvert_exporter": "python",
   "pygments_lexer": "ipython3",
   "version": "3.7.5"
  }
 },
 "nbformat": 4,
 "nbformat_minor": 2
}
