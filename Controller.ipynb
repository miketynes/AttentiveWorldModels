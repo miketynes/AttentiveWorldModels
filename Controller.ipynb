{
 "cells": [
  {
   "cell_type": "code",
   "execution_count": null,
   "metadata": {},
   "outputs": [],
   "source": [
    "import tensorflow as tf\n",
    "from tensorflow.keras.layers import Input, Dense\n",
    "from tensorflow.keras.models import Sequential\n",
    "import tensorflow.keras.backend as K\n",
    "import numpy as np\n",
    "import os\n",
    "from utils import preprocess_images"
   ]
  },
  {
   "cell_type": "code",
   "execution_count": null,
   "metadata": {},
   "outputs": [],
   "source": [
    "from models import Encoder as buildVision\n",
    "from models import M as buildMemory"
   ]
  },
  {
   "cell_type": "code",
   "execution_count": null,
   "metadata": {},
   "outputs": [],
   "source": [
    "import mdn"
   ]
  },
  {
   "cell_type": "code",
   "execution_count": null,
   "metadata": {},
   "outputs": [],
   "source": [
    "V = buildVision()"
   ]
  },
  {
   "cell_type": "code",
   "execution_count": null,
   "metadata": {},
   "outputs": [],
   "source": [
    "M = buildMemory()\n",
    "get_hidden = K.function(M.layers[0].input, M.layers[0].output)\n"
   ]
  },
  {
   "cell_type": "code",
   "execution_count": null,
   "metadata": {},
   "outputs": [],
   "source": [
    "# some_z = np.load('./sausage/z_states/z_state0_1005.npy')\n",
    "\n",
    "# some_a = np.array([1,0,0])\n",
    "\n",
    "# combined = np.concatenate([some_z, some_a], axis=0)\n",
    "\n",
    "# #inputs = np.zeros((128, *combined.shape))\n",
    "# #inputs[0] = combined\n",
    "\n",
    "# #inputs.shape\n",
    "\n",
    "# M.reset_states()\n",
    "\n",
    "# M.layers[0]\n",
    "\n",
    "# foo = get_hidden(tf.expand_dims(tf.expand_dims(combined, 0), 0))\n",
    "\n",
    "# bar = M(tf.expand_dims(c, 0))\n",
    "\n",
    "# np.apply_along_axis(mdn.sample_from_output, 1, bar[0], 32, 5, temp=1.0).shape"
   ]
  },
  {
   "cell_type": "code",
   "execution_count": null,
   "metadata": {},
   "outputs": [],
   "source": [
    "class Controller():\n",
    "    def __init__(self, input_size, output_size):\n",
    "        self._in = input_size\n",
    "        self._out = output_size\n",
    "        self.W = np.random.randn(input_size, output_size)\n",
    "    \n",
    "    def clip(self, x, lo=0.0, hi=1.0):\n",
    "        return np.minimum(np.maximum(x, lo), hi)\n",
    "    \n",
    "    def sigmoid(self, x):\n",
    "        return 1 / (1 + np.exp(-x))\n",
    "    \n",
    "    def __call__(self, obs):\n",
    "        action = np.dot(obs, self.W)\n",
    "        \n",
    "        action[0] = np.tanh(action[0])\n",
    "        action[1] = self.sigmoid(action[1])\n",
    "        action[2] = self.clip(np.tanh(action[2]))\n",
    "        \n",
    "        return action\n",
    "    \n",
    "    def set_weights(self, W):\n",
    "        # assume W is flat.\n",
    "        self.W = np.reshape(W, self.W.shape)\n",
    "        \n",
    "    def randomly_init(self):\n",
    "        self.W = np.random.randn(*self.W.shape)\n",
    "       \n",
    "    @property\n",
    "    def shape(self):\n",
    "        return self.W.shape"
   ]
  },
  {
   "cell_type": "code",
   "execution_count": null,
   "metadata": {},
   "outputs": [],
   "source": [
    "controller = Controller(32+256, 3)"
   ]
  },
  {
   "cell_type": "code",
   "execution_count": null,
   "metadata": {},
   "outputs": [],
   "source": [
    "import gym"
   ]
  },
  {
   "cell_type": "code",
   "execution_count": null,
   "metadata": {},
   "outputs": [],
   "source": [
    "env = gym.make(\"CarRacing-v0\")"
   ]
  },
  {
   "cell_type": "code",
   "execution_count": null,
   "metadata": {},
   "outputs": [],
   "source": [
    "state = preprocess_images(env.reset())\n",
    "env.close()"
   ]
  },
  {
   "cell_type": "code",
   "execution_count": null,
   "metadata": {},
   "outputs": [],
   "source": []
  },
  {
   "cell_type": "code",
   "execution_count": null,
   "metadata": {},
   "outputs": [],
   "source": [
    "def rollout(controller):\n",
    "    #ims = []\n",
    "    state = preprocess_images(env.reset())\n",
    "    \n",
    "    M.reset_states()\n",
    "    h = np.zeros(256)\n",
    "    done = False\n",
    "    cumulative_reward = 0\n",
    "    \n",
    "    while not done:\n",
    "        _state = np.zeros((128, 64, 64, 3))\n",
    "        _state[0] = state\n",
    "        #ims.append(state)\n",
    "        z = V(_state)[0][0] #extract first from batch and sequence\n",
    "        \n",
    "        # combine V latent space with M hidden space \n",
    "        combined = np.concatenate([z, h], axis=0)\n",
    "        \n",
    "        a = controller(combined)\n",
    "        \n",
    "        state, reward, done, info = env.step(a)\n",
    "        state = preprocess_images(state)\n",
    "        \n",
    "        cumulative_reward += reward\n",
    "        \n",
    "        # get factored gaussians\n",
    "        # by feeding current latent_state + action\n",
    "        z = M(tf.expand_dims(tf.expand_dims(np.concatenate([z, a]), 0), 0))\n",
    "        \n",
    "        # sample from factored gaussians\n",
    "        # 32 = output_dims\n",
    "        # 5  = num_mixtures\n",
    "        z = np.apply_along_axis(mdn.sample_from_output, 1, z[0], 32, 5, temp=1.0).squeeze()\n",
    "\n",
    "        # extract hidden state from LSTM\n",
    "        h = get_hidden(tf.expand_dims(tf.expand_dims(np.concatenate([z, a], 0), 0), 0)).squeeze()\n",
    "    \n",
    "    env.close()\n",
    "    return cumulative_reward#, ims"
   ]
  },
  {
   "cell_type": "code",
   "execution_count": null,
   "metadata": {},
   "outputs": [],
   "source": []
  },
  {
   "cell_type": "code",
   "execution_count": null,
   "metadata": {},
   "outputs": [],
   "source": [
    "from es import SimpleGA, CMAES, PEPG, OpenES"
   ]
  },
  {
   "cell_type": "code",
   "execution_count": null,
   "metadata": {},
   "outputs": [],
   "source": [
    "NPARAMS = controller.shape[0] * controller.shape[1]\n",
    "NPOPULATION = 26    # use population size of 101.\n",
    "MAX_ITERATION = 250 # run each solver for 1000 generations."
   ]
  },
  {
   "cell_type": "code",
   "execution_count": null,
   "metadata": {},
   "outputs": [],
   "source": [
    "def fit_func(params):\n",
    "    controller.set_weights(params)\n",
    "    reward = rollout(controller)\n",
    "    return reward"
   ]
  },
  {
   "cell_type": "code",
   "execution_count": null,
   "metadata": {},
   "outputs": [],
   "source": [
    "def test_solver(solver):\n",
    "    history = []\n",
    "    for j in range(MAX_ITERATION):\n",
    "        solutions = solver.ask()\n",
    "        fitness_list = np.zeros(solver.popsize)\n",
    "        for i in range(solver.popsize):\n",
    "            fitness_list[i] = fit_func(solutions[i])\n",
    "        solver.tell(fitness_list)\n",
    "        result = solver.result() # first element is the best solution, second element is the best fitness\n",
    "        history.append(result[1])\n",
    "        if (j+1) % 100 == 0:\n",
    "            print(\"fitness at iteration\", (j+1), result[1])\n",
    "    print(\"local optimum discovered by solver:\\n\", result[0])\n",
    "    print(\"fitness score at this local optimum:\", result[1])\n",
    "    return history, result"
   ]
  },
  {
   "cell_type": "code",
   "execution_count": null,
   "metadata": {},
   "outputs": [],
   "source": [
    "# defines OpenAI's ES algorithm solver. Note that we needed to anneal the sigma parameter\n",
    "oes = OpenES(NPARAMS,                  # number of model parameters\n",
    "            sigma_init=0.5,            # initial standard deviation\n",
    "            sigma_decay=0.999,         # don't anneal standard deviation\n",
    "            learning_rate=0.1,         # learning rate for standard deviation\n",
    "            learning_rate_decay = 1.0, # annealing the learning rate\n",
    "            popsize=NPOPULATION,       # population size\n",
    "            antithetic=False,          # whether to use antithetic sampling\n",
    "            weight_decay=0.00,         # weight decay coefficient\n",
    "            rank_fitness=False,        # use rank rather than fitness numbers\n",
    "            forget_best=False)"
   ]
  },
  {
   "cell_type": "code",
   "execution_count": null,
   "metadata": {
    "scrolled": true
   },
   "outputs": [],
   "source": [
    "oes_history, result = test_solver(oes)"
   ]
  },
  {
   "cell_type": "code",
   "execution_count": null,
   "metadata": {},
   "outputs": [],
   "source": [
    "controller.set_weights(result)"
   ]
  },
  {
   "cell_type": "code",
   "execution_count": null,
   "metadata": {},
   "outputs": [],
   "source": [
    "np.save('./sausage/weights/C_weights.npy', controller.W)"
   ]
  },
  {
   "cell_type": "code",
   "execution_count": null,
   "metadata": {},
   "outputs": [],
   "source": [
    "env.close()"
   ]
  },
  {
   "cell_type": "code",
   "execution_count": null,
   "metadata": {},
   "outputs": [],
   "source": []
  },
  {
   "cell_type": "code",
   "execution_count": null,
   "metadata": {},
   "outputs": [],
   "source": [
    "import matplotlib.pyplot as plt\n",
    "from IPython import display"
   ]
  },
  {
   "cell_type": "code",
   "execution_count": null,
   "metadata": {},
   "outputs": [],
   "source": [
    "def show_state(env, step=0, name=\"\", info=\"\", image=None):\n",
    "    \"\"\"Fn to visualize the agent playing the game in a notebook\n",
    "    \"\"\"\n",
    "    plt.figure(10)\n",
    "    plt.clf()\n",
    "    if image is not None:\n",
    "        im = image\n",
    "    else:\n",
    "        im = env.render(mode=\"rgb_array\")[0]\n",
    "    plt.imshow(im)\n",
    "    plt.title(\"{} | Step: {} {}\".format(name, step, info))\n",
    "    plt.axis('off')\n",
    "    display.clear_output(wait=True)\n",
    "    display.display(plt.gcf())"
   ]
  },
  {
   "cell_type": "code",
   "execution_count": null,
   "metadata": {},
   "outputs": [],
   "source": [
    "for i in ims:\n",
    "    show_state(None, image=i[0])"
   ]
  },
  {
   "cell_type": "code",
   "execution_count": null,
   "metadata": {},
   "outputs": [],
   "source": [
    "np.save(\"AICAR.npy\", ims)"
   ]
  }
 ],
 "metadata": {
  "kernelspec": {
   "display_name": "Python 3",
   "language": "python",
   "name": "python3"
  },
  "language_info": {
   "codemirror_mode": {
    "name": "ipython",
    "version": 3
   },
   "file_extension": ".py",
   "mimetype": "text/x-python",
   "name": "python",
   "nbconvert_exporter": "python",
   "pygments_lexer": "ipython3",
   "version": "3.7.5"
  }
 },
 "nbformat": 4,
 "nbformat_minor": 2
}
