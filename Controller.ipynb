{
 "cells": [
  {
   "cell_type": "code",
   "execution_count": 1,
   "metadata": {},
   "outputs": [],
   "source": [
    "import tensorflow as tf\n",
    "from tensorflow.keras.layers import Input, Dense\n",
    "from tensorflow.keras.models import Sequential\n",
    "import tensorflow.keras.backend as K\n",
    "import numpy as np\n",
    "import os\n",
    "from utils import preprocess_images"
   ]
  },
  {
   "cell_type": "code",
   "execution_count": 2,
   "metadata": {},
   "outputs": [],
   "source": [
    "from models import V as buildVision\n",
    "from models import V_inverse as Decoder\n",
    "from models import M as buildMemory"
   ]
  },
  {
   "cell_type": "code",
   "execution_count": 3,
   "metadata": {},
   "outputs": [],
   "source": [
    "import mdn"
   ]
  },
  {
   "cell_type": "code",
   "execution_count": 4,
   "metadata": {},
   "outputs": [],
   "source": [
    "from utils import load_folder"
   ]
  },
  {
   "cell_type": "code",
   "execution_count": 5,
   "metadata": {},
   "outputs": [],
   "source": [
    "import matplotlib.pyplot as plt"
   ]
  },
  {
   "cell_type": "code",
   "execution_count": 6,
   "metadata": {},
   "outputs": [],
   "source": [
    "V = buildVision()\n",
    "V_inv = Decoder()"
   ]
  },
  {
   "cell_type": "code",
   "execution_count": 7,
   "metadata": {},
   "outputs": [
    {
     "data": {
      "text/plain": [
       "<tensorflow.python.training.tracking.util.CheckpointLoadStatus at 0x7fd5dc77d2d0>"
      ]
     },
     "execution_count": 7,
     "metadata": {},
     "output_type": "execute_result"
    }
   ],
   "source": [
    "V.load_weights('weights/2019.12.07/encoder_weights')\n",
    "V_inv.load_weights('weights/2019.12.07/decoder_weights')"
   ]
  },
  {
   "cell_type": "code",
   "execution_count": 8,
   "metadata": {},
   "outputs": [
    {
     "name": "stdout",
     "output_type": "stream",
     "text": [
      "Model: \"encoder\"\n",
      "__________________________________________________________________________________________________\n",
      "Layer (type)                    Output Shape         Param #     Connected to                     \n",
      "==================================================================================================\n",
      "encoder_input (InputLayer)      [(None, 64, 64, 3)]  0                                            \n",
      "__________________________________________________________________________________________________\n",
      "enc_conv1 (Conv2D)              (None, 31, 31, 32)   1568        encoder_input[0][0]              \n",
      "__________________________________________________________________________________________________\n",
      "enc_conv2 (Conv2D)              (None, 14, 14, 64)   32832       enc_conv1[0][0]                  \n",
      "__________________________________________________________________________________________________\n",
      "enc_conv3 (Conv2D)              (None, 6, 6, 128)    131200      enc_conv2[0][0]                  \n",
      "__________________________________________________________________________________________________\n",
      "enc_conv4 (Conv2D)              (None, 2, 2, 256)    524544      enc_conv3[0][0]                  \n",
      "__________________________________________________________________________________________________\n",
      "reshape (Reshape)               (None, 1024)         0           enc_conv4[0][0]                  \n",
      "__________________________________________________________________________________________________\n",
      "z_mean (Dense)                  (None, 32)           32800       reshape[0][0]                    \n",
      "__________________________________________________________________________________________________\n",
      "z_log_var (Dense)               (None, 32)           32800       reshape[0][0]                    \n",
      "__________________________________________________________________________________________________\n",
      "z (Lambda)                      (128, 32)            0           z_mean[0][0]                     \n",
      "                                                                 z_log_var[0][0]                  \n",
      "==================================================================================================\n",
      "Total params: 755,744\n",
      "Trainable params: 755,744\n",
      "Non-trainable params: 0\n",
      "__________________________________________________________________________________________________\n"
     ]
    }
   ],
   "source": [
    "V.summary()"
   ]
  },
  {
   "cell_type": "code",
   "execution_count": 9,
   "metadata": {},
   "outputs": [
    {
     "name": "stdout",
     "output_type": "stream",
     "text": [
      "Model: \"decoder\"\n",
      "_________________________________________________________________\n",
      "Layer (type)                 Output Shape              Param #   \n",
      "=================================================================\n",
      "decoder_input (InputLayer)   [(None, 32)]              0         \n",
      "_________________________________________________________________\n",
      "dec_fc (Dense)               (None, 1024)              33792     \n",
      "_________________________________________________________________\n",
      "reshape_1 (Reshape)          (None, 1, 1, 1024)        0         \n",
      "_________________________________________________________________\n",
      "dec_deconv1 (Conv2DTranspose (None, 5, 5, 128)         3276928   \n",
      "_________________________________________________________________\n",
      "dec_deconv2 (Conv2DTranspose (None, 13, 13, 64)        204864    \n",
      "_________________________________________________________________\n",
      "dec_deconv3 (Conv2DTranspose (None, 30, 30, 32)        73760     \n",
      "_________________________________________________________________\n",
      "dec_deconv4 (Conv2DTranspose (None, 64, 64, 3)         3459      \n",
      "=================================================================\n",
      "Total params: 3,592,803\n",
      "Trainable params: 3,592,803\n",
      "Non-trainable params: 0\n",
      "_________________________________________________________________\n"
     ]
    }
   ],
   "source": [
    "V_inv.summary()"
   ]
  },
  {
   "cell_type": "code",
   "execution_count": 10,
   "metadata": {},
   "outputs": [],
   "source": [
    "M = buildMemory('weights/2019.12.07/mdn_rnn_weights')\n",
    "get_hidden = K.function(M.layers[0].input, M.layers[0].output)"
   ]
  },
  {
   "cell_type": "code",
   "execution_count": null,
   "metadata": {},
   "outputs": [],
   "source": [
    "# tf.keras.backend.set_floatx('float64')"
   ]
  },
  {
   "cell_type": "code",
   "execution_count": 11,
   "metadata": {},
   "outputs": [
    {
     "name": "stdout",
     "output_type": "stream",
     "text": [
      "Model: \"sequential\"\n",
      "_________________________________________________________________\n",
      "Layer (type)                 Output Shape              Param #   \n",
      "=================================================================\n",
      "lstm (LSTM)                  (None, None, 256)         299008    \n",
      "_________________________________________________________________\n",
      "mdn (MDN)                    (None, None, 325)         83525     \n",
      "=================================================================\n",
      "Total params: 382,533\n",
      "Trainable params: 382,533\n",
      "Non-trainable params: 0\n",
      "_________________________________________________________________\n"
     ]
    }
   ],
   "source": [
    "M.summary()"
   ]
  },
  {
   "cell_type": "code",
   "execution_count": 12,
   "metadata": {},
   "outputs": [],
   "source": [
    "class Controller():\n",
    "    def __init__(self, input_size, output_size):\n",
    "        self._in = input_size\n",
    "        self._out = output_size\n",
    "        self.W = np.random.randn(input_size, output_size)\n",
    "    \n",
    "    def clip(self, x, lo=0.0, hi=1.0):\n",
    "        return np.minimum(np.maximum(x, lo), hi)\n",
    "    \n",
    "    def sigmoid(self, x):\n",
    "        return 1 / (1 + np.exp(-x))\n",
    "    \n",
    "    def __call__(self, obs):\n",
    "        action = np.dot(obs, self.W)\n",
    "        \n",
    "        action[0] = np.tanh(action[0])\n",
    "        action[1] = self.sigmoid(action[1])\n",
    "        action[2] = self.clip(np.tanh(action[2]))\n",
    "        \n",
    "        return action\n",
    "    \n",
    "    def set_weights(self, W):\n",
    "        # assume W is flat.\n",
    "        self.W = np.reshape(W, self.W.shape)\n",
    "        \n",
    "    def randomly_init(self):\n",
    "        self.W = np.random.randn(*self.W.shape)\n",
    "       \n",
    "    @property\n",
    "    def shape(self):\n",
    "        return self.W.shape"
   ]
  },
  {
   "cell_type": "code",
   "execution_count": 13,
   "metadata": {},
   "outputs": [],
   "source": [
    "controller = Controller(32+256, 3)"
   ]
  },
  {
   "cell_type": "code",
   "execution_count": 14,
   "metadata": {},
   "outputs": [],
   "source": [
    "import gym"
   ]
  },
  {
   "cell_type": "code",
   "execution_count": 15,
   "metadata": {},
   "outputs": [],
   "source": [
    "env = gym.make(\"CarRacing-v0\")"
   ]
  },
  {
   "cell_type": "code",
   "execution_count": 16,
   "metadata": {},
   "outputs": [
    {
     "name": "stdout",
     "output_type": "stream",
     "text": [
      "Track generation: 1208..1514 -> 306-tiles track\n"
     ]
    }
   ],
   "source": [
    "state = preprocess_images(env.reset())\n",
    "env.close()"
   ]
  },
  {
   "cell_type": "code",
   "execution_count": 17,
   "metadata": {},
   "outputs": [],
   "source": [
    "def rollout(controller):\n",
    "    #ims = []\n",
    "    state = preprocess_images(env.reset())\n",
    "    \n",
    "    M.reset_states()\n",
    "    h = np.zeros(256)\n",
    "    done = False\n",
    "    cumulative_reward = 0\n",
    "    \n",
    "    while not done:\n",
    "        _state = np.zeros((128, 64, 64, 3))\n",
    "        _state[0] = state\n",
    "        #ims.append(state)\n",
    "        z = V(_state)[2][0] #extract first from batch and sequence\n",
    "\n",
    "        # combine V latent space with M hidden space \n",
    "        combined = np.concatenate([z, h], axis=0)\n",
    "        \n",
    "        a = controller(combined)\n",
    "        \n",
    "        state, reward, done, info = env.step(a)\n",
    "        state = preprocess_images(state)\n",
    "        \n",
    "        cumulative_reward += reward\n",
    "        \n",
    "        # get factored gaussians\n",
    "        # by feeding current latent_state + action\n",
    "        z = M(tf.expand_dims(tf.expand_dims(np.concatenate([z, a]), 0), 0))\n",
    "        \n",
    "        # sample from factored gaussians\n",
    "        # 32 = output_dims\n",
    "        # 5  = num_mixtures\n",
    "        z = np.apply_along_axis(mdn.sample_from_output, 1, z[0], 32, 5, temp=1.0).squeeze()\n",
    "\n",
    "        # extract hidden state from LSTM\n",
    "        h = get_hidden(tf.expand_dims(tf.expand_dims(np.concatenate([z, a], 0), 0), 0)).squeeze()\n",
    "    \n",
    "    env.close()\n",
    "    return cumulative_reward#, ims"
   ]
  },
  {
   "cell_type": "code",
   "execution_count": 21,
   "metadata": {},
   "outputs": [],
   "source": [
    "import time"
   ]
  },
  {
   "cell_type": "code",
   "execution_count": 22,
   "metadata": {
    "scrolled": true
   },
   "outputs": [
    {
     "name": "stdout",
     "output_type": "stream",
     "text": [
      "Track generation: 1098..1385 -> 287-tiles track\n"
     ]
    }
   ],
   "source": [
    "start = time.time()\n",
    "rollout(controller)\n",
    "end = time.time() - start"
   ]
  },
  {
   "cell_type": "code",
   "execution_count": 30,
   "metadata": {},
   "outputs": [
    {
     "data": {
      "text/plain": [
       "11.0"
      ]
     },
     "execution_count": 30,
     "metadata": {},
     "output_type": "execute_result"
    }
   ],
   "source": [
    "end * 50 * 10 // 3600"
   ]
  },
  {
   "cell_type": "code",
   "execution_count": null,
   "metadata": {},
   "outputs": [],
   "source": []
  },
  {
   "cell_type": "code",
   "execution_count": 31,
   "metadata": {},
   "outputs": [],
   "source": [
    "from es import SimpleGA, CMAES, PEPG, OpenES"
   ]
  },
  {
   "cell_type": "code",
   "execution_count": 32,
   "metadata": {},
   "outputs": [],
   "source": [
    "NPARAMS = controller.shape[0] * controller.shape[1]\n",
    "NPOPULATION = 10    # use population size of 101.\n",
    "MAX_ITERATION = 50 # run each solver for 1000 generations."
   ]
  },
  {
   "cell_type": "code",
   "execution_count": 33,
   "metadata": {},
   "outputs": [],
   "source": [
    "def fit_func(params):\n",
    "    controller.set_weights(params)\n",
    "    reward = rollout(controller)\n",
    "    return reward"
   ]
  },
  {
   "cell_type": "code",
   "execution_count": 34,
   "metadata": {},
   "outputs": [],
   "source": [
    "def test_solver(solver):\n",
    "    history = []\n",
    "    for j in tqdm(range(MAX_ITERATION)):\n",
    "        solutions = solver.ask()\n",
    "        fitness_list = np.zeros(solver.popsize)\n",
    "        for i in range(solver.popsize):\n",
    "            fitness_list[i] = fit_func(solutions[i])\n",
    "        solver.tell(fitness_list)\n",
    "        result = solver.result() # first element is the best solution, second element is the best fitness\n",
    "        history.append(result[1])\n",
    "        if (j+1) % 100 == 0:\n",
    "            print(\"fitness at iteration\", (j+1), result[1])\n",
    "    print(\"local optimum discovered by solver:\\n\", result[0])\n",
    "    print(\"fitness score at this local optimum:\", result[1])\n",
    "    return history, result"
   ]
  },
  {
   "cell_type": "code",
   "execution_count": 36,
   "metadata": {},
   "outputs": [],
   "source": [
    "# defines OpenAI's ES algorithm solver. Note that we needed to anneal the sigma parameter\n",
    "oes = OpenES(NPARAMS,                  # number of model parameters\n",
    "                sigma_init=0.5,            # initial standard deviation\n",
    "                sigma_decay=0.999,         # don't anneal standard deviation\n",
    "                learning_rate=0.1,         # learning rate for standard deviation\n",
    "                learning_rate_decay = 1.0, # annealing the learning rate\n",
    "                popsize=NPOPULATION,       # population size\n",
    "                antithetic=False,          # whether to use antithetic sampling\n",
    "                weight_decay=0.00,         # weight decay coefficient\n",
    "                rank_fitness=False,        # use rank rather than fitness numbers\n",
    "                forget_best=False)"
   ]
  },
  {
   "cell_type": "code",
   "execution_count": 38,
   "metadata": {},
   "outputs": [],
   "source": [
    "from tqdm import tqdm"
   ]
  },
  {
   "cell_type": "code",
   "execution_count": null,
   "metadata": {
    "scrolled": true
   },
   "outputs": [
    {
     "name": "stderr",
     "output_type": "stream",
     "text": [
      "\r",
      "  0%|          | 0/50 [00:00<?, ?it/s]"
     ]
    },
    {
     "name": "stdout",
     "output_type": "stream",
     "text": [
      "Track generation: 1270..1599 -> 329-tiles track\n"
     ]
    }
   ],
   "source": [
    "oes_history, result = test_solver(oes)"
   ]
  },
  {
   "cell_type": "code",
   "execution_count": null,
   "metadata": {},
   "outputs": [],
   "source": [
    "controller.set_weights(result)"
   ]
  },
  {
   "cell_type": "code",
   "execution_count": null,
   "metadata": {},
   "outputs": [],
   "source": [
    "np.save('./weights/C_weights.npy', controller.W)"
   ]
  },
  {
   "cell_type": "code",
   "execution_count": null,
   "metadata": {},
   "outputs": [],
   "source": [
    "env.close()"
   ]
  },
  {
   "cell_type": "code",
   "execution_count": null,
   "metadata": {},
   "outputs": [],
   "source": []
  },
  {
   "cell_type": "code",
   "execution_count": null,
   "metadata": {},
   "outputs": [],
   "source": [
    "import matplotlib.pyplot as plt\n",
    "from IPython import display"
   ]
  },
  {
   "cell_type": "code",
   "execution_count": null,
   "metadata": {},
   "outputs": [],
   "source": [
    "def show_state(env, step=0, name=\"\", info=\"\", image=None):\n",
    "    \"\"\"Fn to visualize the agent playing the game in a notebook\n",
    "    \"\"\"\n",
    "    plt.figure(10)\n",
    "    plt.clf()\n",
    "    if image is not None:\n",
    "        im = image\n",
    "    else:\n",
    "        im = env.render(mode=\"rgb_array\")[0]\n",
    "    plt.imshow(im)\n",
    "    plt.title(\"{} | Step: {} {}\".format(name, step, info))\n",
    "    plt.axis('off')\n",
    "    display.clear_output(wait=True)\n",
    "    display.display(plt.gcf())"
   ]
  },
  {
   "cell_type": "code",
   "execution_count": null,
   "metadata": {},
   "outputs": [],
   "source": [
    "for i in ims:\n",
    "    show_state(None, image=i[0])"
   ]
  },
  {
   "cell_type": "code",
   "execution_count": null,
   "metadata": {},
   "outputs": [],
   "source": [
    "np.save(\"AICAR.npy\", ims)"
   ]
  }
 ],
 "metadata": {
  "kernelspec": {
   "display_name": "Python 3",
   "language": "python",
   "name": "python3"
  },
  "language_info": {
   "codemirror_mode": {
    "name": "ipython",
    "version": 3
   },
   "file_extension": ".py",
   "mimetype": "text/x-python",
   "name": "python",
   "nbconvert_exporter": "python",
   "pygments_lexer": "ipython3",
   "version": "3.7.5"
  }
 },
 "nbformat": 4,
 "nbformat_minor": 2
}
