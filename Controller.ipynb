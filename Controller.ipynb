{
 "cells": [
  {
   "cell_type": "code",
   "execution_count": 1,
   "metadata": {},
   "outputs": [],
   "source": [
    "import tensorflow as tf\n",
    "from tensorflow.keras.layers import Input, Dense\n",
    "from tensorflow.keras.models import Sequential\n",
    "import tensorflow.keras.backend as K\n",
    "import numpy as np\n",
    "import os\n",
    "from utils import preprocess_images"
   ]
  },
  {
   "cell_type": "code",
   "execution_count": 2,
   "metadata": {},
   "outputs": [],
   "source": [
    "from models import V as buildVision\n",
    "from models import V_inverse as Decoder\n",
    "from models import M as buildMemory"
   ]
  },
  {
   "cell_type": "code",
   "execution_count": 3,
   "metadata": {},
   "outputs": [],
   "source": [
    "import mdn"
   ]
  },
  {
   "cell_type": "code",
   "execution_count": 4,
   "metadata": {},
   "outputs": [],
   "source": [
    "from utils import load_folder"
   ]
  },
  {
   "cell_type": "code",
   "execution_count": 5,
   "metadata": {},
   "outputs": [],
   "source": [
    "import matplotlib.pyplot as plt"
   ]
  },
  {
   "cell_type": "code",
   "execution_count": 6,
   "metadata": {},
   "outputs": [],
   "source": [
    "V = buildVision()\n",
    "V_inv = Decoder()"
   ]
  },
  {
   "cell_type": "code",
   "execution_count": 7,
   "metadata": {},
   "outputs": [
    {
     "data": {
      "text/plain": [
       "<tensorflow.python.training.tracking.util.CheckpointLoadStatus at 0x798490187fd0>"
      ]
     },
     "execution_count": 7,
     "metadata": {},
     "output_type": "execute_result"
    }
   ],
   "source": [
    "V.load_weights('weights/2019.12.07/encoder_weights')\n",
    "V_inv.load_weights('weights/2019.12.07/decoder_weights')"
   ]
  },
  {
   "cell_type": "code",
   "execution_count": 8,
   "metadata": {},
   "outputs": [
    {
     "name": "stdout",
     "output_type": "stream",
     "text": [
      "Model: \"encoder\"\n",
      "__________________________________________________________________________________________________\n",
      "Layer (type)                    Output Shape         Param #     Connected to                     \n",
      "==================================================================================================\n",
      "encoder_input (InputLayer)      [(None, 64, 64, 3)]  0                                            \n",
      "__________________________________________________________________________________________________\n",
      "enc_conv1 (Conv2D)              (None, 31, 31, 32)   1568        encoder_input[0][0]              \n",
      "__________________________________________________________________________________________________\n",
      "enc_conv2 (Conv2D)              (None, 14, 14, 64)   32832       enc_conv1[0][0]                  \n",
      "__________________________________________________________________________________________________\n",
      "enc_conv3 (Conv2D)              (None, 6, 6, 128)    131200      enc_conv2[0][0]                  \n",
      "__________________________________________________________________________________________________\n",
      "enc_conv4 (Conv2D)              (None, 2, 2, 256)    524544      enc_conv3[0][0]                  \n",
      "__________________________________________________________________________________________________\n",
      "reshape (Reshape)               (None, 1024)         0           enc_conv4[0][0]                  \n",
      "__________________________________________________________________________________________________\n",
      "z_mean (Dense)                  (None, 32)           32800       reshape[0][0]                    \n",
      "__________________________________________________________________________________________________\n",
      "z_log_var (Dense)               (None, 32)           32800       reshape[0][0]                    \n",
      "__________________________________________________________________________________________________\n",
      "z (Lambda)                      (128, 32)            0           z_mean[0][0]                     \n",
      "                                                                 z_log_var[0][0]                  \n",
      "==================================================================================================\n",
      "Total params: 755,744\n",
      "Trainable params: 755,744\n",
      "Non-trainable params: 0\n",
      "__________________________________________________________________________________________________\n"
     ]
    }
   ],
   "source": [
    "V.summary()"
   ]
  },
  {
   "cell_type": "code",
   "execution_count": 9,
   "metadata": {},
   "outputs": [
    {
     "name": "stdout",
     "output_type": "stream",
     "text": [
      "Model: \"decoder\"\n",
      "_________________________________________________________________\n",
      "Layer (type)                 Output Shape              Param #   \n",
      "=================================================================\n",
      "decoder_input (InputLayer)   [(None, 32)]              0         \n",
      "_________________________________________________________________\n",
      "dec_fc (Dense)               (None, 1024)              33792     \n",
      "_________________________________________________________________\n",
      "reshape_1 (Reshape)          (None, 1, 1, 1024)        0         \n",
      "_________________________________________________________________\n",
      "dec_deconv1 (Conv2DTranspose (None, 5, 5, 128)         3276928   \n",
      "_________________________________________________________________\n",
      "dec_deconv2 (Conv2DTranspose (None, 13, 13, 64)        204864    \n",
      "_________________________________________________________________\n",
      "dec_deconv3 (Conv2DTranspose (None, 30, 30, 32)        73760     \n",
      "_________________________________________________________________\n",
      "dec_deconv4 (Conv2DTranspose (None, 64, 64, 3)         3459      \n",
      "=================================================================\n",
      "Total params: 3,592,803\n",
      "Trainable params: 3,592,803\n",
      "Non-trainable params: 0\n",
      "_________________________________________________________________\n"
     ]
    }
   ],
   "source": [
    "V_inv.summary()"
   ]
  },
  {
   "cell_type": "code",
   "execution_count": 10,
   "metadata": {},
   "outputs": [],
   "source": [
    "M = buildMemory('weights/2019.12.07/mdn_rnn_weights')\n",
    "get_hidden = K.function(M.layers[0].input, M.layers[0].output)"
   ]
  },
  {
   "cell_type": "code",
   "execution_count": 11,
   "metadata": {},
   "outputs": [],
   "source": [
    "# tf.keras.backend.set_floatx('float64')"
   ]
  },
  {
   "cell_type": "code",
   "execution_count": 12,
   "metadata": {},
   "outputs": [
    {
     "name": "stdout",
     "output_type": "stream",
     "text": [
      "Model: \"sequential\"\n",
      "_________________________________________________________________\n",
      "Layer (type)                 Output Shape              Param #   \n",
      "=================================================================\n",
      "lstm (LSTM)                  (None, None, 256)         299008    \n",
      "_________________________________________________________________\n",
      "mdn (MDN)                    (None, None, 325)         83525     \n",
      "=================================================================\n",
      "Total params: 382,533\n",
      "Trainable params: 382,533\n",
      "Non-trainable params: 0\n",
      "_________________________________________________________________\n"
     ]
    }
   ],
   "source": [
    "M.summary()"
   ]
  },
  {
   "cell_type": "code",
   "execution_count": 12,
   "metadata": {},
   "outputs": [],
   "source": [
    "class Controller():\n",
    "    def __init__(self, input_size, output_size):\n",
    "        self._in = input_size\n",
    "        self._out = output_size\n",
    "        self.W = np.random.randn(input_size, output_size)\n",
    "    \n",
    "    def clip(self, x, lo=0.0, hi=1.0):\n",
    "        return np.minimum(np.maximum(x, lo), hi)\n",
    "    \n",
    "    def sigmoid(self, x):\n",
    "        return 1 / (1 + np.exp(-x))\n",
    "    \n",
    "    def __call__(self, obs):\n",
    "        action = np.dot(obs, self.W)\n",
    "        \n",
    "        action[0] = np.tanh(action[0])\n",
    "        action[1] = self.sigmoid(action[1])\n",
    "        action[2] = self.clip(np.tanh(action[2]))\n",
    "        \n",
    "        return action\n",
    "    \n",
    "    def set_weights(self, W):\n",
    "        # assume W is flat.\n",
    "        self.W = np.reshape(W, self.W.shape)\n",
    "        \n",
    "    def randomly_init(self):\n",
    "        self.W = np.random.randn(*self.W.shape)\n",
    "       \n",
    "    @property\n",
    "    def shape(self):\n",
    "        return self.W.shape"
   ]
  },
  {
   "cell_type": "code",
   "execution_count": 13,
   "metadata": {},
   "outputs": [],
   "source": [
    "controller = Controller(32+256, 3)"
   ]
  },
  {
   "cell_type": "code",
   "execution_count": 14,
   "metadata": {},
   "outputs": [],
   "source": [
    "import gym"
   ]
  },
  {
   "cell_type": "code",
   "execution_count": 15,
   "metadata": {},
   "outputs": [],
   "source": [
    "env = gym.make(\"CarRacing-v0\")"
   ]
  },
  {
   "cell_type": "code",
   "execution_count": 16,
   "metadata": {},
   "outputs": [
    {
     "name": "stdout",
     "output_type": "stream",
     "text": [
      "Track generation: 1208..1514 -> 306-tiles track\n"
     ]
    }
   ],
   "source": [
    "state = preprocess_images(env.reset())\n",
    "env.close()"
   ]
  },
  {
   "cell_type": "code",
   "execution_count": 53,
   "metadata": {},
   "outputs": [],
   "source": [
    "def rollout(controller, playback=False):\n",
    "    if playback:\n",
    "        ims = []\n",
    "    state = preprocess_images(env.reset())\n",
    "    \n",
    "    M.reset_states()\n",
    "    h = np.zeros(256)\n",
    "    done = False\n",
    "    cumulative_reward = 0\n",
    "    \n",
    "    while not done:\n",
    "        _state = np.zeros((128, 64, 64, 3))\n",
    "        _state[0] = state\n",
    "        \n",
    "        if playback:\n",
    "            ims.append(state)\n",
    "        z = V(_state)[2][0] #extract first from batch and sequence\n",
    "\n",
    "        # combine V latent space with M hidden space \n",
    "        combined = np.concatenate([z, h], axis=0)\n",
    "        \n",
    "        a = controller(combined)\n",
    "        \n",
    "        state, reward, done, info = env.step(a)\n",
    "        state = preprocess_images(state)\n",
    "        \n",
    "        cumulative_reward += reward\n",
    "\n",
    "        \n",
    "        # extract hidden state from LSTM\n",
    "        h = get_hidden(tf.expand_dims(tf.expand_dims(np.concatenate([z, a], 0), 0), 0)).squeeze()\n",
    "    \n",
    "        # get factored gaussians\n",
    "        # by feeding current latent_state + action\n",
    "        z = M(tf.expand_dims(tf.expand_dims(np.concatenate([z, a]), 0), 0))\n",
    "        \n",
    "        # sample from factored gaussians\n",
    "        # 32 = output_dims\n",
    "        # 5  = num_mixtures\n",
    "        z = np.apply_along_axis(mdn.sample_from_output, 1, z[0], 32, 5, temp=1.0).squeeze()\n",
    "\n",
    "    env.close()\n",
    "    if playback:\n",
    "        return cumulative_reward, ims\n",
    "    return cumulative_reward"
   ]
  },
  {
   "cell_type": "code",
   "execution_count": 21,
   "metadata": {},
   "outputs": [],
   "source": [
    "import time"
   ]
  },
  {
   "cell_type": "code",
   "execution_count": 22,
   "metadata": {
    "scrolled": true
   },
   "outputs": [
    {
     "name": "stdout",
     "output_type": "stream",
     "text": [
      "Track generation: 1098..1385 -> 287-tiles track\n"
     ]
    }
   ],
   "source": [
    "start = time.time()\n",
    "rollout(controller)\n",
    "end = time.time() - start"
   ]
  },
  {
   "cell_type": "code",
   "execution_count": 30,
   "metadata": {},
   "outputs": [
    {
     "data": {
      "text/plain": [
       "11.0"
      ]
     },
     "execution_count": 30,
     "metadata": {},
     "output_type": "execute_result"
    }
   ],
   "source": [
    "end * 50 * 10 // 3600"
   ]
  },
  {
   "cell_type": "code",
   "execution_count": null,
   "metadata": {},
   "outputs": [],
   "source": []
  },
  {
   "cell_type": "code",
   "execution_count": 31,
   "metadata": {},
   "outputs": [],
   "source": [
    "from es import SimpleGA, CMAES, PEPG, OpenES"
   ]
  },
  {
   "cell_type": "code",
   "execution_count": 32,
   "metadata": {},
   "outputs": [],
   "source": [
    "NPARAMS = controller.shape[0] * controller.shape[1]\n",
    "NPOPULATION = 10    # use population size of 101.\n",
    "MAX_ITERATION = 50 # run each solver for 1000 generations."
   ]
  },
  {
   "cell_type": "code",
   "execution_count": 33,
   "metadata": {},
   "outputs": [],
   "source": [
    "def fit_func(params):\n",
    "    controller.set_weights(params)\n",
    "    reward = rollout(controller)\n",
    "    return reward"
   ]
  },
  {
   "cell_type": "code",
   "execution_count": 34,
   "metadata": {},
   "outputs": [],
   "source": [
    "def test_solver(solver):\n",
    "    history = []\n",
    "    for j in tqdm(range(MAX_ITERATION)):\n",
    "        solutions = solver.ask()\n",
    "        fitness_list = np.zeros(solver.popsize)\n",
    "        for i in range(solver.popsize):\n",
    "            fitness_list[i] = fit_func(solutions[i])\n",
    "        solver.tell(fitness_list)\n",
    "        result = solver.result() # first element is the best solution, second element is the best fitness\n",
    "        history.append(result[1])\n",
    "        if (j+1) % 100 == 0:\n",
    "            print(\"fitness at iteration\", (j+1), result[1])\n",
    "    print(\"local optimum discovered by solver:\\n\", result[0])\n",
    "    print(\"fitness score at this local optimum:\", result[1])\n",
    "    return history, result"
   ]
  },
  {
   "cell_type": "code",
   "execution_count": 36,
   "metadata": {},
   "outputs": [],
   "source": [
    "# defines OpenAI's ES algorithm solver. Note that we needed to anneal the sigma parameter\n",
    "oes = OpenES(NPARAMS,                  # number of model parameters\n",
    "                sigma_init=0.5,            # initial standard deviation\n",
    "                sigma_decay=0.999,         # don't anneal standard deviation\n",
    "                learning_rate=0.1,         # learning rate for standard deviation\n",
    "                learning_rate_decay = 1.0, # annealing the learning rate\n",
    "                popsize=NPOPULATION,       # population size\n",
    "                antithetic=False,          # whether to use antithetic sampling\n",
    "                weight_decay=0.00,         # weight decay coefficient\n",
    "                rank_fitness=False,        # use rank rather than fitness numbers\n",
    "                forget_best=False)"
   ]
  },
  {
   "cell_type": "code",
   "execution_count": 38,
   "metadata": {},
   "outputs": [],
   "source": [
    "from tqdm import tqdm"
   ]
  },
  {
   "cell_type": "code",
   "execution_count": 39,
   "metadata": {
    "scrolled": true
   },
   "outputs": [
    {
     "name": "stderr",
     "output_type": "stream",
     "text": [
      "\r",
      "  0%|          | 0/50 [00:00<?, ?it/s]"
     ]
    },
    {
     "name": "stdout",
     "output_type": "stream",
     "text": [
      "Track generation: 1270..1599 -> 329-tiles track\n",
      "Track generation: 1080..1354 -> 274-tiles track\n",
      "Track generation: 1106..1387 -> 281-tiles track\n",
      "Track generation: 1175..1473 -> 298-tiles track\n",
      "Track generation: 1046..1313 -> 267-tiles track\n",
      "Track generation: 1148..1439 -> 291-tiles track\n",
      "Track generation: 1196..1498 -> 302-tiles track\n",
      "Track generation: 1184..1484 -> 300-tiles track\n",
      "Track generation: 1189..1491 -> 302-tiles track\n",
      "Track generation: 1094..1379 -> 285-tiles track\n"
     ]
    },
    {
     "name": "stderr",
     "output_type": "stream",
     "text": [
      "\r",
      "  2%|▏         | 1/50 [13:50<11:18:09, 830.39s/it]"
     ]
    },
    {
     "name": "stdout",
     "output_type": "stream",
     "text": [
      "Track generation: 1470..1842 -> 372-tiles track\n",
      "Track generation: 1193..1495 -> 302-tiles track\n",
      "Track generation: 1215..1523 -> 308-tiles track\n",
      "Track generation: 1186..1487 -> 301-tiles track\n",
      "Track generation: 1112..1400 -> 288-tiles track\n",
      "Track generation: 1140..1434 -> 294-tiles track\n",
      "Track generation: 1283..1608 -> 325-tiles track\n",
      "Track generation: 1198..1501 -> 303-tiles track\n",
      "Track generation: 1216..1530 -> 314-tiles track\n",
      "Track generation: 1080..1360 -> 280-tiles track\n"
     ]
    },
    {
     "name": "stderr",
     "output_type": "stream",
     "text": [
      "\r",
      "  4%|▍         | 2/50 [27:51<11:06:53, 833.61s/it]"
     ]
    },
    {
     "name": "stdout",
     "output_type": "stream",
     "text": [
      "Track generation: 1149..1441 -> 292-tiles track\n",
      "Track generation: 1083..1366 -> 283-tiles track\n",
      "Track generation: 1197..1505 -> 308-tiles track\n",
      "retry to generate track (normal if there are not many of this messages)\n",
      "Track generation: 1353..1695 -> 342-tiles track\n",
      "Track generation: 1184..1484 -> 300-tiles track\n",
      "Track generation: 1160..1454 -> 294-tiles track\n",
      "Track generation: 1158..1456 -> 298-tiles track\n",
      "Track generation: 1059..1328 -> 269-tiles track\n",
      "Track generation: 1091..1368 -> 277-tiles track\n",
      "Track generation: 1245..1560 -> 315-tiles track\n",
      "Track generation: 1217..1528 -> 311-tiles track\n",
      "retry to generate track (normal if there are not many of this messages)\n",
      "Track generation: 1067..1338 -> 271-tiles track\n"
     ]
    },
    {
     "name": "stderr",
     "output_type": "stream",
     "text": [
      "\r",
      "  6%|▌         | 3/50 [41:46<10:53:18, 834.01s/it]"
     ]
    },
    {
     "name": "stdout",
     "output_type": "stream",
     "text": [
      "Track generation: 1233..1546 -> 313-tiles track\n",
      "Track generation: 1176..1474 -> 298-tiles track\n",
      "Track generation: 1072..1344 -> 272-tiles track\n",
      "Track generation: 1101..1386 -> 285-tiles track\n",
      "Track generation: 1143..1433 -> 290-tiles track\n",
      "Track generation: 1154..1447 -> 293-tiles track\n",
      "Track generation: 1231..1543 -> 312-tiles track\n",
      "Track generation: 1097..1374 -> 277-tiles track\n",
      "Track generation: 1120..1414 -> 294-tiles track\n",
      "Track generation: 1050..1322 -> 272-tiles track\n"
     ]
    },
    {
     "name": "stderr",
     "output_type": "stream",
     "text": [
      "\r",
      "  8%|▊         | 4/50 [55:41<10:39:40, 834.36s/it]"
     ]
    },
    {
     "name": "stdout",
     "output_type": "stream",
     "text": [
      "Track generation: 1067..1338 -> 271-tiles track\n",
      "Track generation: 1103..1383 -> 280-tiles track\n",
      "Track generation: 1054..1329 -> 275-tiles track\n",
      "Track generation: 1131..1418 -> 287-tiles track\n",
      "Track generation: 1107..1388 -> 281-tiles track\n",
      "Track generation: 1100..1386 -> 286-tiles track\n",
      "Track generation: 1087..1363 -> 276-tiles track\n",
      "Track generation: 1031..1293 -> 262-tiles track\n",
      "Track generation: 1151..1443 -> 292-tiles track\n",
      "Track generation: 1196..1499 -> 303-tiles track\n"
     ]
    },
    {
     "name": "stderr",
     "output_type": "stream",
     "text": [
      "\r",
      " 10%|█         | 5/50 [1:09:35<10:25:36, 834.13s/it]"
     ]
    },
    {
     "name": "stdout",
     "output_type": "stream",
     "text": [
      "Track generation: 1275..1598 -> 323-tiles track\n",
      "Track generation: 1208..1514 -> 306-tiles track\n",
      "Track generation: 1244..1559 -> 315-tiles track\n",
      "Track generation: 1155..1448 -> 293-tiles track\n",
      "Track generation: 1305..1641 -> 336-tiles track\n",
      "Track generation: 1411..1768 -> 357-tiles track\n",
      "Track generation: 1043..1308 -> 265-tiles track\n",
      "Track generation: 1240..1554 -> 314-tiles track\n",
      "Track generation: 1311..1643 -> 332-tiles track\n",
      "Track generation: 1107..1388 -> 281-tiles track\n"
     ]
    },
    {
     "name": "stderr",
     "output_type": "stream",
     "text": [
      "\r",
      " 12%|█▏        | 6/50 [1:23:40<10:14:10, 837.51s/it]"
     ]
    },
    {
     "name": "stdout",
     "output_type": "stream",
     "text": [
      "Track generation: 1294..1624 -> 330-tiles track\n",
      "retry to generate track (normal if there are not many of this messages)\n",
      "Track generation: 1208..1514 -> 306-tiles track\n",
      "Track generation: 1171..1468 -> 297-tiles track\n",
      "Track generation: 1038..1311 -> 273-tiles track\n",
      "Track generation: 1049..1316 -> 267-tiles track\n",
      "retry to generate track (normal if there are not many of this messages)\n",
      "Track generation: 1169..1465 -> 296-tiles track\n",
      "Track generation: 1108..1389 -> 281-tiles track\n",
      "Track generation: 1408..1764 -> 356-tiles track\n",
      "Track generation: 1068..1339 -> 271-tiles track\n",
      "Track generation: 1108..1389 -> 281-tiles track\n",
      "Track generation: 1180..1479 -> 299-tiles track\n",
      "Track generation: 1131..1418 -> 287-tiles track\n"
     ]
    },
    {
     "name": "stderr",
     "output_type": "stream",
     "text": [
      "\r",
      " 14%|█▍        | 7/50 [1:37:38<10:00:15, 837.57s/it]"
     ]
    },
    {
     "name": "stdout",
     "output_type": "stream",
     "text": [
      "Track generation: 1005..1260 -> 255-tiles track\n",
      "Track generation: 1213..1522 -> 309-tiles track\n",
      "Track generation: 1036..1299 -> 263-tiles track\n",
      "Track generation: 1160..1454 -> 294-tiles track\n",
      "Track generation: 1179..1478 -> 299-tiles track\n",
      "Track generation: 1025..1285 -> 260-tiles track\n",
      "Track generation: 1188..1490 -> 302-tiles track\n",
      "Track generation: 1241..1555 -> 314-tiles track\n",
      "Track generation: 1095..1373 -> 278-tiles track\n",
      "Track generation: 1129..1418 -> 289-tiles track\n",
      "retry to generate track (normal if there are not many of this messages)\n",
      "Track generation: 1149..1440 -> 291-tiles track\n"
     ]
    },
    {
     "name": "stderr",
     "output_type": "stream",
     "text": [
      "\r",
      " 16%|█▌        | 8/50 [1:51:30<9:45:13, 836.04s/it] "
     ]
    },
    {
     "name": "stdout",
     "output_type": "stream",
     "text": [
      "Track generation: 1008..1264 -> 256-tiles track\n",
      "Track generation: 1129..1416 -> 287-tiles track\n",
      "Track generation: 1135..1423 -> 288-tiles track\n",
      "Track generation: 1403..1758 -> 355-tiles track\n",
      "Track generation: 1141..1430 -> 289-tiles track\n",
      "Track generation: 1147..1438 -> 291-tiles track\n",
      "Track generation: 1071..1343 -> 272-tiles track\n",
      "Track generation: 1211..1518 -> 307-tiles track\n",
      "Track generation: 1143..1437 -> 294-tiles track\n",
      "Track generation: 1122..1413 -> 291-tiles track\n"
     ]
    },
    {
     "name": "stderr",
     "output_type": "stream",
     "text": [
      "\r",
      " 18%|█▊        | 9/50 [2:05:27<9:31:21, 836.14s/it]"
     ]
    },
    {
     "name": "stdout",
     "output_type": "stream",
     "text": [
      "Track generation: 984..1237 -> 253-tiles track\n",
      "retry to generate track (normal if there are not many of this messages)\n",
      "Track generation: 948..1194 -> 246-tiles track\n",
      "Track generation: 1153..1453 -> 300-tiles track\n",
      "Track generation: 1081..1355 -> 274-tiles track\n",
      "Track generation: 1431..1793 -> 362-tiles track\n",
      "Track generation: 1279..1603 -> 324-tiles track\n",
      "Track generation: 1398..1752 -> 354-tiles track\n",
      "Track generation: 1066..1337 -> 271-tiles track\n",
      "Track generation: 1275..1598 -> 323-tiles track\n",
      "Track generation: 1153..1445 -> 292-tiles track\n",
      "Track generation: 1023..1291 -> 268-tiles track\n"
     ]
    },
    {
     "name": "stderr",
     "output_type": "stream",
     "text": [
      "\r",
      " 20%|██        | 10/50 [2:19:23<9:17:25, 836.15s/it]"
     ]
    },
    {
     "name": "stdout",
     "output_type": "stream",
     "text": [
      "Track generation: 1313..1646 -> 333-tiles track\n",
      "Track generation: 1204..1509 -> 305-tiles track\n",
      "Track generation: 1176..1474 -> 298-tiles track\n",
      "Track generation: 1172..1469 -> 297-tiles track\n",
      "Track generation: 1119..1403 -> 284-tiles track\n",
      "Track generation: 1140..1429 -> 289-tiles track\n",
      "Track generation: 1296..1625 -> 329-tiles track\n",
      "Track generation: 1056..1324 -> 268-tiles track\n",
      "Track generation: 1298..1626 -> 328-tiles track\n",
      "Track generation: 1213..1526 -> 313-tiles track\n"
     ]
    },
    {
     "name": "stderr",
     "output_type": "stream",
     "text": [
      "\r",
      " 22%|██▏       | 11/50 [2:33:18<9:03:21, 835.94s/it]"
     ]
    },
    {
     "name": "stdout",
     "output_type": "stream",
     "text": [
      "Track generation: 1056..1324 -> 268-tiles track\n",
      "Track generation: 1138..1434 -> 296-tiles track\n",
      "Track generation: 986..1245 -> 259-tiles track\n",
      "Track generation: 1116..1399 -> 283-tiles track\n",
      "Track generation: 1024..1284 -> 260-tiles track\n",
      "Track generation: 1180..1479 -> 299-tiles track\n",
      "Track generation: 1125..1410 -> 285-tiles track\n",
      "Track generation: 1435..1798 -> 363-tiles track\n",
      "Track generation: 1239..1553 -> 314-tiles track\n",
      "Track generation: 1120..1404 -> 284-tiles track\n"
     ]
    },
    {
     "name": "stderr",
     "output_type": "stream",
     "text": [
      "\r",
      " 24%|██▍       | 12/50 [2:47:12<8:49:04, 835.38s/it]"
     ]
    },
    {
     "name": "stdout",
     "output_type": "stream",
     "text": [
      "Track generation: 1193..1495 -> 302-tiles track\n",
      "Track generation: 1138..1426 -> 288-tiles track\n",
      "Track generation: 1099..1378 -> 279-tiles track\n",
      "Track generation: 1147..1438 -> 291-tiles track\n",
      "Track generation: 1163..1458 -> 295-tiles track\n",
      "Track generation: 1133..1420 -> 287-tiles track\n",
      "Track generation: 1103..1383 -> 280-tiles track\n",
      "Track generation: 1045..1318 -> 273-tiles track\n",
      "Track generation: 1073..1345 -> 272-tiles track\n",
      "Track generation: 1179..1478 -> 299-tiles track\n"
     ]
    },
    {
     "name": "stderr",
     "output_type": "stream",
     "text": [
      "\r",
      " 26%|██▌       | 13/50 [3:00:59<8:33:36, 832.89s/it]"
     ]
    },
    {
     "name": "stdout",
     "output_type": "stream",
     "text": [
      "Track generation: 1336..1674 -> 338-tiles track\n",
      "Track generation: 1134..1431 -> 297-tiles track\n",
      "Track generation: 997..1258 -> 261-tiles track\n",
      "Track generation: 1183..1483 -> 300-tiles track\n",
      "Track generation: 1152..1443 -> 291-tiles track\n",
      "Track generation: 913..1153 -> 240-tiles track\n",
      "Track generation: 1208..1514 -> 306-tiles track\n",
      "Track generation: 1056..1324 -> 268-tiles track\n",
      "Track generation: 1286..1612 -> 326-tiles track\n",
      "Track generation: 1143..1433 -> 290-tiles track\n"
     ]
    },
    {
     "name": "stderr",
     "output_type": "stream",
     "text": [
      "\r",
      " 28%|██▊       | 14/50 [3:14:55<8:20:08, 833.57s/it]"
     ]
    },
    {
     "name": "stdout",
     "output_type": "stream",
     "text": [
      "Track generation: 1046..1320 -> 274-tiles track\n",
      "Track generation: 1240..1554 -> 314-tiles track\n",
      "Track generation: 1092..1369 -> 277-tiles track\n",
      "Track generation: 1192..1494 -> 302-tiles track\n",
      "Track generation: 1045..1310 -> 265-tiles track\n",
      "Track generation: 1080..1354 -> 274-tiles track\n",
      "Track generation: 1197..1510 -> 313-tiles track\n",
      "Track generation: 1188..1488 -> 300-tiles track\n",
      "Track generation: 1248..1564 -> 316-tiles track\n",
      "Track generation: 1041..1309 -> 268-tiles track\n",
      "retry to generate track (normal if there are not many of this messages)\n",
      "Track generation: 1305..1635 -> 330-tiles track\n"
     ]
    },
    {
     "name": "stderr",
     "output_type": "stream",
     "text": [
      "\r",
      " 30%|███       | 15/50 [3:28:49<8:06:27, 833.93s/it]"
     ]
    },
    {
     "name": "stdout",
     "output_type": "stream",
     "text": [
      "Track generation: 1062..1337 -> 275-tiles track\n",
      "Track generation: 1179..1478 -> 299-tiles track\n",
      "Track generation: 1150..1443 -> 293-tiles track\n",
      "Track generation: 1119..1407 -> 288-tiles track\n",
      "Track generation: 1278..1608 -> 330-tiles track\n",
      "Track generation: 1204..1508 -> 304-tiles track\n",
      "Track generation: 1116..1399 -> 283-tiles track\n",
      "Track generation: 1327..1664 -> 337-tiles track\n",
      "Track generation: 1092..1369 -> 277-tiles track\n",
      "Track generation: 1213..1527 -> 314-tiles track\n"
     ]
    },
    {
     "name": "stderr",
     "output_type": "stream",
     "text": [
      "\r",
      " 32%|███▏      | 16/50 [3:42:52<7:54:02, 836.53s/it]"
     ]
    },
    {
     "name": "stdout",
     "output_type": "stream",
     "text": [
      "Track generation: 1307..1638 -> 331-tiles track\n",
      "Track generation: 1179..1478 -> 299-tiles track\n",
      "Track generation: 1180..1479 -> 299-tiles track\n",
      "Track generation: 1175..1475 -> 300-tiles track\n",
      "Track generation: 1170..1466 -> 296-tiles track\n",
      "Track generation: 1208..1519 -> 311-tiles track\n",
      "Track generation: 1151..1443 -> 292-tiles track\n",
      "Track generation: 1116..1400 -> 284-tiles track\n",
      "retry to generate track (normal if there are not many of this messages)\n",
      "Track generation: 1225..1535 -> 310-tiles track\n",
      "Track generation: 1117..1400 -> 283-tiles track\n",
      "Track generation: 1022..1284 -> 262-tiles track\n",
      "retry to generate track (normal if there are not many of this messages)\n",
      "Track generation: 1082..1356 -> 274-tiles track\n"
     ]
    },
    {
     "name": "stderr",
     "output_type": "stream",
     "text": [
      "\r",
      " 34%|███▍      | 17/50 [3:56:49<7:40:05, 836.52s/it]"
     ]
    },
    {
     "name": "stdout",
     "output_type": "stream",
     "text": [
      "Track generation: 1076..1349 -> 273-tiles track\n",
      "Track generation: 1152..1444 -> 292-tiles track\n",
      "Track generation: 1047..1322 -> 275-tiles track\n",
      "Track generation: 1263..1583 -> 320-tiles track\n",
      "Track generation: 1080..1354 -> 274-tiles track\n",
      "Track generation: 1145..1435 -> 290-tiles track\n",
      "Track generation: 1306..1636 -> 330-tiles track\n",
      "Track generation: 1048..1319 -> 271-tiles track\n",
      "Track generation: 1171..1468 -> 297-tiles track\n",
      "Track generation: 1207..1513 -> 306-tiles track\n"
     ]
    },
    {
     "name": "stderr",
     "output_type": "stream",
     "text": [
      "\r",
      " 36%|███▌      | 18/50 [4:10:44<7:25:59, 836.23s/it]"
     ]
    },
    {
     "name": "stdout",
     "output_type": "stream",
     "text": [
      "Track generation: 1309..1640 -> 331-tiles track\n",
      "Track generation: 1174..1472 -> 298-tiles track\n",
      "Track generation: 1144..1441 -> 297-tiles track\n",
      "Track generation: 1194..1496 -> 302-tiles track\n",
      "Track generation: 1196..1499 -> 303-tiles track\n",
      "Track generation: 1109..1398 -> 289-tiles track\n",
      "Track generation: 1204..1517 -> 313-tiles track\n",
      "Track generation: 1001..1265 -> 264-tiles track\n",
      "Track generation: 1195..1498 -> 303-tiles track\n",
      "Track generation: 1093..1370 -> 277-tiles track\n"
     ]
    },
    {
     "name": "stderr",
     "output_type": "stream",
     "text": [
      "\r",
      " 38%|███▊      | 19/50 [4:24:43<7:12:25, 836.95s/it]"
     ]
    },
    {
     "name": "stdout",
     "output_type": "stream",
     "text": [
      "Track generation: 1215..1523 -> 308-tiles track\n",
      "Track generation: 1002..1266 -> 264-tiles track\n",
      "Track generation: 1188..1489 -> 301-tiles track\n",
      "Track generation: 1184..1484 -> 300-tiles track\n",
      "Track generation: 1160..1455 -> 295-tiles track\n",
      "Track generation: 1155..1448 -> 293-tiles track\n",
      "Track generation: 1162..1461 -> 299-tiles track\n",
      "Track generation: 1164..1459 -> 295-tiles track\n",
      "Track generation: 1301..1630 -> 329-tiles track\n",
      "Track generation: 1327..1663 -> 336-tiles track\n"
     ]
    },
    {
     "name": "stderr",
     "output_type": "stream",
     "text": [
      "\r",
      " 40%|████      | 20/50 [4:38:47<6:59:34, 839.13s/it]"
     ]
    },
    {
     "name": "stdout",
     "output_type": "stream",
     "text": [
      "Track generation: 1145..1435 -> 290-tiles track\n",
      "Track generation: 1098..1378 -> 280-tiles track\n",
      "retry to generate track (normal if there are not many of this messages)\n",
      "Track generation: 1113..1404 -> 291-tiles track\n",
      "Track generation: 1138..1427 -> 289-tiles track\n",
      "Track generation: 1089..1369 -> 280-tiles track\n",
      "retry to generate track (normal if there are not many of this messages)\n",
      "Track generation: 1060..1329 -> 269-tiles track\n",
      "Track generation: 1100..1380 -> 280-tiles track\n",
      "retry to generate track (normal if there are not many of this messages)\n",
      "Track generation: 991..1243 -> 252-tiles track\n",
      "Track generation: 1281..1605 -> 324-tiles track\n",
      "Track generation: 1184..1484 -> 300-tiles track\n",
      "Track generation: 1220..1529 -> 309-tiles track\n",
      "Track generation: 1238..1592 -> 354-tiles track\n",
      "retry to generate track (normal if there are not many of this messages)\n",
      "Track generation: 1026..1291 -> 265-tiles track\n",
      "Track generation: 1032..1294 -> 262-tiles track\n"
     ]
    },
    {
     "name": "stderr",
     "output_type": "stream",
     "text": [
      "\r",
      " 42%|████▏     | 21/50 [4:52:46<6:45:34, 839.12s/it]"
     ]
    },
    {
     "name": "stdout",
     "output_type": "stream",
     "text": [
      "Track generation: 1213..1521 -> 308-tiles track\n",
      "Track generation: 1310..1643 -> 333-tiles track\n",
      "Track generation: 1248..1564 -> 316-tiles track\n",
      "Track generation: 1156..1449 -> 293-tiles track\n",
      "Track generation: 1359..1703 -> 344-tiles track\n",
      "Track generation: 1147..1438 -> 291-tiles track\n",
      "Track generation: 1016..1279 -> 263-tiles track\n",
      "Track generation: 1205..1511 -> 306-tiles track\n",
      "Track generation: 1336..1674 -> 338-tiles track\n",
      "Track generation: 1012..1278 -> 266-tiles track\n"
     ]
    },
    {
     "name": "stderr",
     "output_type": "stream",
     "text": [
      "\r",
      " 44%|████▍     | 22/50 [5:06:53<6:32:38, 841.37s/it]"
     ]
    },
    {
     "name": "stdout",
     "output_type": "stream",
     "text": [
      "Track generation: 1011..1268 -> 257-tiles track\n",
      "Track generation: 1040..1310 -> 270-tiles track\n",
      "Track generation: 1155..1448 -> 293-tiles track\n",
      "Track generation: 1146..1442 -> 296-tiles track\n",
      "Track generation: 1396..1749 -> 353-tiles track\n",
      "Track generation: 1220..1529 -> 309-tiles track\n",
      "Track generation: 1211..1517 -> 306-tiles track\n",
      "Track generation: 1156..1449 -> 293-tiles track\n",
      "Track generation: 1191..1493 -> 302-tiles track\n",
      "Track generation: 1067..1338 -> 271-tiles track\n"
     ]
    },
    {
     "name": "stderr",
     "output_type": "stream",
     "text": [
      "\r",
      " 46%|████▌     | 23/50 [5:20:56<6:18:51, 841.91s/it]"
     ]
    },
    {
     "name": "stdout",
     "output_type": "stream",
     "text": [
      "Track generation: 1035..1305 -> 270-tiles track\n",
      "Track generation: 1096..1374 -> 278-tiles track\n",
      "Track generation: 1190..1490 -> 300-tiles track\n",
      "Track generation: 1175..1473 -> 298-tiles track\n",
      "Track generation: 1160..1454 -> 294-tiles track\n",
      "Track generation: 1213..1523 -> 310-tiles track\n",
      "retry to generate track (normal if there are not many of this messages)\n",
      "Track generation: 1155..1448 -> 293-tiles track\n",
      "Track generation: 1168..1464 -> 296-tiles track\n",
      "Track generation: 1090..1372 -> 282-tiles track\n",
      "Track generation: 1250..1566 -> 316-tiles track\n",
      "Track generation: 1119..1403 -> 284-tiles track\n",
      "retry to generate track (normal if there are not many of this messages)\n",
      "Track generation: 1036..1299 -> 263-tiles track\n"
     ]
    },
    {
     "name": "stderr",
     "output_type": "stream",
     "text": [
      "\r",
      " 48%|████▊     | 24/50 [5:34:53<6:04:12, 840.49s/it]"
     ]
    },
    {
     "name": "stdout",
     "output_type": "stream",
     "text": [
      "Track generation: 1219..1528 -> 309-tiles track\n",
      "Track generation: 1164..1469 -> 305-tiles track\n",
      "Track generation: 1288..1614 -> 326-tiles track\n",
      "Track generation: 1079..1353 -> 274-tiles track\n",
      "Track generation: 1208..1514 -> 306-tiles track\n",
      "Track generation: 1244..1559 -> 315-tiles track\n",
      "Track generation: 1046..1316 -> 270-tiles track\n",
      "Track generation: 1296..1624 -> 328-tiles track\n",
      "Track generation: 1251..1568 -> 317-tiles track\n",
      "Track generation: 1103..1383 -> 280-tiles track\n"
     ]
    },
    {
     "name": "stderr",
     "output_type": "stream",
     "text": [
      "\r",
      " 50%|█████     | 25/50 [5:49:00<5:50:58, 842.32s/it]"
     ]
    },
    {
     "name": "stdout",
     "output_type": "stream",
     "text": [
      "Track generation: 1128..1422 -> 294-tiles track\n",
      "Track generation: 1084..1359 -> 275-tiles track\n",
      "Track generation: 1181..1482 -> 301-tiles track\n",
      "Track generation: 1086..1362 -> 276-tiles track\n",
      "Track generation: 1071..1343 -> 272-tiles track\n",
      "Track generation: 1182..1482 -> 300-tiles track\n",
      "Track generation: 1195..1497 -> 302-tiles track\n",
      "Track generation: 1288..1614 -> 326-tiles track\n",
      "Track generation: 1165..1460 -> 295-tiles track\n",
      "Track generation: 1016..1274 -> 258-tiles track\n"
     ]
    },
    {
     "name": "stderr",
     "output_type": "stream",
     "text": [
      "\r",
      " 52%|█████▏    | 26/50 [6:03:00<5:36:45, 841.88s/it]"
     ]
    },
    {
     "name": "stdout",
     "output_type": "stream",
     "text": [
      "Track generation: 1171..1472 -> 301-tiles track\n",
      "Track generation: 1207..1513 -> 306-tiles track\n",
      "Track generation: 1011..1270 -> 259-tiles track\n",
      "retry to generate track (normal if there are not many of this messages)\n",
      "Track generation: 1098..1375 -> 277-tiles track\n",
      "Track generation: 1125..1417 -> 292-tiles track\n",
      "Track generation: 1172..1469 -> 297-tiles track\n",
      "Track generation: 991..1245 -> 254-tiles track\n",
      "Track generation: 1077..1350 -> 273-tiles track\n",
      "Track generation: 991..1247 -> 256-tiles track\n",
      "retry to generate track (normal if there are not many of this messages)\n",
      "Track generation: 1171..1468 -> 297-tiles track\n",
      "Track generation: 1239..1553 -> 314-tiles track\n",
      "Track generation: 1167..1463 -> 296-tiles track\n"
     ]
    },
    {
     "name": "stderr",
     "output_type": "stream",
     "text": [
      "\r",
      " 54%|█████▍    | 27/50 [6:17:04<5:22:55, 842.41s/it]"
     ]
    },
    {
     "name": "stdout",
     "output_type": "stream",
     "text": [
      "Track generation: 1059..1328 -> 269-tiles track\n",
      "Track generation: 1176..1474 -> 298-tiles track\n",
      "Track generation: 1232..1544 -> 312-tiles track\n",
      "Track generation: 949..1195 -> 246-tiles track\n",
      "Track generation: 1016..1282 -> 266-tiles track\n",
      "Track generation: 1043..1308 -> 265-tiles track\n",
      "Track generation: 1144..1440 -> 296-tiles track\n",
      "Track generation: 997..1259 -> 262-tiles track\n",
      "Track generation: 1183..1483 -> 300-tiles track\n",
      "Track generation: 1164..1459 -> 295-tiles track\n"
     ]
    },
    {
     "name": "stderr",
     "output_type": "stream",
     "text": [
      "\r",
      " 56%|█████▌    | 28/50 [6:31:05<5:08:46, 842.12s/it]"
     ]
    },
    {
     "name": "stdout",
     "output_type": "stream",
     "text": [
      "Track generation: 1125..1418 -> 293-tiles track\n",
      "Track generation: 1171..1468 -> 297-tiles track\n",
      "Track generation: 1051..1318 -> 267-tiles track\n",
      "Track generation: 1206..1512 -> 306-tiles track\n",
      "Track generation: 1205..1510 -> 305-tiles track\n",
      "Track generation: 1177..1475 -> 298-tiles track\n",
      "Track generation: 992..1247 -> 255-tiles track\n",
      "retry to generate track (normal if there are not many of this messages)\n",
      "Track generation: 1062..1340 -> 278-tiles track\n",
      "Track generation: 1086..1361 -> 275-tiles track\n",
      "Track generation: 1024..1289 -> 265-tiles track\n",
      "Track generation: 1363..1708 -> 345-tiles track\n"
     ]
    },
    {
     "name": "stderr",
     "output_type": "stream",
     "text": [
      "\r",
      " 58%|█████▊    | 29/50 [6:45:09<4:54:54, 842.60s/it]"
     ]
    },
    {
     "name": "stdout",
     "output_type": "stream",
     "text": [
      "Track generation: 1196..1499 -> 303-tiles track\n",
      "Track generation: 1007..1263 -> 256-tiles track\n",
      "Track generation: 1085..1360 -> 275-tiles track\n",
      "Track generation: 1131..1418 -> 287-tiles track\n",
      "Track generation: 1219..1528 -> 309-tiles track\n",
      "Track generation: 1047..1320 -> 273-tiles track\n",
      "Track generation: 1034..1305 -> 271-tiles track\n",
      "Track generation: 1051..1326 -> 275-tiles track\n",
      "Track generation: 1142..1431 -> 289-tiles track\n",
      "Track generation: 1350..1692 -> 342-tiles track\n"
     ]
    },
    {
     "name": "stderr",
     "output_type": "stream",
     "text": [
      "\r",
      " 60%|██████    | 30/50 [6:59:09<4:40:36, 841.81s/it]"
     ]
    },
    {
     "name": "stdout",
     "output_type": "stream",
     "text": [
      "Track generation: 1124..1409 -> 285-tiles track\n",
      "Track generation: 1098..1376 -> 278-tiles track\n",
      "Track generation: 1087..1368 -> 281-tiles track\n",
      "Track generation: 1033..1295 -> 262-tiles track\n",
      "Track generation: 892..1125 -> 233-tiles track\n",
      "Track generation: 1201..1505 -> 304-tiles track\n",
      "Track generation: 1118..1402 -> 284-tiles track\n",
      "Track generation: 1252..1569 -> 317-tiles track\n",
      "Track generation: 1245..1560 -> 315-tiles track\n",
      "Track generation: 1142..1436 -> 294-tiles track\n",
      "retry to generate track (normal if there are not many of this messages)\n",
      "Track generation: 1146..1436 -> 290-tiles track\n"
     ]
    },
    {
     "name": "stderr",
     "output_type": "stream",
     "text": [
      "\r",
      " 62%|██████▏   | 31/50 [7:13:09<4:26:23, 841.26s/it]"
     ]
    },
    {
     "name": "stdout",
     "output_type": "stream",
     "text": [
      "Track generation: 1124..1408 -> 284-tiles track\n",
      "Track generation: 1244..1559 -> 315-tiles track\n",
      "Track generation: 1190..1492 -> 302-tiles track\n",
      "Track generation: 1206..1517 -> 311-tiles track\n",
      "Track generation: 1259..1577 -> 318-tiles track\n",
      "Track generation: 1079..1353 -> 274-tiles track\n",
      "Track generation: 1027..1297 -> 270-tiles track\n",
      "Track generation: 1123..1408 -> 285-tiles track\n",
      "Track generation: 1200..1511 -> 311-tiles track\n",
      "Track generation: 1272..1594 -> 322-tiles track\n"
     ]
    },
    {
     "name": "stderr",
     "output_type": "stream",
     "text": [
      "\r",
      " 64%|██████▍   | 32/50 [7:27:22<4:13:26, 844.78s/it]"
     ]
    },
    {
     "name": "stdout",
     "output_type": "stream",
     "text": [
      "Track generation: 987..1240 -> 253-tiles track\n",
      "retry to generate track (normal if there are not many of this messages)\n",
      "Track generation: 1302..1631 -> 329-tiles track\n",
      "Track generation: 1160..1454 -> 294-tiles track\n",
      "Track generation: 1299..1628 -> 329-tiles track\n",
      "Track generation: 1168..1464 -> 296-tiles track\n",
      "Track generation: 1192..1504 -> 312-tiles track\n",
      "Track generation: 1199..1503 -> 304-tiles track\n",
      "Track generation: 1206..1512 -> 306-tiles track\n",
      "Track generation: 1065..1335 -> 270-tiles track\n",
      "Track generation: 1200..1504 -> 304-tiles track\n",
      "Track generation: 1328..1664 -> 336-tiles track\n"
     ]
    },
    {
     "name": "stderr",
     "output_type": "stream",
     "text": [
      "\r",
      " 66%|██████▌   | 33/50 [7:41:43<4:00:44, 849.67s/it]"
     ]
    },
    {
     "name": "stdout",
     "output_type": "stream",
     "text": [
      "Track generation: 1018..1284 -> 266-tiles track\n",
      "Track generation: 1088..1364 -> 276-tiles track\n",
      "Track generation: 1011..1268 -> 257-tiles track\n",
      "Track generation: 1115..1398 -> 283-tiles track\n",
      "Track generation: 1126..1415 -> 289-tiles track\n",
      "retry to generate track (normal if there are not many of this messages)\n",
      "Track generation: 1035..1298 -> 263-tiles track\n",
      "Track generation: 1139..1436 -> 297-tiles track\n",
      "Track generation: 1105..1385 -> 280-tiles track\n",
      "Track generation: 1047..1319 -> 272-tiles track\n",
      "Track generation: 1030..1298 -> 268-tiles track\n",
      "Track generation: 1426..1787 -> 361-tiles track\n"
     ]
    },
    {
     "name": "stderr",
     "output_type": "stream",
     "text": [
      "\r",
      " 68%|██████▊   | 34/50 [7:55:54<3:46:40, 850.05s/it]"
     ]
    },
    {
     "name": "stdout",
     "output_type": "stream",
     "text": [
      "Track generation: 1271..1593 -> 322-tiles track\n",
      "Track generation: 1163..1458 -> 295-tiles track\n",
      "Track generation: 928..1164 -> 236-tiles track\n",
      "Track generation: 1460..1829 -> 369-tiles track\n",
      "Track generation: 1186..1486 -> 300-tiles track\n",
      "Track generation: 1111..1400 -> 289-tiles track\n",
      "Track generation: 1158..1452 -> 294-tiles track\n",
      "Track generation: 1203..1508 -> 305-tiles track\n",
      "Track generation: 1128..1414 -> 286-tiles track\n",
      "Track generation: 1182..1488 -> 306-tiles track\n"
     ]
    },
    {
     "name": "stderr",
     "output_type": "stream",
     "text": [
      "\r",
      " 70%|███████   | 35/50 [8:10:11<3:33:02, 852.13s/it]"
     ]
    },
    {
     "name": "stdout",
     "output_type": "stream",
     "text": [
      "Track generation: 1110..1392 -> 282-tiles track\n",
      "Track generation: 1184..1484 -> 300-tiles track\n",
      "Track generation: 1043..1315 -> 272-tiles track\n",
      "Track generation: 1192..1491 -> 299-tiles track\n",
      "Track generation: 981..1230 -> 249-tiles track\n",
      "Track generation: 1148..1439 -> 291-tiles track\n",
      "Track generation: 1196..1499 -> 303-tiles track\n",
      "Track generation: 1175..1482 -> 307-tiles track\n",
      "Track generation: 1079..1353 -> 274-tiles track\n",
      "Track generation: 1132..1419 -> 287-tiles track\n"
     ]
    },
    {
     "name": "stderr",
     "output_type": "stream",
     "text": [
      "\r",
      " 72%|███████▏  | 36/50 [8:24:26<3:19:00, 852.88s/it]"
     ]
    },
    {
     "name": "stdout",
     "output_type": "stream",
     "text": [
      "Track generation: 1178..1483 -> 305-tiles track\n",
      "Track generation: 1272..1594 -> 322-tiles track\n",
      "Track generation: 1084..1359 -> 275-tiles track\n",
      "Track generation: 1297..1626 -> 329-tiles track\n",
      "Track generation: 1204..1508 -> 304-tiles track\n",
      "Track generation: 1164..1459 -> 295-tiles track\n",
      "Track generation: 1305..1646 -> 341-tiles track\n",
      "Track generation: 1128..1414 -> 286-tiles track\n",
      "Track generation: 1060..1335 -> 275-tiles track\n",
      "Track generation: 1113..1395 -> 282-tiles track\n"
     ]
    },
    {
     "name": "stderr",
     "output_type": "stream",
     "text": [
      "\r",
      " 74%|███████▍  | 37/50 [8:38:47<3:05:18, 855.25s/it]"
     ]
    },
    {
     "name": "stdout",
     "output_type": "stream",
     "text": [
      "Track generation: 1158..1455 -> 297-tiles track\n",
      "Track generation: 1111..1393 -> 282-tiles track\n",
      "Track generation: 1202..1507 -> 305-tiles track\n",
      "Track generation: 1261..1588 -> 327-tiles track\n",
      "Track generation: 1148..1439 -> 291-tiles track\n",
      "Track generation: 1292..1619 -> 327-tiles track\n",
      "Track generation: 1144..1434 -> 290-tiles track\n",
      "Track generation: 1052..1328 -> 276-tiles track\n",
      "Track generation: 1214..1530 -> 316-tiles track\n",
      "Track generation: 1200..1504 -> 304-tiles track\n"
     ]
    },
    {
     "name": "stderr",
     "output_type": "stream",
     "text": [
      "\r",
      " 76%|███████▌  | 38/50 [8:53:06<2:51:19, 856.64s/it]"
     ]
    },
    {
     "name": "stdout",
     "output_type": "stream",
     "text": [
      "Track generation: 1193..1495 -> 302-tiles track\n",
      "Track generation: 1157..1450 -> 293-tiles track\n",
      "Track generation: 1052..1323 -> 271-tiles track\n",
      "retry to generate track (normal if there are not many of this messages)\n",
      "Track generation: 1248..1564 -> 316-tiles track\n",
      "Track generation: 1108..1389 -> 281-tiles track\n",
      "Track generation: 1199..1503 -> 304-tiles track\n",
      "Track generation: 1155..1448 -> 293-tiles track\n",
      "Track generation: 1185..1485 -> 300-tiles track\n",
      "Track generation: 1025..1293 -> 268-tiles track\n",
      "Track generation: 1216..1524 -> 308-tiles track\n",
      "Track generation: 1248..1564 -> 316-tiles track\n"
     ]
    },
    {
     "name": "stderr",
     "output_type": "stream",
     "text": [
      "\r",
      " 78%|███████▊  | 39/50 [9:07:29<2:37:22, 858.42s/it]"
     ]
    },
    {
     "name": "stdout",
     "output_type": "stream",
     "text": [
      "Track generation: 1233..1545 -> 312-tiles track\n",
      "Track generation: 1181..1480 -> 299-tiles track\n",
      "Track generation: 1374..1721 -> 347-tiles track\n",
      "Track generation: 1014..1271 -> 257-tiles track\n",
      "Track generation: 1087..1363 -> 276-tiles track\n",
      "Track generation: 1193..1503 -> 310-tiles track\n",
      "Track generation: 1142..1439 -> 297-tiles track\n",
      "Track generation: 1151..1443 -> 292-tiles track\n",
      "Track generation: 1091..1368 -> 277-tiles track\n",
      "Track generation: 1192..1494 -> 302-tiles track\n"
     ]
    },
    {
     "name": "stderr",
     "output_type": "stream",
     "text": [
      "\r",
      " 80%|████████  | 40/50 [9:21:54<2:23:24, 860.42s/it]"
     ]
    },
    {
     "name": "stdout",
     "output_type": "stream",
     "text": [
      "Track generation: 934..1180 -> 246-tiles track\n",
      "Track generation: 1157..1456 -> 299-tiles track\n",
      "Track generation: 1014..1272 -> 258-tiles track\n",
      "retry to generate track (normal if there are not many of this messages)\n",
      "Track generation: 1111..1400 -> 289-tiles track\n",
      "Track generation: 1072..1344 -> 272-tiles track\n",
      "Track generation: 1212..1519 -> 307-tiles track\n",
      "Track generation: 1336..1674 -> 338-tiles track\n",
      "Track generation: 1283..1608 -> 325-tiles track\n",
      "Track generation: 1031..1293 -> 262-tiles track\n",
      "Track generation: 1197..1500 -> 303-tiles track\n",
      "Track generation: 1185..1485 -> 300-tiles track\n"
     ]
    },
    {
     "name": "stderr",
     "output_type": "stream",
     "text": [
      "\r",
      " 82%|████████▏ | 41/50 [9:36:12<2:08:58, 859.78s/it]"
     ]
    },
    {
     "name": "stdout",
     "output_type": "stream",
     "text": [
      "Track generation: 1152..1444 -> 292-tiles track\n",
      "Track generation: 1044..1309 -> 265-tiles track\n",
      "Track generation: 1135..1423 -> 288-tiles track\n",
      "Track generation: 1311..1643 -> 332-tiles track\n",
      "Track generation: 1179..1478 -> 299-tiles track\n",
      "Track generation: 1130..1424 -> 294-tiles track\n",
      "Track generation: 1064..1334 -> 270-tiles track\n",
      "Track generation: 1101..1380 -> 279-tiles track\n",
      "Track generation: 1012..1276 -> 264-tiles track\n",
      "Track generation: 1216..1525 -> 309-tiles track\n"
     ]
    },
    {
     "name": "stderr",
     "output_type": "stream",
     "text": [
      "\r",
      " 84%|████████▍ | 42/50 [9:50:37<1:54:50, 861.33s/it]"
     ]
    },
    {
     "name": "stdout",
     "output_type": "stream",
     "text": [
      "Track generation: 1206..1511 -> 305-tiles track\n",
      "Track generation: 1241..1556 -> 315-tiles track\n",
      "Track generation: 1228..1539 -> 311-tiles track\n",
      "Track generation: 1196..1507 -> 311-tiles track\n",
      "Track generation: 1135..1423 -> 288-tiles track\n",
      "Track generation: 1079..1353 -> 274-tiles track\n",
      "Track generation: 1199..1506 -> 307-tiles track\n",
      "Track generation: 1112..1394 -> 282-tiles track\n",
      "Track generation: 1235..1548 -> 313-tiles track\n",
      "Track generation: 1232..1544 -> 312-tiles track\n"
     ]
    },
    {
     "name": "stderr",
     "output_type": "stream",
     "text": [
      "\r",
      " 86%|████████▌ | 43/50 [10:05:06<1:40:44, 863.55s/it]"
     ]
    },
    {
     "name": "stdout",
     "output_type": "stream",
     "text": [
      "Track generation: 1121..1412 -> 291-tiles track\n",
      "Track generation: 1148..1439 -> 291-tiles track\n",
      "Track generation: 1261..1588 -> 327-tiles track\n",
      "Track generation: 1117..1400 -> 283-tiles track\n",
      "Track generation: 1068..1348 -> 280-tiles track\n",
      "Track generation: 1104..1384 -> 280-tiles track\n",
      "Track generation: 1073..1345 -> 272-tiles track\n",
      "Track generation: 1106..1387 -> 281-tiles track\n",
      "Track generation: 1048..1314 -> 266-tiles track\n",
      "Track generation: 1169..1465 -> 296-tiles track\n"
     ]
    },
    {
     "name": "stderr",
     "output_type": "stream",
     "text": [
      "\r",
      " 88%|████████▊ | 44/50 [10:19:28<1:26:18, 863.06s/it]"
     ]
    },
    {
     "name": "stdout",
     "output_type": "stream",
     "text": [
      "Track generation: 1233..1546 -> 313-tiles track\n",
      "Track generation: 1073..1354 -> 281-tiles track\n",
      "Track generation: 1084..1364 -> 280-tiles track\n",
      "Track generation: 1203..1518 -> 315-tiles track\n",
      "Track generation: 1139..1428 -> 289-tiles track\n",
      "Track generation: 1248..1564 -> 316-tiles track\n",
      "Track generation: 1295..1623 -> 328-tiles track\n",
      "Track generation: 1233..1546 -> 313-tiles track\n",
      "Track generation: 1203..1508 -> 305-tiles track\n",
      "Track generation: 1090..1366 -> 276-tiles track\n"
     ]
    },
    {
     "name": "stderr",
     "output_type": "stream",
     "text": [
      "\r",
      " 90%|█████████ | 45/50 [10:33:55<1:12:01, 864.23s/it]"
     ]
    },
    {
     "name": "stdout",
     "output_type": "stream",
     "text": [
      "Track generation: 1119..1403 -> 284-tiles track\n",
      "Track generation: 1180..1479 -> 299-tiles track\n",
      "Track generation: 1187..1494 -> 307-tiles track\n",
      "Track generation: 1081..1355 -> 274-tiles track\n",
      "Track generation: 1028..1289 -> 261-tiles track\n",
      "Track generation: 1158..1451 -> 293-tiles track\n",
      "Track generation: 1147..1438 -> 291-tiles track\n",
      "Track generation: 928..1200 -> 272-tiles track\n",
      "retry to generate track (normal if there are not many of this messages)\n",
      "Track generation: 1055..1323 -> 268-tiles track\n",
      "Track generation: 1110..1400 -> 290-tiles track\n",
      "Track generation: 1040..1304 -> 264-tiles track\n"
     ]
    },
    {
     "name": "stderr",
     "output_type": "stream",
     "text": [
      "\r",
      " 92%|█████████▏| 46/50 [10:47:58<57:11, 857.83s/it]  "
     ]
    },
    {
     "name": "stdout",
     "output_type": "stream",
     "text": [
      "Track generation: 1265..1585 -> 320-tiles track\n",
      "Track generation: 1238..1553 -> 315-tiles track\n",
      "Track generation: 1192..1494 -> 302-tiles track\n",
      "Track generation: 1107..1388 -> 281-tiles track\n",
      "Track generation: 1013..1279 -> 266-tiles track\n",
      "Track generation: 1128..1414 -> 286-tiles track\n",
      "Track generation: 1080..1359 -> 279-tiles track\n",
      "Track generation: 1083..1358 -> 275-tiles track\n",
      "Track generation: 1076..1349 -> 273-tiles track\n",
      "Track generation: 1120..1404 -> 284-tiles track\n"
     ]
    },
    {
     "name": "stderr",
     "output_type": "stream",
     "text": [
      "\r",
      " 94%|█████████▍| 47/50 [11:02:02<42:41, 853.84s/it]"
     ]
    },
    {
     "name": "stdout",
     "output_type": "stream",
     "text": [
      "Track generation: 1272..1604 -> 332-tiles track\n",
      "Track generation: 1166..1462 -> 296-tiles track\n",
      "Track generation: 1163..1458 -> 295-tiles track\n",
      "Track generation: 1247..1563 -> 316-tiles track\n",
      "Track generation: 1233..1545 -> 312-tiles track\n",
      "Track generation: 1011..1276 -> 265-tiles track\n",
      "Track generation: 1071..1343 -> 272-tiles track\n",
      "Track generation: 1095..1373 -> 278-tiles track\n",
      "Track generation: 1224..1534 -> 310-tiles track\n",
      "Track generation: 1228..1541 -> 313-tiles track\n"
     ]
    },
    {
     "name": "stderr",
     "output_type": "stream",
     "text": [
      "\r",
      " 96%|█████████▌| 48/50 [11:16:17<28:28, 854.17s/it]"
     ]
    },
    {
     "name": "stdout",
     "output_type": "stream",
     "text": [
      "Track generation: 1160..1454 -> 294-tiles track\n",
      "Track generation: 1135..1423 -> 288-tiles track\n",
      "Track generation: 1220..1529 -> 309-tiles track\n",
      "Track generation: 1173..1471 -> 298-tiles track\n",
      "Track generation: 1113..1403 -> 290-tiles track\n",
      "Track generation: 1119..1403 -> 284-tiles track\n",
      "Track generation: 1136..1424 -> 288-tiles track\n",
      "Track generation: 1195..1498 -> 303-tiles track\n",
      "Track generation: 1061..1331 -> 270-tiles track\n",
      "Track generation: 1111..1393 -> 282-tiles track\n"
     ]
    },
    {
     "name": "stderr",
     "output_type": "stream",
     "text": [
      "\r",
      " 98%|█████████▊| 49/50 [11:30:21<14:11, 851.13s/it]"
     ]
    },
    {
     "name": "stdout",
     "output_type": "stream",
     "text": [
      "Track generation: 1121..1405 -> 284-tiles track\n",
      "Track generation: 1029..1293 -> 264-tiles track\n",
      "retry to generate track (normal if there are not many of this messages)\n",
      "Track generation: 1196..1499 -> 303-tiles track\n",
      "Track generation: 1098..1376 -> 278-tiles track\n",
      "Track generation: 1108..1389 -> 281-tiles track\n",
      "Track generation: 1160..1454 -> 294-tiles track\n",
      "Track generation: 1118..1406 -> 288-tiles track\n",
      "Track generation: 1175..1473 -> 298-tiles track\n",
      "Track generation: 1148..1438 -> 290-tiles track\n",
      "Track generation: 1094..1372 -> 278-tiles track\n",
      "Track generation: 1260..1589 -> 329-tiles track\n"
     ]
    },
    {
     "name": "stderr",
     "output_type": "stream",
     "text": [
      "100%|██████████| 50/50 [11:44:29<00:00, 845.38s/it]"
     ]
    },
    {
     "name": "stdout",
     "output_type": "stream",
     "text": [
      "local optimum discovered by solver:\n",
      " [ 6.30003499e-01  4.51197340e-01  1.70887273e-01 -9.05499179e-01\n",
      "  8.71563685e-02 -1.82578603e-01  4.79701444e-02  5.82443222e-01\n",
      "  4.59429750e-01  2.38981768e-01  1.22423216e-01  6.43585727e-01\n",
      "  3.79085750e-01  5.21840848e-01  3.94712006e-01 -6.26844881e-01\n",
      " -1.20248008e-01 -5.66957063e-01 -9.87332054e-02  7.41268523e-01\n",
      " -8.26846385e-01 -8.76717804e-02  5.82328110e-01  7.79535670e-01\n",
      "  2.17984677e-01  3.35982331e-01 -5.70940414e-01 -1.49924342e-01\n",
      " -1.89325711e-01 -4.67248711e-01  9.17561893e-02  6.50800238e-02\n",
      " -3.19925400e-01 -4.21788921e-02  7.02810870e-03  1.12798999e-01\n",
      "  9.53500718e-02  2.12952691e-01  4.04835389e-01 -5.61038478e-01\n",
      " -1.00934679e-01 -2.59134817e-01  6.41496842e-01 -3.83671800e-02\n",
      " -2.57107422e-01 -6.11677207e-02 -1.23834109e-01  2.90073294e-01\n",
      "  8.80671877e-02  1.27694478e-02 -3.70373231e-01 -5.45986737e-01\n",
      "  2.56161592e-01  4.90510750e-01 -5.94112754e-01  3.41227682e-01\n",
      " -3.47886661e-01 -5.25390141e-01  8.16530601e-01  1.34425899e-02\n",
      "  1.59895283e-01 -2.72854961e-01 -2.12153961e-01 -1.71320801e-02\n",
      " -1.52511290e-01  5.30129410e-01 -7.67889323e-01  4.99561945e-01\n",
      " -8.09882904e-02  7.01843672e-01  2.11487559e-01  5.57773904e-01\n",
      "  6.49420807e-01  7.78935424e-01  7.31694212e-01  5.57607301e-02\n",
      "  1.25925661e-01  1.42241866e-01 -6.19416063e-01  1.53443520e-02\n",
      " -2.79311970e-02  1.66973136e-01  1.22597794e-01  9.28267968e-02\n",
      " -2.96860675e-01  9.13223624e-01  7.07984895e-02  1.69648651e+00\n",
      "  5.45430378e-01 -4.72384071e-01 -4.43918474e-01 -9.41583732e-02\n",
      " -5.45524206e-01  8.49115649e-01  7.43109624e-01  4.39193766e-01\n",
      "  3.91216829e-01  1.91027119e-01  8.71167479e-01  2.19257429e-01\n",
      " -7.35620652e-01  1.95163896e-01 -7.06541759e-01 -5.83869392e-02\n",
      "  7.66253935e-01 -4.32959533e-01 -4.39880591e-01  5.85156092e-01\n",
      "  4.62470364e-01  7.78503583e-01  5.96886432e-01 -2.25627538e-01\n",
      " -1.82168079e-01 -4.30900739e-01  3.76612844e-01  1.09147002e-01\n",
      " -2.10092732e-01 -2.32695414e-01 -5.04876923e-01  2.45716371e-01\n",
      " -6.42098001e-02  7.79981054e-01  2.57246523e-01  7.99399390e-01\n",
      "  8.56070333e-01 -3.47503606e-01  2.82733308e-01  2.30604131e-01\n",
      "  6.18951108e-01  3.87501206e-01  4.85617358e-01 -1.14034403e-01\n",
      "  5.09500709e-01  3.19083486e-02 -2.86452273e-01 -1.77494467e-01\n",
      " -7.12392426e-02 -1.17439269e-01  1.15200362e+00  5.17862141e-01\n",
      " -2.80827819e-01  8.09570997e-02 -7.07482672e-01 -7.35045668e-01\n",
      "  3.54997302e-01  3.57467361e-01  8.45047210e-02  1.38887184e-01\n",
      " -1.97404729e-01 -8.88024283e-01 -3.71142044e-02  5.36704452e-01\n",
      " -4.29008970e-01  8.82263828e-01  3.43806066e-01  5.24533437e-01\n",
      " -2.71466035e-01  6.31487345e-01  3.92318007e-01  3.76611558e-01\n",
      " -5.76373616e-02 -7.35201321e-01 -4.64603629e-01 -1.90192866e-01\n",
      " -2.73424301e-01 -2.81137362e-01  1.54852302e-01 -4.61163851e-01\n",
      " -2.57691136e-01 -5.07312205e-01  9.33782255e-01 -5.39404919e-01\n",
      " -5.11169720e-01 -2.92578516e-01 -1.43746019e-01  4.54920399e-02\n",
      " -7.32149045e-01  6.83002262e-01 -5.32434304e-01  4.35702580e-01\n",
      "  8.93814934e-01 -6.09071822e-01 -6.67290787e-01  8.05098081e-01\n",
      " -1.97950289e-01  9.22984215e-01  2.53617421e-01 -6.45280368e-01\n",
      "  1.28470758e-01 -2.89442446e-01  6.85967521e-01  4.07272785e-01\n",
      " -1.87841895e-03 -4.06279853e-01  4.95281491e-01 -5.74652681e-01\n",
      "  1.02656313e-01 -6.83987560e-01 -3.83605214e-02 -8.97246036e-01\n",
      " -1.25940728e-01  1.09954780e-01 -1.92741725e-02 -8.46112890e-01\n",
      "  4.65611323e-01 -3.20917568e-01  3.42028406e-02  5.16875295e-01\n",
      " -1.89193141e-02 -3.79147392e-02  6.42489727e-01 -8.54465500e-01\n",
      " -6.01357269e-01  2.65870975e-01 -5.19232234e-01 -2.02344307e-01\n",
      " -1.10924092e-01 -1.25556343e-01 -2.84266775e-01  8.47620384e-01\n",
      "  2.39072931e-01 -7.32881428e-01  1.22435159e-01  4.10329972e-01\n",
      "  2.60900453e-01 -5.54242951e-01 -2.37336316e-01 -3.07647233e-01\n",
      "  3.14647144e-01  5.25583665e-01  3.60545524e-02  6.14687285e-01\n",
      "  2.82228345e-01 -4.24194423e-01  7.16224303e-01  3.00964985e-01\n",
      " -4.65135373e-01  2.56371618e-01 -5.17611085e-01 -1.56941031e-01\n",
      " -4.18406061e-01  1.35614468e+00  2.16794767e-01  2.58512768e-01\n",
      " -5.99483661e-03 -8.38778410e-02  5.23461892e-01  6.50283091e-01\n",
      " -1.26697657e-01 -3.35006671e-02 -6.40474069e-01  2.90435960e-02\n",
      " -4.01670084e-01  4.93853270e-02  8.32905362e-01  5.41983228e-01\n",
      " -7.77860827e-02 -9.06258541e-01  1.13820207e+00 -4.53855137e-01\n",
      "  6.69706909e-01  3.03265072e-02  8.25401695e-01 -1.87859943e-01\n",
      "  1.45323545e-01 -2.01217976e-01 -2.64631763e-01  4.65113625e-02\n",
      " -2.20376574e-01  6.84308666e-01  1.56520963e-01 -3.59772962e-01\n",
      " -8.88675390e-02 -7.88141035e-03 -9.83877011e-02 -8.47960287e-02\n",
      " -7.31770321e-01  1.98655315e-01  5.53099959e-02 -1.20337230e-02\n",
      "  6.83018567e-01 -1.06330946e+00  1.21869742e-01 -2.11174277e-01\n",
      "  2.47551760e-01 -4.82332527e-02 -1.22094291e-01  1.00667669e-01\n",
      "  2.45224460e-01 -4.16280758e-01 -1.21970817e+00 -6.30256630e-02\n",
      "  4.72631692e-01 -8.83196135e-01 -4.72151367e-03 -3.15795893e-01\n",
      " -1.88214369e-01  2.81549735e-01  5.01420051e-01  4.59106790e-01\n",
      "  8.68448566e-01  2.85865575e-01  5.65038501e-01 -4.87551534e-01\n",
      "  3.55922889e-01  1.85730759e-01 -1.05700587e-01 -1.66821037e-01\n",
      "  2.23457368e-01  8.12424022e-01 -8.57593912e-01 -6.72696649e-01\n",
      " -6.06644192e-01 -4.69044675e-01 -1.01426109e+00 -5.54028548e-01\n",
      "  5.56601204e-01 -9.63943101e-02 -5.67725932e-01 -2.79943837e-01\n",
      " -3.36624957e-01  6.91306944e-02  4.27073926e-01  2.39187327e-02\n",
      "  7.85150661e-01  2.04887191e-01  6.80139965e-01  7.17910695e-02\n",
      "  5.34815625e-01  7.71623415e-02  4.57090762e-02  3.64717143e-01\n",
      " -2.59561136e-01 -6.29392454e-01 -7.38421418e-02  3.56572513e-01\n",
      "  4.45492512e-01 -2.89154594e-01  3.48586224e-01 -2.49451534e-01\n",
      "  1.03482471e-01 -3.09321813e-01 -4.65659887e-01  4.13711635e-02\n",
      "  1.09043467e-01  4.71893224e-01  3.20142577e-01  4.71218162e-01\n",
      " -1.20864036e-01 -1.68070419e-01 -8.92581249e-01 -1.83107240e-01\n",
      " -4.09008538e-01  3.39616171e-01 -3.94399305e-01  4.07587070e-01\n",
      " -1.70689687e-01 -1.07653893e-01  1.73470261e-01 -6.14513152e-01\n",
      " -2.39684679e-01 -1.22783621e-01  1.69728165e-01 -3.96776668e-01\n",
      "  1.17868426e-01  1.76974651e-01  7.36775707e-01 -9.18438379e-01\n",
      " -9.16612530e-01  4.25703160e-01  1.97358454e-01 -4.31044517e-01\n",
      " -1.94909058e-02  6.03129496e-02 -5.19579401e-01 -8.66980471e-01\n",
      "  8.82212080e-01 -3.94063377e-01  7.01938337e-02 -1.97751086e-02\n",
      "  8.16593288e-01  3.28491308e-01  2.40226485e-01  3.21370744e-01\n",
      " -5.45097402e-01 -3.31247555e-01 -8.13481640e-02  3.15869572e-01\n",
      " -6.28971917e-01 -1.93192488e-01  1.29302535e-01 -1.84133596e-02\n",
      "  1.45195995e-02  1.36867995e-01  4.70675288e-01  9.63830464e-02\n",
      " -3.37233955e-01 -1.79426478e-01  5.51755422e-01  4.83926788e-01\n",
      " -1.01354390e+00  2.24703552e-01 -9.91251798e-01  6.49789921e-01\n",
      "  9.68381719e-02 -2.44619417e-01  3.13618117e-01  7.02650786e-01\n",
      " -8.91187284e-02 -1.66508525e-02 -2.83295572e-01  6.04976249e-01\n",
      "  9.07942030e-02  9.34755659e-02  3.32400696e-01 -9.51182486e-02\n",
      " -1.15571346e-01 -4.91300253e-01  5.19084108e-01  1.18674780e-01\n",
      "  3.87042304e-01 -2.43608328e-01 -1.55736906e-01 -1.50223849e-01\n",
      " -4.70298523e-01 -1.67896389e-01  6.23325711e-01 -3.59365728e-01\n",
      " -1.93872307e-01  9.04140839e-01  4.76929367e-01  5.02931294e-01\n",
      "  5.45057105e-01  4.48838332e-01 -2.14522520e-01  1.32818164e-01\n",
      " -4.35039650e-01 -2.68483303e-01 -7.60244348e-01 -8.34850886e-01\n",
      "  4.99732537e-01 -1.93337308e-01 -5.26944634e-02 -4.08329254e-01\n",
      "  1.07635977e-02 -1.22155745e-01 -7.90341544e-01 -4.60558068e-01\n",
      "  2.84367223e-01  4.67709901e-01  6.30781383e-01  2.46831142e-01\n",
      " -1.40354161e+00 -6.67238797e-01  9.17302538e-02 -5.83346545e-01\n",
      "  2.79375619e-02  4.01275351e-01 -1.34430256e-01 -6.54977270e-01\n",
      "  9.00154299e-01 -5.34120005e-01  8.57644374e-02  8.15386700e-01\n",
      " -4.44594367e-01  8.81712862e-01 -7.70191539e-01  1.91745781e-01\n",
      " -5.93679915e-01 -6.12667251e-01  1.11323763e-01 -6.80508717e-02\n",
      " -8.12064476e-01 -6.39394849e-02 -2.98550832e-01  4.69119778e-01\n",
      " -5.11142666e-01  4.33499346e-01 -5.94848804e-01 -1.49265757e-01\n",
      "  6.90044235e-01  5.52071046e-01  5.41714598e-01  3.61565333e-01\n",
      "  3.42720925e-01  3.17152157e-01  2.12084129e-01 -4.68157636e-02\n",
      "  8.32731071e-02 -4.13587179e-01 -8.88308197e-01  2.03489012e-01\n",
      " -2.74536275e-01  3.46585344e-01  1.35217017e-01 -3.81339604e-01\n",
      " -2.63649661e-01  3.47302060e-01 -8.15918856e-01 -3.04789638e-01\n",
      " -1.57920464e-01  1.07017720e+00 -1.75166746e-01 -1.95516104e-01\n",
      "  1.51139418e-01 -7.91510824e-02 -6.22504255e-01  7.75183773e-01\n",
      "  4.54987102e-01 -4.89186163e-01  2.53892692e-01  8.10122939e-01\n",
      " -1.01047972e-01 -2.14069871e-01  1.66191397e-01  8.66259029e-01\n",
      "  1.53238650e-03 -8.34435844e-01  3.98259813e-01  3.51400229e-01\n",
      "  7.43850579e-02 -3.77921647e-01 -8.02937083e-01 -4.68774807e-01\n",
      " -8.04594991e-01  4.83559988e-01 -4.11688006e-01 -1.32242267e-01\n",
      " -6.59085964e-01 -1.25973610e+00  8.42799363e-04 -6.82768183e-01\n",
      "  2.26202497e-01 -7.28873864e-02 -7.86153829e-01  8.76390478e-01\n",
      " -1.89623897e-01 -4.04971530e-01  4.38441147e-01  1.59924882e-01\n",
      "  1.97113268e-01  3.67174469e-01  6.91363978e-01 -4.39918447e-01\n",
      " -3.25389893e-01 -5.33689900e-01 -6.51394592e-01 -3.85387504e-01\n",
      "  9.68508167e-02 -3.76689139e-01  5.61999239e-01  5.59576592e-01\n",
      " -1.97612302e-01 -5.44976051e-01 -3.58254461e-01  5.19359330e-01\n",
      " -1.68848540e-01 -2.63361000e-01 -9.39525923e-01 -1.01222904e+00\n",
      "  1.13894342e-01 -1.01387419e-01 -2.86635812e-01  6.34415072e-01\n",
      "  8.22028038e-01 -2.55797636e-01  4.14409358e-01  1.13268343e+00\n",
      "  2.77747324e-01 -7.57692112e-01 -7.10689554e-01  8.07112114e-01\n",
      "  3.49261393e-01  4.31574974e-01  4.64678450e-01  8.92268539e-01\n",
      " -4.02206171e-01  3.38299021e-01  3.95174617e-01 -6.79413545e-01\n",
      " -4.54870500e-01  4.66774331e-01 -7.28985992e-01  3.67541788e-01\n",
      "  1.17328814e+00 -1.55073705e-01  4.17977803e-01  7.35120082e-02\n",
      "  3.89213803e-01  2.46817943e-02 -1.36029045e-01 -2.55085343e-01\n",
      " -3.16968984e-01 -3.67155151e-01 -1.34588821e+00  6.24302674e-01\n",
      "  3.19829213e-01 -2.45319114e-01  6.24744582e-01  2.47965495e-01\n",
      "  3.61814146e-01  3.29007879e-01 -5.79700272e-02 -1.21318167e+00\n",
      "  3.72485806e-01  5.28115485e-02  3.61390678e-01  4.60863784e-01\n",
      " -4.57965591e-01 -6.56181267e-02  8.93688527e-02  6.82303682e-01\n",
      "  4.30177562e-01 -2.24686218e-01  8.52273716e-02  3.90007162e-01\n",
      " -7.34474368e-01 -2.91879911e-01 -4.35833270e-01 -6.42004778e-01\n",
      " -6.93078582e-01  9.56094291e-01  3.53662240e-01  6.20173698e-02\n",
      " -6.45558051e-02  1.25624400e-01  4.80840888e-01 -4.16977616e-01\n",
      "  6.90451350e-01  2.56763852e-01 -1.29521851e+00  1.82749753e-01\n",
      " -2.11637769e-01  7.50356619e-02  2.00971196e-01  2.40393047e-03\n",
      "  1.98640028e-01  5.29256294e-02  6.53319307e-01 -1.24605795e-01\n",
      "  1.13594362e+00 -6.12895238e-01 -4.21553474e-01  4.15049578e-01\n",
      " -3.65096469e-01  5.41678471e-02 -3.11835580e-01 -3.49083292e-01\n",
      "  4.26343254e-01 -1.38772899e-01 -2.46721668e-03 -1.39249761e-01\n",
      " -1.17679672e+00  2.82634158e-01 -7.01744461e-01  6.34503856e-01\n",
      "  5.65007438e-01  3.80447858e-01  4.68889883e-01  1.44938023e-01\n",
      "  1.33432541e-03 -2.09169296e-01  8.66531661e-01 -2.34335715e-01\n",
      " -1.64173307e-01  3.04960174e-01  2.19879961e-01 -6.08626224e-01\n",
      "  4.13840334e-01 -4.52127632e-01  1.49226182e-01 -6.01285704e-01\n",
      "  4.56324904e-01 -1.54855364e-01  7.25000851e-01 -2.47193240e-01\n",
      " -1.91463358e-01  1.03154221e-01  3.80179479e-01 -2.86596826e-01\n",
      " -3.87059016e-01 -5.41048789e-01  2.78175136e-01 -2.64880162e-01\n",
      " -4.57949273e-02 -1.41119948e-01  6.66557007e-01 -4.14496575e-02\n",
      " -6.75343908e-01 -4.71557083e-01  6.66794748e-01  2.42867711e-01\n",
      " -2.70159956e-01  8.59787601e-01  5.30321274e-01  2.72865605e-01\n",
      " -2.04105314e-01 -1.02389235e+00  2.12891359e-01  4.90143670e-01\n",
      " -6.19510089e-01 -8.75322931e-01  1.04046863e+00  1.99852154e-01\n",
      "  8.87316633e-01  2.92008747e-01  1.24000175e-01  8.65644559e-01\n",
      " -1.05984988e-01  4.61991384e-02  6.46212512e-01 -3.24674344e-01\n",
      " -7.70692338e-01  2.22664593e-01  4.45399564e-02  3.25255182e-01\n",
      " -9.48534555e-01 -1.09654670e-01  9.81943800e-01 -1.60265464e-01\n",
      " -3.49355337e-01  1.18243046e-01  2.90244070e-01 -7.10304123e-01\n",
      "  7.65954353e-01 -1.28389522e-01 -3.09578969e-01 -3.85264942e-01\n",
      "  2.32127540e-01 -3.59190792e-02  5.54841300e-01 -9.83996995e-01\n",
      " -1.64721291e-01 -4.34669782e-01  5.73756602e-01  1.12188310e-01\n",
      " -6.71551279e-01 -5.46223591e-01 -1.25304704e+00 -2.49499760e-01\n",
      " -2.85245034e-01  1.53468984e-01  1.65656250e-01 -7.41437461e-01\n",
      " -1.45486868e-01 -2.05664635e-01 -1.28886835e+00  3.63892345e-01\n",
      "  1.66750319e-01 -4.61931035e-01 -1.35497938e-01  6.20221743e-01\n",
      "  7.13628447e-01 -9.20014180e-01 -4.46934852e-01 -5.30457574e-01\n",
      " -1.64471224e-01 -3.80156743e-01  3.14787308e-01 -2.07842627e-01\n",
      " -1.32955937e-03 -3.37612418e-01  5.32583533e-02 -4.28439661e-01\n",
      " -1.94257780e-01 -1.41569698e-01 -8.85479206e-01  9.18129752e-01\n",
      "  1.47842730e+00  5.48696068e-01  1.01005233e+00  4.12843322e-01\n",
      " -2.70740254e-01  6.61743741e-02  4.88671249e-01  5.38076151e-01\n",
      "  9.94833765e-01  2.92266597e-01 -4.18631862e-01  6.80631064e-01\n",
      " -7.34929219e-01 -5.02829864e-01  3.20668627e-03 -1.02820216e+00\n",
      " -1.85951752e-01  6.00958608e-01 -1.01064447e-01  3.25327266e-01\n",
      " -3.51174207e-01  5.48205967e-01 -9.13219764e-01 -4.07053918e-01\n",
      "  9.86357026e-01  3.39291265e-01 -5.01554346e-01  2.06422592e-02\n",
      "  2.37345433e-01 -1.11364256e-01  5.39903581e-01 -5.31754904e-01\n",
      " -5.08728909e-01  6.17269327e-02 -1.14706716e-01 -4.09934968e-01\n",
      " -6.28210146e-01  5.70704195e-03  9.38825931e-02  2.05411071e-01\n",
      " -2.97825033e-01  3.03409556e-01 -3.70607076e-01  3.04578750e-02\n",
      " -7.23411825e-02  8.19628050e-01  1.86945920e-01  5.79801921e-01\n",
      " -9.54389955e-01  1.52775692e+00 -4.89752940e-01  4.22977120e-01\n",
      " -1.21237803e-01 -1.13318168e+00  2.09844045e-01 -1.74919572e-02\n",
      " -5.11102804e-01 -1.02173866e+00 -5.34940880e-01 -8.80815214e-02\n",
      " -7.95953568e-01 -2.28236001e-01  6.31744039e-01 -1.94964418e-01\n",
      "  2.99129149e-01 -7.98181483e-01  3.23818580e-01 -2.54752494e-02\n",
      "  3.87127560e-01 -3.48271271e-01  3.44036066e-01  2.17883934e-01\n",
      "  5.59786952e-01  5.05998709e-01  5.17149323e-01 -1.73924264e-01\n",
      "  3.36797283e-01 -1.13093246e-01  8.14972696e-01 -8.92769235e-01\n",
      "  3.29399916e-01  5.22331943e-02 -5.58077985e-01  1.29171672e+00\n",
      "  7.90749598e-02  8.97698042e-01  8.10022116e-01 -5.08688397e-01\n",
      " -6.03473137e-01  1.55055957e+00  2.40051872e-01  4.69776838e-01\n",
      "  4.27631852e-02  2.58853883e-02 -3.20558651e-01  7.62635976e-01]\n",
      "fitness score at this local optimum: -12.891986062717613\n"
     ]
    },
    {
     "name": "stderr",
     "output_type": "stream",
     "text": [
      "\n"
     ]
    }
   ],
   "source": [
    "oes_history, result = test_solver(oes)"
   ]
  },
  {
   "cell_type": "code",
   "execution_count": 50,
   "metadata": {},
   "outputs": [
    {
     "data": {
      "text/plain": [
       "0.47560281409851574"
      ]
     },
     "execution_count": 50,
     "metadata": {},
     "output_type": "execute_result"
    }
   ],
   "source": [
    "result[3]"
   ]
  },
  {
   "cell_type": "code",
   "execution_count": 51,
   "metadata": {},
   "outputs": [],
   "source": [
    "controller.set_weights(result[0])"
   ]
  },
  {
   "cell_type": "code",
   "execution_count": 62,
   "metadata": {},
   "outputs": [],
   "source": [
    "np.save('./weights/C_weights.npy', controller.W)"
   ]
  },
  {
   "cell_type": "code",
   "execution_count": null,
   "metadata": {},
   "outputs": [],
   "source": [
    "env.close()"
   ]
  },
  {
   "cell_type": "code",
   "execution_count": 52,
   "metadata": {},
   "outputs": [
    {
     "data": {
      "text/plain": [
       "[<matplotlib.lines.Line2D at 0x7fd460421d50>]"
      ]
     },
     "execution_count": 52,
     "metadata": {},
     "output_type": "execute_result"
    },
    {
     "data": {
      "image/png": "[encoded data removed]",
      "text/plain": [
       "<Figure size 432x288 with 1 Axes>"
      ]
     },
     "metadata": {
      "needs_background": "light"
     },
     "output_type": "display_data"
    }
   ],
   "source": [
    "plt.plot(oes_history)"
   ]
  },
  {
   "cell_type": "code",
   "execution_count": 55,
   "metadata": {},
   "outputs": [
    {
     "name": "stdout",
     "output_type": "stream",
     "text": [
      "Track generation: 1047..1313 -> 266-tiles track\n"
     ]
    }
   ],
   "source": [
    "r, playback = rollout(controller, playback=True)"
   ]
  },
  {
   "cell_type": "code",
   "execution_count": 56,
   "metadata": {},
   "outputs": [],
   "source": [
    "import matplotlib.pyplot as plt\n",
    "from IPython import display"
   ]
  },
  {
   "cell_type": "code",
   "execution_count": 57,
   "metadata": {},
   "outputs": [],
   "source": [
    "def show_state(env, step=0, name=\"\", info=\"\", image=None):\n",
    "    \"\"\"Fn to visualize the agent playing the game in a notebook\n",
    "    \"\"\"\n",
    "    plt.figure(10)\n",
    "    plt.clf()\n",
    "    if image is not None:\n",
    "        im = image\n",
    "    else:\n",
    "        im = env.render(mode=\"rgb_array\")[0]\n",
    "    plt.imshow(im)\n",
    "    plt.title(\"{} | Step: {} {}\".format(name, step, info))\n",
    "    plt.axis('off')\n",
    "    display.clear_output(wait=True)\n",
    "    display.display(plt.gcf())"
   ]
  },
  {
   "cell_type": "code",
   "execution_count": 59,
   "metadata": {},
   "outputs": [
    {
     "data": {
      "image/png": "[encoded data removed]",
      "text/plain": [
       "<Figure size 432x288 with 1 Axes>"
      ]
     },
     "metadata": {},
     "output_type": "display_data"
    },
    {
     "data": {
      "image/png": "[encoded data removed]",
      "text/plain": [
       "<Figure size 432x288 with 1 Axes>"
      ]
     },
     "metadata": {
      "needs_background": "light"
     },
     "output_type": "display_data"
    }
   ],
   "source": [
    "for i in playback:\n",
    "    show_state(None, image=i[0])"
   ]
  },
  {
   "cell_type": "code",
   "execution_count": 61,
   "metadata": {},
   "outputs": [],
   "source": [
    "np.save(\"AICAR.npy\", playback)"
   ]
  },
  {
   "cell_type": "code",
   "execution_count": null,
   "metadata": {},
   "outputs": [],
   "source": []
  }
 ],
 "metadata": {
  "kernelspec": {
   "display_name": "Python 3",
   "language": "python",
   "name": "python3"
  },
  "language_info": {
   "codemirror_mode": {
    "name": "ipython",
    "version": 3
   },
   "file_extension": ".py",
   "mimetype": "text/x-python",
   "name": "python",
   "nbconvert_exporter": "python",
   "pygments_lexer": "ipython3",
   "version": "3.7.5"
  }
 },
 "nbformat": 4,
 "nbformat_minor": 2
}
