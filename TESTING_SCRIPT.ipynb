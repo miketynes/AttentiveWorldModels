{
 "cells": [
  {
   "cell_type": "code",
   "execution_count": null,
   "metadata": {},
   "outputs": [],
   "source": [
    "import time\n",
    "\n",
    "import tensorflow as tf\n",
    "import tensorflow.keras.backend as K\n",
    "import numpy as np\n",
    "import os\n",
    "from utils import preprocess_images"
   ]
  },
  {
   "cell_type": "code",
   "execution_count": null,
   "metadata": {},
   "outputs": [],
   "source": [
    "from models import V as buildVision\n",
    "from models import V_inverse as Decoder\n",
    "from models import M as buildMemory\n",
    "from models import Controller"
   ]
  },
  {
   "cell_type": "code",
   "execution_count": null,
   "metadata": {},
   "outputs": [],
   "source": [
    "import mdn"
   ]
  },
  {
   "cell_type": "code",
   "execution_count": null,
   "metadata": {},
   "outputs": [],
   "source": [
    "import matplotlib.pyplot as plt\n",
    "from IPython import display"
   ]
  },
  {
   "cell_type": "code",
   "execution_count": null,
   "metadata": {},
   "outputs": [],
   "source": [
    "V = buildVision()\n",
    "V_inv = Decoder()"
   ]
  },
  {
   "cell_type": "code",
   "execution_count": null,
   "metadata": {},
   "outputs": [],
   "source": [
    "V.load_weights('weights/2019.12.07/encoder_weights')\n",
    "V_inv.load_weights('weights/2019.12.07/decoder_weights')"
   ]
  },
  {
   "cell_type": "code",
   "execution_count": null,
   "metadata": {},
   "outputs": [],
   "source": [
    "V.summary()"
   ]
  },
  {
   "cell_type": "code",
   "execution_count": null,
   "metadata": {},
   "outputs": [],
   "source": [
    "V_inv.summary()"
   ]
  },
  {
   "cell_type": "code",
   "execution_count": null,
   "metadata": {},
   "outputs": [],
   "source": [
    "M = buildMemory('weights/2019.12.07/mdn_rnn_weights')\n",
    "get_hidden = K.function(M.layers[0].input, M.layers[0].output)"
   ]
  },
  {
   "cell_type": "code",
   "execution_count": null,
   "metadata": {},
   "outputs": [],
   "source": [
    "M.summary()"
   ]
  },
  {
   "cell_type": "code",
   "execution_count": null,
   "metadata": {},
   "outputs": [],
   "source": [
    "controller = Controller(32+256, 3)\n",
    "controller.set_weights(np.load('./weights/C_weights.npy'))"
   ]
  },
  {
   "cell_type": "markdown",
   "metadata": {},
   "source": [
    "$$\\text{Controller}: \\mathbb R^{288} \\rightarrow \\mathbb R^3 $$"
   ]
  },
  {
   "cell_type": "code",
   "execution_count": null,
   "metadata": {},
   "outputs": [],
   "source": [
    "controller.shape"
   ]
  },
  {
   "cell_type": "code",
   "execution_count": null,
   "metadata": {},
   "outputs": [],
   "source": [
    "import gym"
   ]
  },
  {
   "cell_type": "code",
   "execution_count": null,
   "metadata": {},
   "outputs": [],
   "source": [
    "env = gym.make(\"CarRacing-v0\")"
   ]
  },
  {
   "cell_type": "code",
   "execution_count": null,
   "metadata": {},
   "outputs": [],
   "source": [
    "state = preprocess_images(env.reset())\n",
    "env.close()"
   ]
  },
  {
   "cell_type": "code",
   "execution_count": null,
   "metadata": {},
   "outputs": [],
   "source": [
    "def rollout(controller, playback=False):\n",
    "    if playback:\n",
    "        ims = []\n",
    "    state = preprocess_images(env.reset())\n",
    "    \n",
    "    M.reset_states()\n",
    "    h = np.zeros(256)\n",
    "    done = False\n",
    "    cumulative_reward = 0\n",
    "    \n",
    "    while not done:\n",
    "        _state = np.zeros((128, 64, 64, 3))\n",
    "        _state[0] = state\n",
    "        \n",
    "        if playback:\n",
    "            ims.append(state)\n",
    "        z = V(_state)[2][0] #extract z and first from sequence\n",
    "\n",
    "        # combine V latent space with M hidden space \n",
    "        combined = np.concatenate([z, h], axis=0)\n",
    "        \n",
    "        a = controller(combined)\n",
    "        \n",
    "        state, reward, done, info = env.step(a)\n",
    "        state = preprocess_images(state)\n",
    "        \n",
    "        cumulative_reward += reward\n",
    "        \n",
    "        # extract hidden state from LSTM\n",
    "        h = get_hidden(tf.expand_dims(tf.expand_dims(np.concatenate([z, a], 0), 0), 0)).squeeze()\n",
    "        \n",
    "        # get factored gaussians\n",
    "        # by feeding current latent_state + action\n",
    "        z = M(tf.expand_dims(tf.expand_dims(np.concatenate([z, a]), 0), 0))\n",
    "        \n",
    "        # sample from factored gaussians\n",
    "        # 32 = output_dims\n",
    "        # 5  = num_mixtures\n",
    "        z = np.apply_along_axis(mdn.sample_from_output, 1, z[0], 32, 5, temp=1.0).squeeze()\n",
    "    \n",
    "    env.close()\n",
    "    if playback:\n",
    "        return cumulative_reward, ims\n",
    "    return cumulative_reward"
   ]
  },
  {
   "cell_type": "code",
   "execution_count": null,
   "metadata": {
    "scrolled": false
   },
   "outputs": [],
   "source": [
    "start = time.time()\n",
    "r, ims = rollout(controller, playback=True)\n",
    "end = time.time() - start"
   ]
  },
  {
   "cell_type": "code",
   "execution_count": null,
   "metadata": {},
   "outputs": [],
   "source": [
    "r"
   ]
  },
  {
   "cell_type": "code",
   "execution_count": null,
   "metadata": {},
   "outputs": [],
   "source": [
    "def show_state(env, step=0, name=\"\", info=\"\", image=None):\n",
    "    \"\"\"Fn to visualize the agent playing the game in a notebook\n",
    "    \"\"\"\n",
    "    plt.figure(10)\n",
    "    plt.clf()\n",
    "    if image is not None:\n",
    "        im = image\n",
    "    else:\n",
    "        im = env.render(mode=\"rgb_array\")[0]\n",
    "    plt.imshow(im)\n",
    "    plt.title(\"{} | Step: {} {}\".format(name, step, info))\n",
    "    plt.axis('off')\n",
    "    display.clear_output(wait=True)\n",
    "    display.display(plt.gcf())"
   ]
  },
  {
   "cell_type": "code",
   "execution_count": null,
   "metadata": {},
   "outputs": [],
   "source": [
    "for i in ims:\n",
    "    show_state(None, image=i[0])"
   ]
  },
  {
   "cell_type": "code",
   "execution_count": null,
   "metadata": {},
   "outputs": [],
   "source": [
    "np.save(\"AICAR.npy\", ims)"
   ]
  }
 ],
 "metadata": {
  "kernelspec": {
   "display_name": "Python 3",
   "language": "python",
   "name": "python3"
  },
  "language_info": {
   "codemirror_mode": {
    "name": "ipython",
    "version": 3
   },
   "file_extension": ".py",
   "mimetype": "text/x-python",
   "name": "python",
   "nbconvert_exporter": "python",
   "pygments_lexer": "ipython3",
   "version": "3.7.5"
  }
 },
 "nbformat": 4,
 "nbformat_minor": 2
}
