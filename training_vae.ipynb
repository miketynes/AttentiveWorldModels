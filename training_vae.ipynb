{
 "cells": [
  {
   "cell_type": "code",
   "execution_count": 1,
   "metadata": {},
   "outputs": [],
   "source": [
    "import os\n",
    "\n",
    "import numpy as np\n",
    "import matplotlib.pyplot as plt\n",
    "from skimage.transform import resize\n",
    "from tensorflow.keras.callbacks import (EarlyStopping, ModelCheckpoint, \n",
    "                                       TensorBoard, Callback)\n",
    "import datetime\n",
    "from time import time\n",
    "import json\n",
    "\n",
    "import tensorflow as tf\n",
    "\n",
    "physical_devices = tf.config.experimental.list_physical_devices('GPU')\n",
    "physical_devices\n",
    "\n",
    "tf.config.experimental.set_memory_growth(physical_devices[0], True)\n",
    "\"\"\"\n",
    "The above line comes from here: \n",
    "https://github.com/tensorflow/tensorflow/blob/6e559b96c8146ce15c7c03f66e515e31a6b0aa00/tensorflow/python/framework/config.py#L443\n",
    "\"\"\"\n",
    "\n",
    "import tensorflow.keras.backend as K\n",
    "from tensorflow.keras.models import Model\n",
    "from tensorflow.keras.layers import (Conv2D, Input, Reshape, \n",
    "                                     Lambda, Dense, Conv2DTranspose)\n",
    "\n",
    "IMG_HEIGHT = 64\n",
    "IMG_WIDTH  = 64\n",
    "\n",
    "LATENT_SIZE = 32\n",
    "BATCH_SIZE  = 128\n",
    "KL_TOLERANCE = 0.5\n",
    "LEARNING_RATE = 1e-4"
   ]
  },
  {
   "cell_type": "code",
   "execution_count": 2,
   "metadata": {},
   "outputs": [
    {
     "name": "stdout",
     "output_type": "stream",
     "text": [
      "Model: \"encoder\"\n",
      "__________________________________________________________________________________________________\n",
      "Layer (type)                    Output Shape         Param #     Connected to                     \n",
      "==================================================================================================\n",
      "encoder_input (InputLayer)      [(None, 64, 64, 3)]  0                                            \n",
      "__________________________________________________________________________________________________\n",
      "enc_conv1 (Conv2D)              (None, 31, 31, 32)   1568        encoder_input[0][0]              \n",
      "__________________________________________________________________________________________________\n",
      "enc_conv2 (Conv2D)              (None, 14, 14, 64)   32832       enc_conv1[0][0]                  \n",
      "__________________________________________________________________________________________________\n",
      "enc_conv3 (Conv2D)              (None, 6, 6, 128)    131200      enc_conv2[0][0]                  \n",
      "__________________________________________________________________________________________________\n",
      "enc_conv4 (Conv2D)              (None, 2, 2, 256)    524544      enc_conv3[0][0]                  \n",
      "__________________________________________________________________________________________________\n",
      "reshape (Reshape)               (None, 1024)         0           enc_conv4[0][0]                  \n",
      "__________________________________________________________________________________________________\n",
      "z_mean (Dense)                  (None, 32)           32800       reshape[0][0]                    \n",
      "__________________________________________________________________________________________________\n",
      "z_log_var (Dense)               (None, 32)           32800       reshape[0][0]                    \n",
      "__________________________________________________________________________________________________\n",
      "z (Lambda)                      (128, 32)            0           z_mean[0][0]                     \n",
      "                                                                 z_log_var[0][0]                  \n",
      "==================================================================================================\n",
      "Total params: 755,744\n",
      "Trainable params: 755,744\n",
      "Non-trainable params: 0\n",
      "__________________________________________________________________________________________________\n",
      "Model: \"decoder\"\n",
      "_________________________________________________________________\n",
      "Layer (type)                 Output Shape              Param #   \n",
      "=================================================================\n",
      "decoder_input (InputLayer)   [(None, 32)]              0         \n",
      "_________________________________________________________________\n",
      "dec_fc (Dense)               (None, 1024)              33792     \n",
      "_________________________________________________________________\n",
      "reshape_1 (Reshape)          (None, 1, 1, 1024)        0         \n",
      "_________________________________________________________________\n",
      "dec_deconv1 (Conv2DTranspose (None, 5, 5, 128)         3276928   \n",
      "_________________________________________________________________\n",
      "dec_deconv2 (Conv2DTranspose (None, 13, 13, 64)        204864    \n",
      "_________________________________________________________________\n",
      "dec_deconv3 (Conv2DTranspose (None, 30, 30, 32)        73760     \n",
      "_________________________________________________________________\n",
      "dec_deconv4 (Conv2DTranspose (None, 64, 64, 3)         3459      \n",
      "=================================================================\n",
      "Total params: 3,592,803\n",
      "Trainable params: 3,592,803\n",
      "Non-trainable params: 0\n",
      "_________________________________________________________________\n"
     ]
    }
   ],
   "source": [
    "def sampling(args):\n",
    "    \"\"\"Reparameterization trick by sampling from an isotropic unit Gaussian.\n",
    "\n",
    "    # Arguments\n",
    "        args (tensor): mean and log of variance of Q(z|X)\n",
    "\n",
    "    # Returns\n",
    "        z (tensor): sampled latent vector\n",
    "    \"\"\"\n",
    "    \n",
    "    # import pdb; pdb.set_trace()\n",
    "    z_mean, z_log_var = args\n",
    "    #_batch = z_mean.shape[0]\n",
    "    #_dim = z_mean.shape[1]\n",
    "    batch = BATCH_SIZE# if _batch is None else _batch\n",
    "    dim = LATENT_SIZE #if _dim is None else _dim\n",
    "    # by default, random_normal has mean = 0 and std = 1.0\n",
    "    epsilon = K.random_normal(shape=(batch, dim))\n",
    "    foo = z_mean + K.exp(0.5 * z_log_var)# * epsilon\n",
    "    # print(foo.shape)\n",
    "    bar = foo * epsilon\n",
    "    # print(bar.shape)\n",
    "    return bar\n",
    "\n",
    "\n",
    "## ENCODER\n",
    "\n",
    "inputs = Input(shape=(64, 64, 3), name='encoder_input')\n",
    "h = Conv2D(32, 4, strides=2, activation=\"relu\", name=\"enc_conv1\")(inputs)\n",
    "h = Conv2D(64, 4, strides=2, activation=\"relu\", name=\"enc_conv2\")(h)\n",
    "h = Conv2D(128, 4, strides=2, activation=\"relu\", name=\"enc_conv3\")(h)\n",
    "h = Conv2D(256, 4, strides=2, activation=\"relu\", name=\"enc_conv4\")(h)\n",
    "h = Reshape([2*2*256])(h)\n",
    "z_mean = Dense(LATENT_SIZE, name='z_mean')(h)\n",
    "z_log_var = Dense(LATENT_SIZE, name='z_log_var')(h)\n",
    "z = Lambda(sampling, output_shape=(LATENT_SIZE,), name='z')([z_mean, z_log_var])\n",
    "encoder = Model(inputs, [z_mean, z_log_var, z], name='encoder')\n",
    "\n",
    "\n",
    "encoder.summary()\n",
    "\n",
    "## DECODER\n",
    "\n",
    "latent_inputs = Input(shape=(LATENT_SIZE,), name='decoder_input')\n",
    "h = Dense(4*256, name=\"dec_fc\")(latent_inputs)\n",
    "h = Reshape([1, 1, 4*256])(h)\n",
    "h = Conv2DTranspose(128, 5, strides=2, activation=\"relu\", name=\"dec_deconv1\")(h)\n",
    "h = Conv2DTranspose(64, 5, strides=2, activation=\"relu\", name=\"dec_deconv2\")(h)\n",
    "h = Conv2DTranspose(32, 6, strides=2, activation=\"relu\", name=\"dec_deconv3\")(h)\n",
    "outputs = Conv2DTranspose(3, 6, strides=2, activation='sigmoid', name=\"dec_deconv4\")(h)\n",
    "\n",
    "decoder = Model(latent_inputs, outputs, name='decoder')\n",
    "decoder.summary()"
   ]
  },
  {
   "cell_type": "code",
   "execution_count": 3,
   "metadata": {},
   "outputs": [],
   "source": [
    "def sample(decoder, n=128):\n",
    "    z = tf.random.normal(shape=(n, LATENT_SIZE))\n",
    "    return decoder.predict(z)"
   ]
  },
  {
   "cell_type": "code",
   "execution_count": 4,
   "metadata": {},
   "outputs": [
    {
     "name": "stdout",
     "output_type": "stream",
     "text": [
      "WARNING:tensorflow:Output decoder missing from loss dictionary. We assume this was done on purpose. The fit and evaluate APIs will not be expecting any data to be passed to decoder.\n"
     ]
    }
   ],
   "source": [
    "outputs = decoder(encoder(inputs)[2])\n",
    "vae = Model(inputs, outputs, name='SpatialWorldModel')\n",
    "\n",
    "## Loss stuff\n",
    "\n",
    "# loss\n",
    "eps = 1e-6 # avoid taking log of zero\n",
    "\n",
    "# reconstruction loss\n",
    "r_loss = tf.reduce_sum(\n",
    "  tf.square(inputs - outputs),\n",
    "  axis = [1,2,3]\n",
    ")\n",
    "r_loss = tf.reduce_mean(r_loss)\n",
    "\n",
    "# augmented kl loss per dim (axis may need to change)\n",
    "kl_loss = - 0.5 * tf.reduce_sum(\n",
    "  (1 + z_log_var - tf.square(z_mean) - tf.exp(z_log_var)),\n",
    "  axis = 1\n",
    ")\n",
    "# todo: look this up. why did Ha do it this way?\n",
    "kl_loss = tf.maximum(kl_loss, KL_TOLERANCE * LATENT_SIZE)\n",
    "kl_loss = tf.reduce_mean(kl_loss)\n",
    "\n",
    "loss = r_loss + kl_loss\n",
    "\n",
    "vae.add_loss(loss)\n",
    "vae.compile(optimizer='adam')"
   ]
  },
  {
   "cell_type": "code",
   "execution_count": 6,
   "metadata": {},
   "outputs": [
    {
     "data": {
      "text/plain": [
       "18.898944"
      ]
     },
     "execution_count": 6,
     "metadata": {},
     "output_type": "execute_result"
    }
   ],
   "source": [
    "## Small is data fit: can we do well with 5 gigs train, 1 gig val, 1 gig test?\n",
    "\n",
    "# This way we safely avoid data loaders\n",
    "\n",
    "data_dir = \"./sausage/states/\"\n",
    "\n",
    "#def get_data_dir_size(data_dir):\n",
    "\"\"\"Assuming fixed element size\"\"\"\n",
    "alldata = os.listdir(data_dir)\n",
    "elem = np.load(os.path.join(data_dir, alldata[0]))\n",
    "elem_size = elem.__sizeof__()\n",
    "n_elems = len(alldata)\n",
    "bytes_to_gigs = 1e-9\n",
    "\n",
    "total_data_gigs = elem_size * n_elems * bytes_to_gigs\n",
    "total_data_gigs"
   ]
  },
  {
   "cell_type": "code",
   "execution_count": 7,
   "metadata": {},
   "outputs": [],
   "source": [
    "import random"
   ]
  },
  {
   "cell_type": "code",
   "execution_count": 8,
   "metadata": {},
   "outputs": [],
   "source": [
    "alldata = os.listdir(data_dir)\n",
    "#train_frac = 1/18\n",
    "#alldata = random.sample(alldata, int(np.floor(len(alldata) * train_frac)))"
   ]
  },
  {
   "cell_type": "code",
   "execution_count": 9,
   "metadata": {},
   "outputs": [],
   "source": [
    "np.random.shuffle(alldata)\n",
    "test = 1/8\n",
    "\n",
    "train_ids, test_ids = alldata[int(len(alldata)*test):], alldata[:int(len(alldata)*test)]\n",
    "\n",
    "def read_data(data_dir, file_IDs):\n",
    "    t = np.zeros((len(file_IDs), 64, 64, 3), dtype=np.float32)\n",
    "    for i, file in enumerate(file_IDs):\n",
    "        t[i] = np.load(os.path.join(data_dir, file))\n",
    "    return t"
   ]
  },
  {
   "cell_type": "code",
   "execution_count": 18,
   "metadata": {},
   "outputs": [
    {
     "ename": "OSError",
     "evalue": "[Errno 12] Cannot allocate memory",
     "output_type": "error",
     "traceback": [
      "\u001b[0;31m---------------------------------------------------------------------------\u001b[0m",
      "\u001b[0;31mOSError\u001b[0m                                   Traceback (most recent call last)",
      "\u001b[0;32m<ipython-input-18-9b4ea23e105e>\u001b[0m in \u001b[0;36m<module>\u001b[0;34m\u001b[0m\n\u001b[0;32m----> 1\u001b[0;31m \u001b[0mget_ipython\u001b[0m\u001b[0;34m(\u001b[0m\u001b[0;34m)\u001b[0m\u001b[0;34m.\u001b[0m\u001b[0msystem\u001b[0m\u001b[0;34m(\u001b[0m\u001b[0;34m'free -m '\u001b[0m\u001b[0;34m)\u001b[0m\u001b[0;34m\u001b[0m\u001b[0;34m\u001b[0m\u001b[0m\n\u001b[0m",
      "\u001b[0;32m~/miniconda3/envs/AWM/lib/python3.7/site-packages/IPython/core/interactiveshell.py\u001b[0m in \u001b[0;36msystem_piped\u001b[0;34m(self, cmd)\u001b[0m\n\u001b[1;32m   2451\u001b[0m         \u001b[0;31m# a non-None value would trigger :func:`sys.displayhook` calls.\u001b[0m\u001b[0;34m\u001b[0m\u001b[0;34m\u001b[0m\u001b[0;34m\u001b[0m\u001b[0m\n\u001b[1;32m   2452\u001b[0m         \u001b[0;31m# Instead, we store the exit_code in user_ns.\u001b[0m\u001b[0;34m\u001b[0m\u001b[0;34m\u001b[0m\u001b[0;34m\u001b[0m\u001b[0m\n\u001b[0;32m-> 2453\u001b[0;31m         \u001b[0mself\u001b[0m\u001b[0;34m.\u001b[0m\u001b[0muser_ns\u001b[0m\u001b[0;34m[\u001b[0m\u001b[0;34m'_exit_code'\u001b[0m\u001b[0;34m]\u001b[0m \u001b[0;34m=\u001b[0m \u001b[0msystem\u001b[0m\u001b[0;34m(\u001b[0m\u001b[0mself\u001b[0m\u001b[0;34m.\u001b[0m\u001b[0mvar_expand\u001b[0m\u001b[0;34m(\u001b[0m\u001b[0mcmd\u001b[0m\u001b[0;34m,\u001b[0m \u001b[0mdepth\u001b[0m\u001b[0;34m=\u001b[0m\u001b[0;36m1\u001b[0m\u001b[0;34m)\u001b[0m\u001b[0;34m)\u001b[0m\u001b[0;34m\u001b[0m\u001b[0;34m\u001b[0m\u001b[0m\n\u001b[0m\u001b[1;32m   2454\u001b[0m \u001b[0;34m\u001b[0m\u001b[0m\n\u001b[1;32m   2455\u001b[0m     \u001b[0;32mdef\u001b[0m \u001b[0msystem_raw\u001b[0m\u001b[0;34m(\u001b[0m\u001b[0mself\u001b[0m\u001b[0;34m,\u001b[0m \u001b[0mcmd\u001b[0m\u001b[0;34m)\u001b[0m\u001b[0;34m:\u001b[0m\u001b[0;34m\u001b[0m\u001b[0;34m\u001b[0m\u001b[0m\n",
      "\u001b[0;32m~/miniconda3/envs/AWM/lib/python3.7/site-packages/IPython/utils/_process_posix.py\u001b[0m in \u001b[0;36msystem\u001b[0;34m(self, cmd)\u001b[0m\n\u001b[1;32m    154\u001b[0m                 \u001b[0mchild\u001b[0m \u001b[0;34m=\u001b[0m \u001b[0mpexpect\u001b[0m\u001b[0;34m.\u001b[0m\u001b[0mspawnb\u001b[0m\u001b[0;34m(\u001b[0m\u001b[0mself\u001b[0m\u001b[0;34m.\u001b[0m\u001b[0msh\u001b[0m\u001b[0;34m,\u001b[0m \u001b[0margs\u001b[0m\u001b[0;34m=\u001b[0m\u001b[0;34m[\u001b[0m\u001b[0;34m'-c'\u001b[0m\u001b[0;34m,\u001b[0m \u001b[0mcmd\u001b[0m\u001b[0;34m]\u001b[0m\u001b[0;34m)\u001b[0m \u001b[0;31m# Pexpect-U\u001b[0m\u001b[0;34m\u001b[0m\u001b[0;34m\u001b[0m\u001b[0m\n\u001b[1;32m    155\u001b[0m             \u001b[0;32melse\u001b[0m\u001b[0;34m:\u001b[0m\u001b[0;34m\u001b[0m\u001b[0;34m\u001b[0m\u001b[0m\n\u001b[0;32m--> 156\u001b[0;31m                 \u001b[0mchild\u001b[0m \u001b[0;34m=\u001b[0m \u001b[0mpexpect\u001b[0m\u001b[0;34m.\u001b[0m\u001b[0mspawn\u001b[0m\u001b[0;34m(\u001b[0m\u001b[0mself\u001b[0m\u001b[0;34m.\u001b[0m\u001b[0msh\u001b[0m\u001b[0;34m,\u001b[0m \u001b[0margs\u001b[0m\u001b[0;34m=\u001b[0m\u001b[0;34m[\u001b[0m\u001b[0;34m'-c'\u001b[0m\u001b[0;34m,\u001b[0m \u001b[0mcmd\u001b[0m\u001b[0;34m]\u001b[0m\u001b[0;34m)\u001b[0m  \u001b[0;31m# Vanilla Pexpect\u001b[0m\u001b[0;34m\u001b[0m\u001b[0;34m\u001b[0m\u001b[0m\n\u001b[0m\u001b[1;32m    157\u001b[0m             \u001b[0mflush\u001b[0m \u001b[0;34m=\u001b[0m \u001b[0msys\u001b[0m\u001b[0;34m.\u001b[0m\u001b[0mstdout\u001b[0m\u001b[0;34m.\u001b[0m\u001b[0mflush\u001b[0m\u001b[0;34m\u001b[0m\u001b[0;34m\u001b[0m\u001b[0m\n\u001b[1;32m    158\u001b[0m             \u001b[0;32mwhile\u001b[0m \u001b[0;32mTrue\u001b[0m\u001b[0;34m:\u001b[0m\u001b[0;34m\u001b[0m\u001b[0;34m\u001b[0m\u001b[0m\n",
      "\u001b[0;32m~/miniconda3/envs/AWM/lib/python3.7/site-packages/pexpect/pty_spawn.py\u001b[0m in \u001b[0;36m__init__\u001b[0;34m(self, command, args, timeout, maxread, searchwindowsize, logfile, cwd, env, ignore_sighup, echo, preexec_fn, encoding, codec_errors, dimensions, use_poll)\u001b[0m\n\u001b[1;32m    202\u001b[0m             \u001b[0mself\u001b[0m\u001b[0;34m.\u001b[0m\u001b[0mname\u001b[0m \u001b[0;34m=\u001b[0m \u001b[0;34m'<pexpect factory incomplete>'\u001b[0m\u001b[0;34m\u001b[0m\u001b[0;34m\u001b[0m\u001b[0m\n\u001b[1;32m    203\u001b[0m         \u001b[0;32melse\u001b[0m\u001b[0;34m:\u001b[0m\u001b[0;34m\u001b[0m\u001b[0;34m\u001b[0m\u001b[0m\n\u001b[0;32m--> 204\u001b[0;31m             \u001b[0mself\u001b[0m\u001b[0;34m.\u001b[0m\u001b[0m_spawn\u001b[0m\u001b[0;34m(\u001b[0m\u001b[0mcommand\u001b[0m\u001b[0;34m,\u001b[0m \u001b[0margs\u001b[0m\u001b[0;34m,\u001b[0m \u001b[0mpreexec_fn\u001b[0m\u001b[0;34m,\u001b[0m \u001b[0mdimensions\u001b[0m\u001b[0;34m)\u001b[0m\u001b[0;34m\u001b[0m\u001b[0;34m\u001b[0m\u001b[0m\n\u001b[0m\u001b[1;32m    205\u001b[0m         \u001b[0mself\u001b[0m\u001b[0;34m.\u001b[0m\u001b[0muse_poll\u001b[0m \u001b[0;34m=\u001b[0m \u001b[0muse_poll\u001b[0m\u001b[0;34m\u001b[0m\u001b[0;34m\u001b[0m\u001b[0m\n\u001b[1;32m    206\u001b[0m \u001b[0;34m\u001b[0m\u001b[0m\n",
      "\u001b[0;32m~/miniconda3/envs/AWM/lib/python3.7/site-packages/pexpect/pty_spawn.py\u001b[0m in \u001b[0;36m_spawn\u001b[0;34m(self, command, args, preexec_fn, dimensions)\u001b[0m\n\u001b[1;32m    301\u001b[0m \u001b[0;34m\u001b[0m\u001b[0m\n\u001b[1;32m    302\u001b[0m         self.ptyproc = self._spawnpty(self.args, env=self.env,\n\u001b[0;32m--> 303\u001b[0;31m                                      cwd=self.cwd, **kwargs)\n\u001b[0m\u001b[1;32m    304\u001b[0m \u001b[0;34m\u001b[0m\u001b[0m\n\u001b[1;32m    305\u001b[0m         \u001b[0mself\u001b[0m\u001b[0;34m.\u001b[0m\u001b[0mpid\u001b[0m \u001b[0;34m=\u001b[0m \u001b[0mself\u001b[0m\u001b[0;34m.\u001b[0m\u001b[0mptyproc\u001b[0m\u001b[0;34m.\u001b[0m\u001b[0mpid\u001b[0m\u001b[0;34m\u001b[0m\u001b[0;34m\u001b[0m\u001b[0m\n",
      "\u001b[0;32m~/miniconda3/envs/AWM/lib/python3.7/site-packages/pexpect/pty_spawn.py\u001b[0m in \u001b[0;36m_spawnpty\u001b[0;34m(self, args, **kwargs)\u001b[0m\n\u001b[1;32m    312\u001b[0m     \u001b[0;32mdef\u001b[0m \u001b[0m_spawnpty\u001b[0m\u001b[0;34m(\u001b[0m\u001b[0mself\u001b[0m\u001b[0;34m,\u001b[0m \u001b[0margs\u001b[0m\u001b[0;34m,\u001b[0m \u001b[0;34m**\u001b[0m\u001b[0mkwargs\u001b[0m\u001b[0;34m)\u001b[0m\u001b[0;34m:\u001b[0m\u001b[0;34m\u001b[0m\u001b[0;34m\u001b[0m\u001b[0m\n\u001b[1;32m    313\u001b[0m         \u001b[0;34m'''Spawn a pty and return an instance of PtyProcess.'''\u001b[0m\u001b[0;34m\u001b[0m\u001b[0;34m\u001b[0m\u001b[0m\n\u001b[0;32m--> 314\u001b[0;31m         \u001b[0;32mreturn\u001b[0m \u001b[0mptyprocess\u001b[0m\u001b[0;34m.\u001b[0m\u001b[0mPtyProcess\u001b[0m\u001b[0;34m.\u001b[0m\u001b[0mspawn\u001b[0m\u001b[0;34m(\u001b[0m\u001b[0margs\u001b[0m\u001b[0;34m,\u001b[0m \u001b[0;34m**\u001b[0m\u001b[0mkwargs\u001b[0m\u001b[0;34m)\u001b[0m\u001b[0;34m\u001b[0m\u001b[0;34m\u001b[0m\u001b[0m\n\u001b[0m\u001b[1;32m    315\u001b[0m \u001b[0;34m\u001b[0m\u001b[0m\n\u001b[1;32m    316\u001b[0m     \u001b[0;32mdef\u001b[0m \u001b[0mclose\u001b[0m\u001b[0;34m(\u001b[0m\u001b[0mself\u001b[0m\u001b[0;34m,\u001b[0m \u001b[0mforce\u001b[0m\u001b[0;34m=\u001b[0m\u001b[0;32mTrue\u001b[0m\u001b[0;34m)\u001b[0m\u001b[0;34m:\u001b[0m\u001b[0;34m\u001b[0m\u001b[0;34m\u001b[0m\u001b[0m\n",
      "\u001b[0;32m~/miniconda3/envs/AWM/lib/python3.7/site-packages/ptyprocess/ptyprocess.py\u001b[0m in \u001b[0;36mspawn\u001b[0;34m(cls, argv, cwd, env, echo, preexec_fn, dimensions)\u001b[0m\n\u001b[1;32m    224\u001b[0m \u001b[0;34m\u001b[0m\u001b[0m\n\u001b[1;32m    225\u001b[0m         \u001b[0;32mif\u001b[0m \u001b[0muse_native_pty_fork\u001b[0m\u001b[0;34m:\u001b[0m\u001b[0;34m\u001b[0m\u001b[0;34m\u001b[0m\u001b[0m\n\u001b[0;32m--> 226\u001b[0;31m             \u001b[0mpid\u001b[0m\u001b[0;34m,\u001b[0m \u001b[0mfd\u001b[0m \u001b[0;34m=\u001b[0m \u001b[0mpty\u001b[0m\u001b[0;34m.\u001b[0m\u001b[0mfork\u001b[0m\u001b[0;34m(\u001b[0m\u001b[0;34m)\u001b[0m\u001b[0;34m\u001b[0m\u001b[0;34m\u001b[0m\u001b[0m\n\u001b[0m\u001b[1;32m    227\u001b[0m         \u001b[0;32melse\u001b[0m\u001b[0;34m:\u001b[0m\u001b[0;34m\u001b[0m\u001b[0;34m\u001b[0m\u001b[0m\n\u001b[1;32m    228\u001b[0m             \u001b[0;31m# Use internal fork_pty, for Solaris\u001b[0m\u001b[0;34m\u001b[0m\u001b[0;34m\u001b[0m\u001b[0;34m\u001b[0m\u001b[0m\n",
      "\u001b[0;32m~/miniconda3/envs/AWM/lib/python3.7/pty.py\u001b[0m in \u001b[0;36mfork\u001b[0;34m()\u001b[0m\n\u001b[1;32m     95\u001b[0m \u001b[0;34m\u001b[0m\u001b[0m\n\u001b[1;32m     96\u001b[0m     \u001b[0mmaster_fd\u001b[0m\u001b[0;34m,\u001b[0m \u001b[0mslave_fd\u001b[0m \u001b[0;34m=\u001b[0m \u001b[0mopenpty\u001b[0m\u001b[0;34m(\u001b[0m\u001b[0;34m)\u001b[0m\u001b[0;34m\u001b[0m\u001b[0;34m\u001b[0m\u001b[0m\n\u001b[0;32m---> 97\u001b[0;31m     \u001b[0mpid\u001b[0m \u001b[0;34m=\u001b[0m \u001b[0mos\u001b[0m\u001b[0;34m.\u001b[0m\u001b[0mfork\u001b[0m\u001b[0;34m(\u001b[0m\u001b[0;34m)\u001b[0m\u001b[0;34m\u001b[0m\u001b[0;34m\u001b[0m\u001b[0m\n\u001b[0m\u001b[1;32m     98\u001b[0m     \u001b[0;32mif\u001b[0m \u001b[0mpid\u001b[0m \u001b[0;34m==\u001b[0m \u001b[0mCHILD\u001b[0m\u001b[0;34m:\u001b[0m\u001b[0;34m\u001b[0m\u001b[0;34m\u001b[0m\u001b[0m\n\u001b[1;32m     99\u001b[0m         \u001b[0;31m# Establish a new session.\u001b[0m\u001b[0;34m\u001b[0m\u001b[0;34m\u001b[0m\u001b[0;34m\u001b[0m\u001b[0m\n",
      "\u001b[0;31mOSError\u001b[0m: [Errno 12] Cannot allocate memory"
     ]
    }
   ],
   "source": [
    "!free -m "
   ]
  },
  {
   "cell_type": "code",
   "execution_count": 14,
   "metadata": {},
   "outputs": [],
   "source": [
    "train_images = read_data(data_dir, train_ids)"
   ]
  },
  {
   "cell_type": "code",
   "execution_count": null,
   "metadata": {},
   "outputs": [],
   "source": [
    "#test_images = read_data(data_dir, test_ids)"
   ]
  },
  {
   "cell_type": "code",
   "execution_count": 11,
   "metadata": {},
   "outputs": [],
   "source": [
    "from sklearn.model_selection import train_test_split"
   ]
  },
  {
   "cell_type": "code",
   "execution_count": 12,
   "metadata": {},
   "outputs": [],
   "source": [
    "def myround(x, base=5):\n",
    "    return int(base * round(float(x)/base))"
   ]
  },
  {
   "cell_type": "code",
   "execution_count": 13,
   "metadata": {},
   "outputs": [],
   "source": [
    "def myfloor(x, base=128):\n",
    "    return int(base * int(np.floor(float(x)/base)))"
   ]
  },
  {
   "cell_type": "code",
   "execution_count": 15,
   "metadata": {},
   "outputs": [],
   "source": [
    "test_size = myround(np.floor(len(train_images) * 1/8), 128)"
   ]
  },
  {
   "cell_type": "code",
   "execution_count": 16,
   "metadata": {},
   "outputs": [],
   "source": [
    "train, val = train_test_split(train_images, test_size=test_size)"
   ]
  },
  {
   "cell_type": "code",
   "execution_count": 17,
   "metadata": {},
   "outputs": [
    {
     "data": {
      "text/plain": [
       "0"
      ]
     },
     "execution_count": 17,
     "metadata": {},
     "output_type": "execute_result"
    }
   ],
   "source": [
    "val.shape[0] % 128"
   ]
  },
  {
   "cell_type": "code",
   "execution_count": 19,
   "metadata": {},
   "outputs": [],
   "source": [
    "train_size = myfloor(len(train), 128)"
   ]
  },
  {
   "cell_type": "code",
   "execution_count": 20,
   "metadata": {},
   "outputs": [],
   "source": [
    "train = train[:train_size]"
   ]
  },
  {
   "cell_type": "code",
   "execution_count": 21,
   "metadata": {},
   "outputs": [],
   "source": [
    "## Real boii fitting\n",
    "\n",
    "class TrainTimeCallback(Callback): \n",
    "    def __init__(self): \n",
    "        super(TrainTimeCallback, self).__init__()\n",
    "        \n",
    "    def on_train_begin(self, logs=None): \n",
    "        self._start_time = time()\n",
    "        \n",
    "    def on_train_end(self, logs=None):\n",
    "        self._train_time = time() - self._start_time\n",
    "        \n",
    "    @property\n",
    "    def train_time(self):\n",
    "        s = self._train_time\n",
    "        hours, remainder = divmod(s, 3600)\n",
    "        minutes, seconds = divmod(remainder, 60)\n",
    "        \n",
    "        return f'{hours:02.0f}:{minutes:02.0f}:{seconds:02.0f}'\n",
    "    \n",
    "    def print_train_time(self):\n",
    "        print(f'Train time for model: {self.train_time}')\n",
    "\n",
    "log_dir=\"logs/fit/\" + datetime.datetime.now().strftime(\"%Y%m%d-%H%M%S\")\n",
    "\n",
    "monitor = 'loss' # change this\n",
    "callbacks = [\n",
    "    TrainTimeCallback(),\n",
    "    ModelCheckpoint('./best_VAE.h5', save_best_only=True, \n",
    "                    monitor=monitor),\n",
    "    EarlyStopping(monitor, patience=10,\n",
    "                  mode='min',\n",
    "                  restore_best_weights=True),\n",
    "    TensorBoard(log_dir=log_dir, histogram_freq=1)\n",
    "]"
   ]
  },
  {
   "cell_type": "code",
   "execution_count": 22,
   "metadata": {
    "collapsed": true
   },
   "outputs": [
    {
     "ename": "OSError",
     "evalue": "[Errno 12] Cannot allocate memory",
     "output_type": "error",
     "traceback": [
      "\u001b[0;31m---------------------------------------------------------------------------\u001b[0m",
      "\u001b[0;31mOSError\u001b[0m                                   Traceback (most recent call last)",
      "\u001b[0;32m<ipython-input-22-9b4ea23e105e>\u001b[0m in \u001b[0;36m<module>\u001b[0;34m\u001b[0m\n\u001b[0;32m----> 1\u001b[0;31m \u001b[0mget_ipython\u001b[0m\u001b[0;34m(\u001b[0m\u001b[0;34m)\u001b[0m\u001b[0;34m.\u001b[0m\u001b[0msystem\u001b[0m\u001b[0;34m(\u001b[0m\u001b[0;34m'free -m '\u001b[0m\u001b[0;34m)\u001b[0m\u001b[0;34m\u001b[0m\u001b[0;34m\u001b[0m\u001b[0m\n\u001b[0m",
      "\u001b[0;32m~/miniconda3/envs/AWM/lib/python3.7/site-packages/IPython/core/interactiveshell.py\u001b[0m in \u001b[0;36msystem_piped\u001b[0;34m(self, cmd)\u001b[0m\n\u001b[1;32m   2451\u001b[0m         \u001b[0;31m# a non-None value would trigger :func:`sys.displayhook` calls.\u001b[0m\u001b[0;34m\u001b[0m\u001b[0;34m\u001b[0m\u001b[0;34m\u001b[0m\u001b[0m\n\u001b[1;32m   2452\u001b[0m         \u001b[0;31m# Instead, we store the exit_code in user_ns.\u001b[0m\u001b[0;34m\u001b[0m\u001b[0;34m\u001b[0m\u001b[0;34m\u001b[0m\u001b[0m\n\u001b[0;32m-> 2453\u001b[0;31m         \u001b[0mself\u001b[0m\u001b[0;34m.\u001b[0m\u001b[0muser_ns\u001b[0m\u001b[0;34m[\u001b[0m\u001b[0;34m'_exit_code'\u001b[0m\u001b[0;34m]\u001b[0m \u001b[0;34m=\u001b[0m \u001b[0msystem\u001b[0m\u001b[0;34m(\u001b[0m\u001b[0mself\u001b[0m\u001b[0;34m.\u001b[0m\u001b[0mvar_expand\u001b[0m\u001b[0;34m(\u001b[0m\u001b[0mcmd\u001b[0m\u001b[0;34m,\u001b[0m \u001b[0mdepth\u001b[0m\u001b[0;34m=\u001b[0m\u001b[0;36m1\u001b[0m\u001b[0;34m)\u001b[0m\u001b[0;34m)\u001b[0m\u001b[0;34m\u001b[0m\u001b[0;34m\u001b[0m\u001b[0m\n\u001b[0m\u001b[1;32m   2454\u001b[0m \u001b[0;34m\u001b[0m\u001b[0m\n\u001b[1;32m   2455\u001b[0m     \u001b[0;32mdef\u001b[0m \u001b[0msystem_raw\u001b[0m\u001b[0;34m(\u001b[0m\u001b[0mself\u001b[0m\u001b[0;34m,\u001b[0m \u001b[0mcmd\u001b[0m\u001b[0;34m)\u001b[0m\u001b[0;34m:\u001b[0m\u001b[0;34m\u001b[0m\u001b[0;34m\u001b[0m\u001b[0m\n",
      "\u001b[0;32m~/miniconda3/envs/AWM/lib/python3.7/site-packages/IPython/utils/_process_posix.py\u001b[0m in \u001b[0;36msystem\u001b[0;34m(self, cmd)\u001b[0m\n\u001b[1;32m    154\u001b[0m                 \u001b[0mchild\u001b[0m \u001b[0;34m=\u001b[0m \u001b[0mpexpect\u001b[0m\u001b[0;34m.\u001b[0m\u001b[0mspawnb\u001b[0m\u001b[0;34m(\u001b[0m\u001b[0mself\u001b[0m\u001b[0;34m.\u001b[0m\u001b[0msh\u001b[0m\u001b[0;34m,\u001b[0m \u001b[0margs\u001b[0m\u001b[0;34m=\u001b[0m\u001b[0;34m[\u001b[0m\u001b[0;34m'-c'\u001b[0m\u001b[0;34m,\u001b[0m \u001b[0mcmd\u001b[0m\u001b[0;34m]\u001b[0m\u001b[0;34m)\u001b[0m \u001b[0;31m# Pexpect-U\u001b[0m\u001b[0;34m\u001b[0m\u001b[0;34m\u001b[0m\u001b[0m\n\u001b[1;32m    155\u001b[0m             \u001b[0;32melse\u001b[0m\u001b[0;34m:\u001b[0m\u001b[0;34m\u001b[0m\u001b[0;34m\u001b[0m\u001b[0m\n\u001b[0;32m--> 156\u001b[0;31m                 \u001b[0mchild\u001b[0m \u001b[0;34m=\u001b[0m \u001b[0mpexpect\u001b[0m\u001b[0;34m.\u001b[0m\u001b[0mspawn\u001b[0m\u001b[0;34m(\u001b[0m\u001b[0mself\u001b[0m\u001b[0;34m.\u001b[0m\u001b[0msh\u001b[0m\u001b[0;34m,\u001b[0m \u001b[0margs\u001b[0m\u001b[0;34m=\u001b[0m\u001b[0;34m[\u001b[0m\u001b[0;34m'-c'\u001b[0m\u001b[0;34m,\u001b[0m \u001b[0mcmd\u001b[0m\u001b[0;34m]\u001b[0m\u001b[0;34m)\u001b[0m  \u001b[0;31m# Vanilla Pexpect\u001b[0m\u001b[0;34m\u001b[0m\u001b[0;34m\u001b[0m\u001b[0m\n\u001b[0m\u001b[1;32m    157\u001b[0m             \u001b[0mflush\u001b[0m \u001b[0;34m=\u001b[0m \u001b[0msys\u001b[0m\u001b[0;34m.\u001b[0m\u001b[0mstdout\u001b[0m\u001b[0;34m.\u001b[0m\u001b[0mflush\u001b[0m\u001b[0;34m\u001b[0m\u001b[0;34m\u001b[0m\u001b[0m\n\u001b[1;32m    158\u001b[0m             \u001b[0;32mwhile\u001b[0m \u001b[0;32mTrue\u001b[0m\u001b[0;34m:\u001b[0m\u001b[0;34m\u001b[0m\u001b[0;34m\u001b[0m\u001b[0m\n",
      "\u001b[0;32m~/miniconda3/envs/AWM/lib/python3.7/site-packages/pexpect/pty_spawn.py\u001b[0m in \u001b[0;36m__init__\u001b[0;34m(self, command, args, timeout, maxread, searchwindowsize, logfile, cwd, env, ignore_sighup, echo, preexec_fn, encoding, codec_errors, dimensions, use_poll)\u001b[0m\n\u001b[1;32m    202\u001b[0m             \u001b[0mself\u001b[0m\u001b[0;34m.\u001b[0m\u001b[0mname\u001b[0m \u001b[0;34m=\u001b[0m \u001b[0;34m'<pexpect factory incomplete>'\u001b[0m\u001b[0;34m\u001b[0m\u001b[0;34m\u001b[0m\u001b[0m\n\u001b[1;32m    203\u001b[0m         \u001b[0;32melse\u001b[0m\u001b[0;34m:\u001b[0m\u001b[0;34m\u001b[0m\u001b[0;34m\u001b[0m\u001b[0m\n\u001b[0;32m--> 204\u001b[0;31m             \u001b[0mself\u001b[0m\u001b[0;34m.\u001b[0m\u001b[0m_spawn\u001b[0m\u001b[0;34m(\u001b[0m\u001b[0mcommand\u001b[0m\u001b[0;34m,\u001b[0m \u001b[0margs\u001b[0m\u001b[0;34m,\u001b[0m \u001b[0mpreexec_fn\u001b[0m\u001b[0;34m,\u001b[0m \u001b[0mdimensions\u001b[0m\u001b[0;34m)\u001b[0m\u001b[0;34m\u001b[0m\u001b[0;34m\u001b[0m\u001b[0m\n\u001b[0m\u001b[1;32m    205\u001b[0m         \u001b[0mself\u001b[0m\u001b[0;34m.\u001b[0m\u001b[0muse_poll\u001b[0m \u001b[0;34m=\u001b[0m \u001b[0muse_poll\u001b[0m\u001b[0;34m\u001b[0m\u001b[0;34m\u001b[0m\u001b[0m\n\u001b[1;32m    206\u001b[0m \u001b[0;34m\u001b[0m\u001b[0m\n",
      "\u001b[0;32m~/miniconda3/envs/AWM/lib/python3.7/site-packages/pexpect/pty_spawn.py\u001b[0m in \u001b[0;36m_spawn\u001b[0;34m(self, command, args, preexec_fn, dimensions)\u001b[0m\n\u001b[1;32m    301\u001b[0m \u001b[0;34m\u001b[0m\u001b[0m\n\u001b[1;32m    302\u001b[0m         self.ptyproc = self._spawnpty(self.args, env=self.env,\n\u001b[0;32m--> 303\u001b[0;31m                                      cwd=self.cwd, **kwargs)\n\u001b[0m\u001b[1;32m    304\u001b[0m \u001b[0;34m\u001b[0m\u001b[0m\n\u001b[1;32m    305\u001b[0m         \u001b[0mself\u001b[0m\u001b[0;34m.\u001b[0m\u001b[0mpid\u001b[0m \u001b[0;34m=\u001b[0m \u001b[0mself\u001b[0m\u001b[0;34m.\u001b[0m\u001b[0mptyproc\u001b[0m\u001b[0;34m.\u001b[0m\u001b[0mpid\u001b[0m\u001b[0;34m\u001b[0m\u001b[0;34m\u001b[0m\u001b[0m\n",
      "\u001b[0;32m~/miniconda3/envs/AWM/lib/python3.7/site-packages/pexpect/pty_spawn.py\u001b[0m in \u001b[0;36m_spawnpty\u001b[0;34m(self, args, **kwargs)\u001b[0m\n\u001b[1;32m    312\u001b[0m     \u001b[0;32mdef\u001b[0m \u001b[0m_spawnpty\u001b[0m\u001b[0;34m(\u001b[0m\u001b[0mself\u001b[0m\u001b[0;34m,\u001b[0m \u001b[0margs\u001b[0m\u001b[0;34m,\u001b[0m \u001b[0;34m**\u001b[0m\u001b[0mkwargs\u001b[0m\u001b[0;34m)\u001b[0m\u001b[0;34m:\u001b[0m\u001b[0;34m\u001b[0m\u001b[0;34m\u001b[0m\u001b[0m\n\u001b[1;32m    313\u001b[0m         \u001b[0;34m'''Spawn a pty and return an instance of PtyProcess.'''\u001b[0m\u001b[0;34m\u001b[0m\u001b[0;34m\u001b[0m\u001b[0m\n\u001b[0;32m--> 314\u001b[0;31m         \u001b[0;32mreturn\u001b[0m \u001b[0mptyprocess\u001b[0m\u001b[0;34m.\u001b[0m\u001b[0mPtyProcess\u001b[0m\u001b[0;34m.\u001b[0m\u001b[0mspawn\u001b[0m\u001b[0;34m(\u001b[0m\u001b[0margs\u001b[0m\u001b[0;34m,\u001b[0m \u001b[0;34m**\u001b[0m\u001b[0mkwargs\u001b[0m\u001b[0;34m)\u001b[0m\u001b[0;34m\u001b[0m\u001b[0;34m\u001b[0m\u001b[0m\n\u001b[0m\u001b[1;32m    315\u001b[0m \u001b[0;34m\u001b[0m\u001b[0m\n\u001b[1;32m    316\u001b[0m     \u001b[0;32mdef\u001b[0m \u001b[0mclose\u001b[0m\u001b[0;34m(\u001b[0m\u001b[0mself\u001b[0m\u001b[0;34m,\u001b[0m \u001b[0mforce\u001b[0m\u001b[0;34m=\u001b[0m\u001b[0;32mTrue\u001b[0m\u001b[0;34m)\u001b[0m\u001b[0;34m:\u001b[0m\u001b[0;34m\u001b[0m\u001b[0;34m\u001b[0m\u001b[0m\n",
      "\u001b[0;32m~/miniconda3/envs/AWM/lib/python3.7/site-packages/ptyprocess/ptyprocess.py\u001b[0m in \u001b[0;36mspawn\u001b[0;34m(cls, argv, cwd, env, echo, preexec_fn, dimensions)\u001b[0m\n\u001b[1;32m    224\u001b[0m \u001b[0;34m\u001b[0m\u001b[0m\n\u001b[1;32m    225\u001b[0m         \u001b[0;32mif\u001b[0m \u001b[0muse_native_pty_fork\u001b[0m\u001b[0;34m:\u001b[0m\u001b[0;34m\u001b[0m\u001b[0;34m\u001b[0m\u001b[0m\n\u001b[0;32m--> 226\u001b[0;31m             \u001b[0mpid\u001b[0m\u001b[0;34m,\u001b[0m \u001b[0mfd\u001b[0m \u001b[0;34m=\u001b[0m \u001b[0mpty\u001b[0m\u001b[0;34m.\u001b[0m\u001b[0mfork\u001b[0m\u001b[0;34m(\u001b[0m\u001b[0;34m)\u001b[0m\u001b[0;34m\u001b[0m\u001b[0;34m\u001b[0m\u001b[0m\n\u001b[0m\u001b[1;32m    227\u001b[0m         \u001b[0;32melse\u001b[0m\u001b[0;34m:\u001b[0m\u001b[0;34m\u001b[0m\u001b[0;34m\u001b[0m\u001b[0m\n\u001b[1;32m    228\u001b[0m             \u001b[0;31m# Use internal fork_pty, for Solaris\u001b[0m\u001b[0;34m\u001b[0m\u001b[0;34m\u001b[0m\u001b[0;34m\u001b[0m\u001b[0m\n",
      "\u001b[0;32m~/miniconda3/envs/AWM/lib/python3.7/pty.py\u001b[0m in \u001b[0;36mfork\u001b[0;34m()\u001b[0m\n\u001b[1;32m     95\u001b[0m \u001b[0;34m\u001b[0m\u001b[0m\n\u001b[1;32m     96\u001b[0m     \u001b[0mmaster_fd\u001b[0m\u001b[0;34m,\u001b[0m \u001b[0mslave_fd\u001b[0m \u001b[0;34m=\u001b[0m \u001b[0mopenpty\u001b[0m\u001b[0;34m(\u001b[0m\u001b[0;34m)\u001b[0m\u001b[0;34m\u001b[0m\u001b[0;34m\u001b[0m\u001b[0m\n\u001b[0;32m---> 97\u001b[0;31m     \u001b[0mpid\u001b[0m \u001b[0;34m=\u001b[0m \u001b[0mos\u001b[0m\u001b[0;34m.\u001b[0m\u001b[0mfork\u001b[0m\u001b[0;34m(\u001b[0m\u001b[0;34m)\u001b[0m\u001b[0;34m\u001b[0m\u001b[0;34m\u001b[0m\u001b[0m\n\u001b[0m\u001b[1;32m     98\u001b[0m     \u001b[0;32mif\u001b[0m \u001b[0mpid\u001b[0m \u001b[0;34m==\u001b[0m \u001b[0mCHILD\u001b[0m\u001b[0;34m:\u001b[0m\u001b[0;34m\u001b[0m\u001b[0;34m\u001b[0m\u001b[0m\n\u001b[1;32m     99\u001b[0m         \u001b[0;31m# Establish a new session.\u001b[0m\u001b[0;34m\u001b[0m\u001b[0;34m\u001b[0m\u001b[0;34m\u001b[0m\u001b[0m\n",
      "\u001b[0;31mOSError\u001b[0m: [Errno 12] Cannot allocate memory"
     ]
    }
   ],
   "source": [
    "!free -m "
   ]
  },
  {
   "cell_type": "code",
   "execution_count": null,
   "metadata": {},
   "outputs": [],
   "source": [
    "?vae.fit"
   ]
  },
  {
   "cell_type": "code",
   "execution_count": 23,
   "metadata": {
    "scrolled": true
   },
   "outputs": [
    {
     "name": "stdout",
     "output_type": "stream",
     "text": [
      "Train on 146944 samples, validate on 20992 samples\n",
      "Epoch 1/100\n",
      "   128/146944 [..............................] - ETA: 3:20:07 - loss: 802.7474WARNING:tensorflow:Method (on_train_batch_end) is slow compared to the batch update (0.217591). Check your callbacks.\n",
      "146816/146944 [============================>.] - ETA: 0s - loss: 75.8359WARNING:tensorflow:Found duplicated `Variable`s in Model's `weights`. This is usually caused by `Variable`s being shared by Layers in the Model. These `Variable`s will be treated as separate `Variable`s when the Model is restored. To avoid this, please save with `save_format=\"tf\"`.\n",
      "146944/146944 [==============================] - 73s 499us/sample - loss: 75.8060 - val_loss: 45.3696\n",
      "Epoch 2/100\n",
      "146816/146944 [============================>.] - ETA: 0s - loss: 43.2717WARNING:tensorflow:Found duplicated `Variable`s in Model's `weights`. This is usually caused by `Variable`s being shared by Layers in the Model. These `Variable`s will be treated as separate `Variable`s when the Model is restored. To avoid this, please save with `save_format=\"tf\"`.\n",
      "146944/146944 [==============================] - 62s 425us/sample - loss: 43.2695 - val_loss: 42.5181\n",
      "Epoch 3/100\n",
      "146816/146944 [============================>.] - ETA: 0s - loss: 40.7753WARNING:tensorflow:Found duplicated `Variable`s in Model's `weights`. This is usually caused by `Variable`s being shared by Layers in the Model. These `Variable`s will be treated as separate `Variable`s when the Model is restored. To avoid this, please save with `save_format=\"tf\"`.\n",
      "146944/146944 [==============================] - 62s 425us/sample - loss: 40.7751 - val_loss: 40.1590\n",
      "Epoch 4/100\n",
      "146816/146944 [============================>.] - ETA: 0s - loss: 38.9389WARNING:tensorflow:Found duplicated `Variable`s in Model's `weights`. This is usually caused by `Variable`s being shared by Layers in the Model. These `Variable`s will be treated as separate `Variable`s when the Model is restored. To avoid this, please save with `save_format=\"tf\"`.\n",
      "146944/146944 [==============================] - 63s 427us/sample - loss: 38.9401 - val_loss: 37.8929\n",
      "Epoch 5/100\n",
      "146816/146944 [============================>.] - ETA: 0s - loss: 36.8276WARNING:tensorflow:Found duplicated `Variable`s in Model's `weights`. This is usually caused by `Variable`s being shared by Layers in the Model. These `Variable`s will be treated as separate `Variable`s when the Model is restored. To avoid this, please save with `save_format=\"tf\"`.\n",
      "146944/146944 [==============================] - 62s 425us/sample - loss: 36.8277 - val_loss: 37.0913\n",
      "Epoch 6/100\n",
      "146816/146944 [============================>.] - ETA: 0s - loss: 35.5282WARNING:tensorflow:Found duplicated `Variable`s in Model's `weights`. This is usually caused by `Variable`s being shared by Layers in the Model. These `Variable`s will be treated as separate `Variable`s when the Model is restored. To avoid this, please save with `save_format=\"tf\"`.\n",
      "146944/146944 [==============================] - 63s 427us/sample - loss: 35.5287 - val_loss: 35.1801\n",
      "Epoch 7/100\n",
      "146816/146944 [============================>.] - ETA: 0s - loss: 34.7768WARNING:tensorflow:Found duplicated `Variable`s in Model's `weights`. This is usually caused by `Variable`s being shared by Layers in the Model. These `Variable`s will be treated as separate `Variable`s when the Model is restored. To avoid this, please save with `save_format=\"tf\"`.\n",
      "146944/146944 [==============================] - 63s 427us/sample - loss: 34.7744 - val_loss: 34.6125\n",
      "Epoch 8/100\n",
      "146816/146944 [============================>.] - ETA: 0s - loss: 34.3262WARNING:tensorflow:Found duplicated `Variable`s in Model's `weights`. This is usually caused by `Variable`s being shared by Layers in the Model. These `Variable`s will be treated as separate `Variable`s when the Model is restored. To avoid this, please save with `save_format=\"tf\"`.\n",
      "146944/146944 [==============================] - 62s 425us/sample - loss: 34.3246 - val_loss: 34.1122\n",
      "Epoch 9/100\n",
      "146816/146944 [============================>.] - ETA: 0s - loss: 33.4648WARNING:tensorflow:Found duplicated `Variable`s in Model's `weights`. This is usually caused by `Variable`s being shared by Layers in the Model. These `Variable`s will be treated as separate `Variable`s when the Model is restored. To avoid this, please save with `save_format=\"tf\"`.\n",
      "146944/146944 [==============================] - 63s 426us/sample - loss: 33.4649 - val_loss: 33.6853\n",
      "Epoch 10/100\n",
      "146816/146944 [============================>.] - ETA: 0s - loss: 33.2274WARNING:tensorflow:Found duplicated `Variable`s in Model's `weights`. This is usually caused by `Variable`s being shared by Layers in the Model. These `Variable`s will be treated as separate `Variable`s when the Model is restored. To avoid this, please save with `save_format=\"tf\"`.\n",
      "146944/146944 [==============================] - 63s 427us/sample - loss: 33.2259 - val_loss: 32.9399\n",
      "Epoch 11/100\n",
      "146816/146944 [============================>.] - ETA: 0s - loss: 32.6827WARNING:tensorflow:Found duplicated `Variable`s in Model's `weights`. This is usually caused by `Variable`s being shared by Layers in the Model. These `Variable`s will be treated as separate `Variable`s when the Model is restored. To avoid this, please save with `save_format=\"tf\"`.\n",
      "146944/146944 [==============================] - 63s 426us/sample - loss: 32.6817 - val_loss: 33.0247\n",
      "Epoch 12/100\n",
      "146688/146944 [============================>.] - ETA: 0s - loss: 32.1990WARNING:tensorflow:Found duplicated `Variable`s in Model's `weights`. This is usually caused by `Variable`s being shared by Layers in the Model. These `Variable`s will be treated as separate `Variable`s when the Model is restored. To avoid this, please save with `save_format=\"tf\"`.\n",
      "146944/146944 [==============================] - 63s 426us/sample - loss: 32.1952 - val_loss: 32.3585\n",
      "Epoch 13/100\n",
      "146816/146944 [============================>.] - ETA: 0s - loss: 31.8228WARNING:tensorflow:Found duplicated `Variable`s in Model's `weights`. This is usually caused by `Variable`s being shared by Layers in the Model. These `Variable`s will be treated as separate `Variable`s when the Model is restored. To avoid this, please save with `save_format=\"tf\"`.\n",
      "146944/146944 [==============================] - 63s 426us/sample - loss: 31.8251 - val_loss: 32.1841\n",
      "Epoch 14/100\n",
      "146816/146944 [============================>.] - ETA: 0s - loss: 31.6841WARNING:tensorflow:Found duplicated `Variable`s in Model's `weights`. This is usually caused by `Variable`s being shared by Layers in the Model. These `Variable`s will be treated as separate `Variable`s when the Model is restored. To avoid this, please save with `save_format=\"tf\"`.\n",
      "146944/146944 [==============================] - 63s 427us/sample - loss: 31.6827 - val_loss: 31.7259\n",
      "Epoch 15/100\n",
      "146816/146944 [============================>.] - ETA: 0s - loss: 31.3370WARNING:tensorflow:Found duplicated `Variable`s in Model's `weights`. This is usually caused by `Variable`s being shared by Layers in the Model. These `Variable`s will be treated as separate `Variable`s when the Model is restored. To avoid this, please save with `save_format=\"tf\"`.\n",
      "146944/146944 [==============================] - 63s 426us/sample - loss: 31.3356 - val_loss: 31.0531\n",
      "Epoch 16/100\n",
      "146816/146944 [============================>.] - ETA: 0s - loss: 31.3271WARNING:tensorflow:Found duplicated `Variable`s in Model's `weights`. This is usually caused by `Variable`s being shared by Layers in the Model. These `Variable`s will be treated as separate `Variable`s when the Model is restored. To avoid this, please save with `save_format=\"tf\"`.\n",
      "146944/146944 [==============================] - 63s 427us/sample - loss: 31.3275 - val_loss: 31.0406\n",
      "Epoch 17/100\n",
      "146816/146944 [============================>.] - ETA: 0s - loss: 30.9213WARNING:tensorflow:Found duplicated `Variable`s in Model's `weights`. This is usually caused by `Variable`s being shared by Layers in the Model. These `Variable`s will be treated as separate `Variable`s when the Model is restored. To avoid this, please save with `save_format=\"tf\"`.\n",
      "146944/146944 [==============================] - 63s 426us/sample - loss: 30.9200 - val_loss: 30.7493\n"
     ]
    },
    {
     "name": "stdout",
     "output_type": "stream",
     "text": [
      "Epoch 18/100\n",
      "146816/146944 [============================>.] - ETA: 0s - loss: 30.6283WARNING:tensorflow:Found duplicated `Variable`s in Model's `weights`. This is usually caused by `Variable`s being shared by Layers in the Model. These `Variable`s will be treated as separate `Variable`s when the Model is restored. To avoid this, please save with `save_format=\"tf\"`.\n",
      "146944/146944 [==============================] - 63s 427us/sample - loss: 30.6277 - val_loss: 30.9908\n",
      "Epoch 19/100\n",
      "146944/146944 [==============================] - 62s 421us/sample - loss: 30.8906 - val_loss: 30.5902\n",
      "Epoch 20/100\n",
      "146816/146944 [============================>.] - ETA: 0s - loss: 30.2521WARNING:tensorflow:Found duplicated `Variable`s in Model's `weights`. This is usually caused by `Variable`s being shared by Layers in the Model. These `Variable`s will be treated as separate `Variable`s when the Model is restored. To avoid this, please save with `save_format=\"tf\"`.\n",
      "146944/146944 [==============================] - 63s 427us/sample - loss: 30.2521 - val_loss: 30.4160\n",
      "Epoch 21/100\n",
      "146944/146944 [==============================] - 62s 421us/sample - loss: 30.2542 - val_loss: 30.4626\n",
      "Epoch 22/100\n",
      "146816/146944 [============================>.] - ETA: 0s - loss: 30.1085WARNING:tensorflow:Found duplicated `Variable`s in Model's `weights`. This is usually caused by `Variable`s being shared by Layers in the Model. These `Variable`s will be treated as separate `Variable`s when the Model is restored. To avoid this, please save with `save_format=\"tf\"`.\n",
      "146944/146944 [==============================] - 63s 427us/sample - loss: 30.1077 - val_loss: 30.0183\n",
      "Epoch 23/100\n",
      "146944/146944 [==============================] - 62s 420us/sample - loss: 30.1576 - val_loss: 29.9564\n",
      "Epoch 24/100\n",
      "146816/146944 [============================>.] - ETA: 0s - loss: 29.7903WARNING:tensorflow:Found duplicated `Variable`s in Model's `weights`. This is usually caused by `Variable`s being shared by Layers in the Model. These `Variable`s will be treated as separate `Variable`s when the Model is restored. To avoid this, please save with `save_format=\"tf\"`.\n",
      "146944/146944 [==============================] - 63s 427us/sample - loss: 29.7896 - val_loss: 29.6744\n",
      "Epoch 25/100\n",
      "146944/146944 [==============================] - 62s 420us/sample - loss: 30.0538 - val_loss: 29.5986\n",
      "Epoch 26/100\n",
      "146816/146944 [============================>.] - ETA: 0s - loss: 29.5036WARNING:tensorflow:Found duplicated `Variable`s in Model's `weights`. This is usually caused by `Variable`s being shared by Layers in the Model. These `Variable`s will be treated as separate `Variable`s when the Model is restored. To avoid this, please save with `save_format=\"tf\"`.\n",
      "146944/146944 [==============================] - 62s 425us/sample - loss: 29.5032 - val_loss: 29.5865\n",
      "Epoch 27/100\n",
      "146816/146944 [============================>.] - ETA: 0s - loss: 29.4249WARNING:tensorflow:Found duplicated `Variable`s in Model's `weights`. This is usually caused by `Variable`s being shared by Layers in the Model. These `Variable`s will be treated as separate `Variable`s when the Model is restored. To avoid this, please save with `save_format=\"tf\"`.\n",
      "146944/146944 [==============================] - 63s 426us/sample - loss: 29.4255 - val_loss: 29.3766\n",
      "Epoch 28/100\n",
      "146944/146944 [==============================] - 62s 420us/sample - loss: 29.4769 - val_loss: 29.8561\n",
      "Epoch 29/100\n",
      "146816/146944 [============================>.] - ETA: 0s - loss: 29.1636WARNING:tensorflow:Found duplicated `Variable`s in Model's `weights`. This is usually caused by `Variable`s being shared by Layers in the Model. These `Variable`s will be treated as separate `Variable`s when the Model is restored. To avoid this, please save with `save_format=\"tf\"`.\n",
      "146944/146944 [==============================] - 63s 427us/sample - loss: 29.1636 - val_loss: 29.3296\n",
      "Epoch 30/100\n",
      "146944/146944 [==============================] - 62s 420us/sample - loss: 29.2667 - val_loss: 29.7868\n",
      "Epoch 31/100\n",
      "146944/146944 [==============================] - 62s 420us/sample - loss: 29.1994 - val_loss: 29.7037\n",
      "Epoch 32/100\n",
      "146816/146944 [============================>.] - ETA: 0s - loss: 28.8603WARNING:tensorflow:Found duplicated `Variable`s in Model's `weights`. This is usually caused by `Variable`s being shared by Layers in the Model. These `Variable`s will be treated as separate `Variable`s when the Model is restored. To avoid this, please save with `save_format=\"tf\"`.\n",
      "146944/146944 [==============================] - 63s 427us/sample - loss: 28.8604 - val_loss: 29.2151\n",
      "Epoch 33/100\n",
      "146944/146944 [==============================] - 62s 421us/sample - loss: 28.8744 - val_loss: 29.1841\n",
      "Epoch 34/100\n",
      "146816/146944 [============================>.] - ETA: 0s - loss: 28.7728WARNING:tensorflow:Found duplicated `Variable`s in Model's `weights`. This is usually caused by `Variable`s being shared by Layers in the Model. These `Variable`s will be treated as separate `Variable`s when the Model is restored. To avoid this, please save with `save_format=\"tf\"`.\n",
      "146944/146944 [==============================] - 63s 427us/sample - loss: 28.7724 - val_loss: 28.8416\n",
      "Epoch 35/100\n",
      "146944/146944 [==============================] - 62s 420us/sample - loss: 28.8648 - val_loss: 28.8834\n",
      "Epoch 36/100\n",
      "146816/146944 [============================>.] - ETA: 0s - loss: 28.6106WARNING:tensorflow:Found duplicated `Variable`s in Model's `weights`. This is usually caused by `Variable`s being shared by Layers in the Model. These `Variable`s will be treated as separate `Variable`s when the Model is restored. To avoid this, please save with `save_format=\"tf\"`.\n",
      "146944/146944 [==============================] - 63s 427us/sample - loss: 28.6098 - val_loss: 28.4455\n",
      "Epoch 37/100\n",
      "146944/146944 [==============================] - 62s 420us/sample - loss: 28.6644 - val_loss: 28.6361\n",
      "Epoch 38/100\n",
      "146816/146944 [============================>.] - ETA: 0s - loss: 28.5252WARNING:tensorflow:Found duplicated `Variable`s in Model's `weights`. This is usually caused by `Variable`s being shared by Layers in the Model. These `Variable`s will be treated as separate `Variable`s when the Model is restored. To avoid this, please save with `save_format=\"tf\"`.\n",
      "146944/146944 [==============================] - 63s 427us/sample - loss: 28.5249 - val_loss: 28.9430\n",
      "Epoch 39/100\n",
      "146816/146944 [============================>.] - ETA: 0s - loss: 28.3910WARNING:tensorflow:Found duplicated `Variable`s in Model's `weights`. This is usually caused by `Variable`s being shared by Layers in the Model. These `Variable`s will be treated as separate `Variable`s when the Model is restored. To avoid this, please save with `save_format=\"tf\"`.\n",
      "146944/146944 [==============================] - 63s 428us/sample - loss: 28.3912 - val_loss: 28.5468\n",
      "Epoch 40/100\n",
      "146944/146944 [==============================] - 62s 421us/sample - loss: 28.5065 - val_loss: 28.6270\n",
      "Epoch 41/100\n",
      "146688/146944 [============================>.] - ETA: 0s - loss: 28.3027WARNING:tensorflow:Found duplicated `Variable`s in Model's `weights`. This is usually caused by `Variable`s being shared by Layers in the Model. These `Variable`s will be treated as separate `Variable`s when the Model is restored. To avoid this, please save with `save_format=\"tf\"`.\n",
      "146944/146944 [==============================] - 63s 426us/sample - loss: 28.3014 - val_loss: 28.1935\n",
      "Epoch 42/100\n",
      "146944/146944 [==============================] - 62s 420us/sample - loss: 28.4557 - val_loss: 28.3164\n",
      "Epoch 43/100\n",
      "146944/146944 [==============================] - 62s 420us/sample - loss: 28.3021 - val_loss: 28.6839\n",
      "Epoch 44/100\n",
      "146816/146944 [============================>.] - ETA: 0s - loss: 28.0923WARNING:tensorflow:Found duplicated `Variable`s in Model's `weights`. This is usually caused by `Variable`s being shared by Layers in the Model. These `Variable`s will be treated as separate `Variable`s when the Model is restored. To avoid this, please save with `save_format=\"tf\"`.\n",
      "146944/146944 [==============================] - 62s 425us/sample - loss: 28.0922 - val_loss: 28.4244\n",
      "Epoch 45/100\n",
      "146944/146944 [==============================] - 62s 421us/sample - loss: 28.1997 - val_loss: 28.0135\n",
      "Epoch 46/100\n"
     ]
    },
    {
     "name": "stdout",
     "output_type": "stream",
     "text": [
      "146688/146944 [============================>.] - ETA: 0s - loss: 28.0421WARNING:tensorflow:Found duplicated `Variable`s in Model's `weights`. This is usually caused by `Variable`s being shared by Layers in the Model. These `Variable`s will be treated as separate `Variable`s when the Model is restored. To avoid this, please save with `save_format=\"tf\"`.\n",
      "146944/146944 [==============================] - 63s 427us/sample - loss: 28.0409 - val_loss: 28.1971\n",
      "Epoch 47/100\n",
      "146944/146944 [==============================] - 62s 421us/sample - loss: 28.1594 - val_loss: 28.1110\n",
      "Epoch 48/100\n",
      "146816/146944 [============================>.] - ETA: 0s - loss: 27.9780WARNING:tensorflow:Found duplicated `Variable`s in Model's `weights`. This is usually caused by `Variable`s being shared by Layers in the Model. These `Variable`s will be treated as separate `Variable`s when the Model is restored. To avoid this, please save with `save_format=\"tf\"`.\n",
      "146944/146944 [==============================] - 63s 429us/sample - loss: 27.9782 - val_loss: 28.0118\n",
      "Epoch 49/100\n",
      "146816/146944 [============================>.] - ETA: 0s - loss: 27.9302WARNING:tensorflow:Found duplicated `Variable`s in Model's `weights`. This is usually caused by `Variable`s being shared by Layers in the Model. These `Variable`s will be treated as separate `Variable`s when the Model is restored. To avoid this, please save with `save_format=\"tf\"`.\n",
      "146944/146944 [==============================] - 63s 427us/sample - loss: 27.9298 - val_loss: 27.9434\n",
      "Epoch 50/100\n",
      "146944/146944 [==============================] - 62s 421us/sample - loss: 27.9725 - val_loss: 28.0747\n",
      "Epoch 51/100\n",
      "146944/146944 [==============================] - 62s 421us/sample - loss: 28.0493 - val_loss: 28.0098\n",
      "Epoch 52/100\n",
      "146816/146944 [============================>.] - ETA: 0s - loss: 27.8528WARNING:tensorflow:Found duplicated `Variable`s in Model's `weights`. This is usually caused by `Variable`s being shared by Layers in the Model. These `Variable`s will be treated as separate `Variable`s when the Model is restored. To avoid this, please save with `save_format=\"tf\"`.\n",
      "146944/146944 [==============================] - 63s 428us/sample - loss: 27.8522 - val_loss: 27.9340\n",
      "Epoch 53/100\n",
      "146816/146944 [============================>.] - ETA: 0s - loss: 27.7075WARNING:tensorflow:Found duplicated `Variable`s in Model's `weights`. This is usually caused by `Variable`s being shared by Layers in the Model. These `Variable`s will be treated as separate `Variable`s when the Model is restored. To avoid this, please save with `save_format=\"tf\"`.\n",
      "146944/146944 [==============================] - 62s 425us/sample - loss: 27.7071 - val_loss: 27.9572\n",
      "Epoch 54/100\n",
      "146944/146944 [==============================] - 62s 420us/sample - loss: 27.9136 - val_loss: 27.8977\n",
      "Epoch 55/100\n",
      "146944/146944 [==============================] - 62s 420us/sample - loss: 27.8027 - val_loss: 27.8137\n",
      "Epoch 56/100\n",
      "146944/146944 [==============================] - 62s 420us/sample - loss: 27.7108 - val_loss: 28.4059\n",
      "Epoch 57/100\n",
      "146944/146944 [==============================] - 62s 420us/sample - loss: 27.7271 - val_loss: 27.6110\n",
      "Epoch 58/100\n",
      "146944/146944 [==============================] - 62s 420us/sample - loss: 27.7107 - val_loss: 27.6978\n",
      "Epoch 59/100\n",
      "146816/146944 [============================>.] - ETA: 0s - loss: 27.5773WARNING:tensorflow:Found duplicated `Variable`s in Model's `weights`. This is usually caused by `Variable`s being shared by Layers in the Model. These `Variable`s will be treated as separate `Variable`s when the Model is restored. To avoid this, please save with `save_format=\"tf\"`.\n",
      "146944/146944 [==============================] - 63s 427us/sample - loss: 27.5773 - val_loss: 27.6099\n",
      "Epoch 60/100\n",
      "146944/146944 [==============================] - 62s 420us/sample - loss: 27.6179 - val_loss: 27.7586\n",
      "Epoch 61/100\n",
      "146816/146944 [============================>.] - ETA: 0s - loss: 27.4784WARNING:tensorflow:Found duplicated `Variable`s in Model's `weights`. This is usually caused by `Variable`s being shared by Layers in the Model. These `Variable`s will be treated as separate `Variable`s when the Model is restored. To avoid this, please save with `save_format=\"tf\"`.\n",
      "146944/146944 [==============================] - 63s 427us/sample - loss: 27.4778 - val_loss: 27.6042\n",
      "Epoch 62/100\n",
      "146944/146944 [==============================] - 62s 420us/sample - loss: 27.6957 - val_loss: 27.7476\n",
      "Epoch 63/100\n",
      "146944/146944 [==============================] - 62s 420us/sample - loss: 27.6069 - val_loss: 28.1736\n",
      "Epoch 64/100\n",
      "146816/146944 [============================>.] - ETA: 0s - loss: 27.4440WARNING:tensorflow:Found duplicated `Variable`s in Model's `weights`. This is usually caused by `Variable`s being shared by Layers in the Model. These `Variable`s will be treated as separate `Variable`s when the Model is restored. To avoid this, please save with `save_format=\"tf\"`.\n",
      "146944/146944 [==============================] - 63s 427us/sample - loss: 27.4454 - val_loss: 27.5491\n",
      "Epoch 65/100\n",
      "146816/146944 [============================>.] - ETA: 0s - loss: 27.3541WARNING:tensorflow:Found duplicated `Variable`s in Model's `weights`. This is usually caused by `Variable`s being shared by Layers in the Model. These `Variable`s will be treated as separate `Variable`s when the Model is restored. To avoid this, please save with `save_format=\"tf\"`.\n",
      "146944/146944 [==============================] - 63s 427us/sample - loss: 27.3537 - val_loss: 27.4842\n",
      "Epoch 66/100\n",
      "146944/146944 [==============================] - 62s 420us/sample - loss: 27.4790 - val_loss: 27.7739\n",
      "Epoch 67/100\n",
      "146944/146944 [==============================] - 62s 421us/sample - loss: 27.6348 - val_loss: 27.2447\n",
      "Epoch 68/100\n",
      "146816/146944 [============================>.] - ETA: 0s - loss: 27.3091WARNING:tensorflow:Found duplicated `Variable`s in Model's `weights`. This is usually caused by `Variable`s being shared by Layers in the Model. These `Variable`s will be treated as separate `Variable`s when the Model is restored. To avoid this, please save with `save_format=\"tf\"`.\n",
      "146944/146944 [==============================] - 63s 426us/sample - loss: 27.3093 - val_loss: 27.3549\n",
      "Epoch 69/100\n",
      "146944/146944 [==============================] - 62s 421us/sample - loss: 27.3153 - val_loss: 27.9140\n",
      "Epoch 70/100\n",
      "146944/146944 [==============================] - 62s 421us/sample - loss: 27.7254 - val_loss: 28.0665\n",
      "Epoch 71/100\n",
      "146944/146944 [==============================] - 62s 420us/sample - loss: 27.6039 - val_loss: 27.6151\n",
      "Epoch 72/100\n",
      "146944/146944 [==============================] - 62s 421us/sample - loss: 27.4468 - val_loss: 27.4208\n",
      "Epoch 73/100\n",
      "146944/146944 [==============================] - 62s 421us/sample - loss: 27.5262 - val_loss: 27.6897\n",
      "Epoch 74/100\n",
      "146816/146944 [============================>.] - ETA: 0s - loss: 27.2278WARNING:tensorflow:Found duplicated `Variable`s in Model's `weights`. This is usually caused by `Variable`s being shared by Layers in the Model. These `Variable`s will be treated as separate `Variable`s when the Model is restored. To avoid this, please save with `save_format=\"tf\"`.\n",
      "146944/146944 [==============================] - 63s 428us/sample - loss: 27.2284 - val_loss: 27.5939\n",
      "Epoch 75/100\n",
      "146944/146944 [==============================] - 62s 421us/sample - loss: 27.3560 - val_loss: 27.3135\n",
      "Epoch 76/100\n",
      "146944/146944 [==============================] - 62s 421us/sample - loss: 27.2374 - val_loss: 27.9837\n",
      "Epoch 77/100\n",
      "146944/146944 [==============================] - 62s 421us/sample - loss: 27.2707 - val_loss: 27.4144\n",
      "Epoch 78/100\n",
      "146816/146944 [============================>.] - ETA: 0s - loss: 27.1418WARNING:tensorflow:Found duplicated `Variable`s in Model's `weights`. This is usually caused by `Variable`s being shared by Layers in the Model. These `Variable`s will be treated as separate `Variable`s when the Model is restored. To avoid this, please save with `save_format=\"tf\"`.\n",
      "146944/146944 [==============================] - 63s 426us/sample - loss: 27.1418 - val_loss: 27.4334\n",
      "Epoch 79/100\n",
      "146944/146944 [==============================] - 62s 421us/sample - loss: 27.1542 - val_loss: 27.2544\n",
      "Epoch 80/100\n",
      "146944/146944 [==============================] - 62s 421us/sample - loss: 27.3577 - val_loss: 27.1558\n",
      "Epoch 81/100\n",
      "146688/146944 [============================>.] - ETA: 0s - loss: 27.0256WARNING:tensorflow:Found duplicated `Variable`s in Model's `weights`. This is usually caused by `Variable`s being shared by Layers in the Model. These `Variable`s will be treated as separate `Variable`s when the Model is restored. To avoid this, please save with `save_format=\"tf\"`.\n",
      "146944/146944 [==============================] - 63s 427us/sample - loss: 27.0248 - val_loss: 27.0243\n",
      "Epoch 82/100\n",
      "146944/146944 [==============================] - 62s 422us/sample - loss: 27.1263 - val_loss: 27.3098\n",
      "Epoch 83/100\n",
      "146816/146944 [============================>.] - ETA: 0s - loss: 26.9756WARNING:tensorflow:Found duplicated `Variable`s in Model's `weights`. This is usually caused by `Variable`s being shared by Layers in the Model. These `Variable`s will be treated as separate `Variable`s when the Model is restored. To avoid this, please save with `save_format=\"tf\"`.\n",
      "146944/146944 [==============================] - 63s 428us/sample - loss: 26.9759 - val_loss: 27.1391\n",
      "Epoch 84/100\n",
      "146944/146944 [==============================] - 62s 421us/sample - loss: 27.1354 - val_loss: 27.3400\n",
      "Epoch 85/100\n",
      "146944/146944 [==============================] - 62s 421us/sample - loss: 27.0169 - val_loss: 26.9625\n",
      "Epoch 86/100\n",
      "146944/146944 [==============================] - 62s 422us/sample - loss: 27.0655 - val_loss: 27.1812\n",
      "Epoch 87/100\n",
      "146944/146944 [==============================] - 62s 422us/sample - loss: 27.2005 - val_loss: 27.4119\n",
      "Epoch 88/100\n",
      "146944/146944 [==============================] - 62s 422us/sample - loss: 27.0827 - val_loss: 27.2173\n",
      "Epoch 89/100\n",
      "146816/146944 [============================>.] - ETA: 0s - loss: 26.9753WARNING:tensorflow:Found duplicated `Variable`s in Model's `weights`. This is usually caused by `Variable`s being shared by Layers in the Model. These `Variable`s will be treated as separate `Variable`s when the Model is restored. To avoid this, please save with `save_format=\"tf\"`.\n",
      "146944/146944 [==============================] - 63s 429us/sample - loss: 26.9751 - val_loss: 27.0856\n",
      "Epoch 90/100\n",
      "146816/146944 [============================>.] - ETA: 0s - loss: 26.8295WARNING:tensorflow:Found duplicated `Variable`s in Model's `weights`. This is usually caused by `Variable`s being shared by Layers in the Model. These `Variable`s will be treated as separate `Variable`s when the Model is restored. To avoid this, please save with `save_format=\"tf\"`.\n",
      "146944/146944 [==============================] - 63s 428us/sample - loss: 26.8293 - val_loss: 27.0106\n",
      "Epoch 91/100\n",
      "146944/146944 [==============================] - 62s 421us/sample - loss: 26.9901 - val_loss: 27.4149\n",
      "Epoch 92/100\n",
      "146816/146944 [============================>.] - ETA: 0s - loss: 26.7720WARNING:tensorflow:Found duplicated `Variable`s in Model's `weights`. This is usually caused by `Variable`s being shared by Layers in the Model. These `Variable`s will be treated as separate `Variable`s when the Model is restored. To avoid this, please save with `save_format=\"tf\"`.\n",
      "146944/146944 [==============================] - 63s 428us/sample - loss: 26.7710 - val_loss: 26.7307\n",
      "Epoch 93/100\n",
      "146944/146944 [==============================] - 62s 422us/sample - loss: 27.1761 - val_loss: 30.5723\n",
      "Epoch 94/100\n",
      "146944/146944 [==============================] - 62s 422us/sample - loss: 27.5341 - val_loss: 27.1840\n",
      "Epoch 95/100\n",
      "146944/146944 [==============================] - 62s 421us/sample - loss: 27.1651 - val_loss: 27.1137\n",
      "Epoch 96/100\n",
      "146944/146944 [==============================] - 62s 421us/sample - loss: 27.1310 - val_loss: 27.3700\n",
      "Epoch 97/100\n",
      "146944/146944 [==============================] - 62s 421us/sample - loss: 27.1762 - val_loss: 27.1177\n",
      "Epoch 98/100\n",
      "146944/146944 [==============================] - 62s 421us/sample - loss: 27.1633 - val_loss: 27.1239\n",
      "Epoch 99/100\n",
      "146944/146944 [==============================] - 62s 421us/sample - loss: 26.8913 - val_loss: 26.9027\n",
      "Epoch 100/100\n",
      "146816/146944 [============================>.] - ETA: 0s - loss: 26.7653WARNING:tensorflow:Found duplicated `Variable`s in Model's `weights`. This is usually caused by `Variable`s being shared by Layers in the Model. These `Variable`s will be treated as separate `Variable`s when the Model is restored. To avoid this, please save with `save_format=\"tf\"`.\n",
      "146944/146944 [==============================] - 63s 426us/sample - loss: 26.7656 - val_loss: 27.1783\n",
      "Train time for model: 01:43:56\n"
     ]
    }
   ],
   "source": [
    "history = vae.fit(train,\n",
    "                  epochs=100, \n",
    "                  batch_size=BATCH_SIZE,\n",
    "                  callbacks=callbacks, \n",
    "                  validation_data=(val, None), )\n",
    "    \n",
    "callbacks[0].print_train_time()\n",
    "\n",
    "with open('history.json', 'w+') as f:\n",
    "    f.write(json.dumps(history.history))"
   ]
  },
  {
   "cell_type": "code",
   "execution_count": 24,
   "metadata": {},
   "outputs": [
    {
     "data": {
      "text/plain": [
       "[<matplotlib.lines.Line2D at 0x7f50711ef0d0>]"
      ]
     },
     "execution_count": 24,
     "metadata": {},
     "output_type": "execute_result"
    },
    {
     "data": {
      "image/png": "[encoded data removed]",
      "text/plain": [
       "<Figure size 432x288 with 1 Axes>"
      ]
     },
     "metadata": {
      "needs_background": "light"
     },
     "output_type": "display_data"
    }
   ],
   "source": [
    "plt.plot(history.history['loss'])"
   ]
  },
  {
   "cell_type": "code",
   "execution_count": 25,
   "metadata": {},
   "outputs": [
    {
     "data": {
      "text/plain": [
       "[<matplotlib.lines.Line2D at 0x7f50720682d0>]"
      ]
     },
     "execution_count": 25,
     "metadata": {},
     "output_type": "execute_result"
    },
    {
     "data": {
      "image/png": "[encoded data removed]",
      "text/plain": [
       "<Figure size 432x288 with 1 Axes>"
      ]
     },
     "metadata": {
      "needs_background": "light"
     },
     "output_type": "display_data"
    }
   ],
   "source": [
    "plt.plot(history.history['val_loss'])"
   ]
  },
  {
   "cell_type": "code",
   "execution_count": 26,
   "metadata": {},
   "outputs": [
    {
     "data": {
      "text/plain": [
       "dict_keys(['loss', 'val_loss'])"
      ]
     },
     "execution_count": 26,
     "metadata": {},
     "output_type": "execute_result"
    }
   ],
   "source": [
    "history.history.keys()"
   ]
  },
  {
   "cell_type": "code",
   "execution_count": 27,
   "metadata": {},
   "outputs": [],
   "source": [
    "im = sample(vae.layers[2])"
   ]
  },
  {
   "cell_type": "code",
   "execution_count": 28,
   "metadata": {},
   "outputs": [
    {
     "data": {
      "text/plain": [
       "(128, 64, 64, 3)"
      ]
     },
     "execution_count": 28,
     "metadata": {},
     "output_type": "execute_result"
    }
   ],
   "source": [
    "im.shape"
   ]
  },
  {
   "cell_type": "code",
   "execution_count": 33,
   "metadata": {},
   "outputs": [
    {
     "data": {
      "text/plain": [
       "<matplotlib.image.AxesImage at 0x7f50706871d0>"
      ]
     },
     "execution_count": 33,
     "metadata": {},
     "output_type": "execute_result"
    },
    {
     "data": {
      "image/png": "[encoded data removed]",
      "text/plain": [
       "<Figure size 432x288 with 1 Axes>"
      ]
     },
     "metadata": {
      "needs_background": "light"
     },
     "output_type": "display_data"
    }
   ],
   "source": [
    "plt.imshow(im[6])"
   ]
  },
  {
   "cell_type": "code",
   "execution_count": 43,
   "metadata": {},
   "outputs": [],
   "source": [
    "vae.save_weights('./weights/2019.12.07/vae_weights', save_format='tf')"
   ]
  },
  {
   "cell_type": "code",
   "execution_count": 44,
   "metadata": {},
   "outputs": [],
   "source": [
    "decoder.save_weights('./weights/2019.12.07/decoder_weights', save_format='tf')"
   ]
  },
  {
   "cell_type": "code",
   "execution_count": 45,
   "metadata": {},
   "outputs": [],
   "source": [
    "encoder.save_weights('./weights/2019.12.07/encoder_weights', save_format='tf')"
   ]
  },
  {
   "cell_type": "code",
   "execution_count": 53,
   "metadata": {},
   "outputs": [],
   "source": [
    "img = decoder(encoder(train[:128])[2])"
   ]
  },
  {
   "cell_type": "code",
   "execution_count": 54,
   "metadata": {},
   "outputs": [
    {
     "data": {
      "text/plain": [
       "<matplotlib.image.AxesImage at 0x7f4c65aa9b10>"
      ]
     },
     "execution_count": 54,
     "metadata": {},
     "output_type": "execute_result"
    },
    {
     "data": {
      "image/png": "[encoded data removed]",
      "text/plain": [
       "<Figure size 432x288 with 1 Axes>"
      ]
     },
     "metadata": {
      "needs_background": "light"
     },
     "output_type": "display_data"
    }
   ],
   "source": [
    "plt.imshow(img[0])"
   ]
  },
  {
   "cell_type": "code",
   "execution_count": 55,
   "metadata": {},
   "outputs": [
    {
     "data": {
      "text/plain": [
       "<matplotlib.image.AxesImage at 0x7f4c65a66810>"
      ]
     },
     "execution_count": 55,
     "metadata": {},
     "output_type": "execute_result"
    },
    {
     "data": {
      "image/png": "[encoded data removed]",
      "text/plain": [
       "<Figure size 432x288 with 1 Axes>"
      ]
     },
     "metadata": {
      "needs_background": "light"
     },
     "output_type": "display_data"
    }
   ],
   "source": [
    "plt.imshow(train[0])"
   ]
  },
  {
   "cell_type": "code",
   "execution_count": null,
   "metadata": {},
   "outputs": [],
   "source": []
  },
  {
   "cell_type": "code",
   "execution_count": null,
   "metadata": {},
   "outputs": [],
   "source": []
  }
 ],
 "metadata": {
  "kernelspec": {
   "display_name": "Python 3",
   "language": "python",
   "name": "python3"
  },
  "language_info": {
   "codemirror_mode": {
    "name": "ipython",
    "version": 3
   },
   "file_extension": ".py",
   "mimetype": "text/x-python",
   "name": "python",
   "nbconvert_exporter": "python",
   "pygments_lexer": "ipython3",
   "version": "3.7.5"
  }
 },
 "nbformat": 4,
 "nbformat_minor": 2
}
