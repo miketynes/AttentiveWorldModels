{
 "cells": [
  {
   "cell_type": "markdown",
   "metadata": {},
   "source": [
    "Electric Boogaloo!"
   ]
  },
  {
   "cell_type": "markdown",
   "metadata": {},
   "source": [
    "Keras style nn"
   ]
  },
  {
   "cell_type": "code",
   "execution_count": 1,
   "metadata": {},
   "outputs": [],
   "source": [
    "import os\n",
    "\n",
    "import numpy as np\n",
    "import matplotlib.pyplot as plt\n",
    "from skimage.transform import resize"
   ]
  },
  {
   "cell_type": "code",
   "execution_count": 33,
   "metadata": {},
   "outputs": [],
   "source": [
    "import tensorflow as tf\n",
    "\n",
    "physical_devices = tf.config.experimental.list_physical_devices('GPU')\n",
    "physical_devices\n",
    "\n",
    "tf.config.experimental.set_memory_growth(physical_devices[0], True)\n",
    "\"\"\"\n",
    "The above line comes from here: \n",
    "https://github.com/tensorflow/tensorflow/blob/6e559b96c8146ce15c7c03f66e515e31a6b0aa00/tensorflow/python/framework/config.py#L443\n",
    "\"\"\"\n",
    "\n",
    "import tensorflow.keras.backend as K\n",
    "from tensorflow.keras.models import Model\n",
    "from tensorflow.keras.layers import (Conv2D, Input, Reshape, \n",
    "                                     Lambda, Dense, Conv2DTranspose)"
   ]
  },
  {
   "cell_type": "code",
   "execution_count": null,
   "metadata": {},
   "outputs": [],
   "source": []
  },
  {
   "cell_type": "code",
   "execution_count": 7,
   "metadata": {},
   "outputs": [],
   "source": [
    "LATENT_SIZE = 32\n",
    "BATCH_SIZE  = 128\n",
    "KL_TOLERANCE = 0.5\n",
    "LEARNING_RATE = 1e-4"
   ]
  },
  {
   "cell_type": "code",
   "execution_count": 8,
   "metadata": {},
   "outputs": [],
   "source": [
    "def sampling(args):\n",
    "    \"\"\"Reparameterization trick by sampling from an isotropic unit Gaussian.\n",
    "\n",
    "    # Arguments\n",
    "        args (tensor): mean and log of variance of Q(z|X)\n",
    "\n",
    "    # Returns\n",
    "        z (tensor): sampled latent vector\n",
    "    \"\"\"\n",
    "    \n",
    "    # import pdb; pdb.set_trace()\n",
    "    z_mean, z_log_var = args\n",
    "    #_batch = z_mean.shape[0]\n",
    "    #_dim = z_mean.shape[1]\n",
    "    batch = BATCH_SIZE# if _batch is None else _batch\n",
    "    dim = LATENT_SIZE #if _dim is None else _dim\n",
    "    # by default, random_normal has mean = 0 and std = 1.0\n",
    "    epsilon = K.random_normal(shape=(batch, dim))\n",
    "    foo = z_mean + K.exp(0.5 * z_log_var)# * epsilon\n",
    "    print(foo.shape)\n",
    "    bar = foo * epsilon\n",
    "    print(bar.shape)\n",
    "    return bar\n"
   ]
  },
  {
   "cell_type": "markdown",
   "metadata": {},
   "source": [
    "## ENCODER"
   ]
  },
  {
   "cell_type": "code",
   "execution_count": 9,
   "metadata": {},
   "outputs": [
    {
     "name": "stdout",
     "output_type": "stream",
     "text": [
      "(None, 32)\n",
      "(128, 32)\n"
     ]
    }
   ],
   "source": [
    "inputs = Input(shape=(64, 64, 3), name='encoder_input')\n",
    "h = Conv2D(32, 4, strides=2, activation=\"relu\", name=\"enc_conv1\")(inputs)\n",
    "h = Conv2D(64, 4, strides=2, activation=\"relu\", name=\"enc_conv2\")(h)\n",
    "h = Conv2D(128, 4, strides=2, activation=\"relu\", name=\"enc_conv3\")(h)\n",
    "h = Conv2D(256, 4, strides=2, activation=\"relu\", name=\"enc_conv4\")(h)\n",
    "h = Reshape([2*2*256])(h)\n",
    "\n",
    "\n",
    "\n",
    "z_mean = Dense(LATENT_SIZE, name='z_mean')(h)\n",
    "z_log_var = Dense(LATENT_SIZE, name='z_log_var')(h)\n",
    "z = Lambda(sampling, output_shape=(LATENT_SIZE,), name='z')([z_mean, z_log_var])\n",
    "encoder = Model(inputs, [z_mean, z_log_var, z], name='encoder')\n"
   ]
  },
  {
   "cell_type": "code",
   "execution_count": 10,
   "metadata": {
    "scrolled": true
   },
   "outputs": [
    {
     "name": "stdout",
     "output_type": "stream",
     "text": [
      "Model: \"encoder\"\n",
      "__________________________________________________________________________________________________\n",
      "Layer (type)                    Output Shape         Param #     Connected to                     \n",
      "==================================================================================================\n",
      "encoder_input (InputLayer)      [(None, 64, 64, 3)]  0                                            \n",
      "__________________________________________________________________________________________________\n",
      "enc_conv1 (Conv2D)              (None, 31, 31, 32)   1568        encoder_input[0][0]              \n",
      "__________________________________________________________________________________________________\n",
      "enc_conv2 (Conv2D)              (None, 14, 14, 64)   32832       enc_conv1[0][0]                  \n",
      "__________________________________________________________________________________________________\n",
      "enc_conv3 (Conv2D)              (None, 6, 6, 128)    131200      enc_conv2[0][0]                  \n",
      "__________________________________________________________________________________________________\n",
      "enc_conv4 (Conv2D)              (None, 2, 2, 256)    524544      enc_conv3[0][0]                  \n",
      "__________________________________________________________________________________________________\n",
      "reshape (Reshape)               (None, 1024)         0           enc_conv4[0][0]                  \n",
      "__________________________________________________________________________________________________\n",
      "z_mean (Dense)                  (None, 32)           32800       reshape[0][0]                    \n",
      "__________________________________________________________________________________________________\n",
      "z_log_var (Dense)               (None, 32)           32800       reshape[0][0]                    \n",
      "__________________________________________________________________________________________________\n",
      "z (Lambda)                      (128, 32)            0           z_mean[0][0]                     \n",
      "                                                                 z_log_var[0][0]                  \n",
      "==================================================================================================\n",
      "Total params: 755,744\n",
      "Trainable params: 755,744\n",
      "Non-trainable params: 0\n",
      "__________________________________________________________________________________________________\n"
     ]
    }
   ],
   "source": [
    "encoder.summary()"
   ]
  },
  {
   "cell_type": "markdown",
   "metadata": {},
   "source": [
    "## DECODER"
   ]
  },
  {
   "cell_type": "code",
   "execution_count": 11,
   "metadata": {
    "scrolled": true
   },
   "outputs": [
    {
     "name": "stdout",
     "output_type": "stream",
     "text": [
      "Model: \"decoder\"\n",
      "_________________________________________________________________\n",
      "Layer (type)                 Output Shape              Param #   \n",
      "=================================================================\n",
      "decoder_input (InputLayer)   [(None, 32)]              0         \n",
      "_________________________________________________________________\n",
      "dec_fc (Dense)               (None, 1024)              33792     \n",
      "_________________________________________________________________\n",
      "reshape_1 (Reshape)          (None, 1, 1, 1024)        0         \n",
      "_________________________________________________________________\n",
      "dec_deconv1 (Conv2DTranspose (None, 5, 5, 128)         3276928   \n",
      "_________________________________________________________________\n",
      "dec_deconv2 (Conv2DTranspose (None, 13, 13, 64)        204864    \n",
      "_________________________________________________________________\n",
      "dec_deconv3 (Conv2DTranspose (None, 30, 30, 32)        73760     \n",
      "_________________________________________________________________\n",
      "dec_deconv4 (Conv2DTranspose (None, 64, 64, 3)         3459      \n",
      "=================================================================\n",
      "Total params: 3,592,803\n",
      "Trainable params: 3,592,803\n",
      "Non-trainable params: 0\n",
      "_________________________________________________________________\n"
     ]
    }
   ],
   "source": [
    "latent_inputs = Input(shape=(LATENT_SIZE,), name='decoder_input')\n",
    "h = Dense(4*256, name=\"dec_fc\")(latent_inputs)\n",
    "h = Reshape([1, 1, 4*256])(h)\n",
    "h = Conv2DTranspose(128, 5, strides=2, activation=\"relu\", name=\"dec_deconv1\")(h)\n",
    "h = Conv2DTranspose(64, 5, strides=2, activation=\"relu\", name=\"dec_deconv2\")(h)\n",
    "h = Conv2DTranspose(32, 6, strides=2, activation=\"relu\", name=\"dec_deconv3\")(h)\n",
    "outputs = Conv2DTranspose(3, 6, strides=2, activation='sigmoid', name=\"dec_deconv4\")(h)\n",
    "\n",
    "decoder = Model(latent_inputs, outputs, name='decoder')\n",
    "decoder.summary()\n"
   ]
  },
  {
   "cell_type": "code",
   "execution_count": null,
   "metadata": {},
   "outputs": [],
   "source": []
  },
  {
   "cell_type": "code",
   "execution_count": 34,
   "metadata": {},
   "outputs": [],
   "source": [
    "def sample(decoder, n=128):\n",
    "    z = tf.random.normal(shape=(n, LATENT_SIZE))\n",
    "    return decoder.predict(z)"
   ]
  },
  {
   "cell_type": "code",
   "execution_count": null,
   "metadata": {},
   "outputs": [],
   "source": []
  },
  {
   "cell_type": "code",
   "execution_count": 20,
   "metadata": {},
   "outputs": [
    {
     "name": "stdout",
     "output_type": "stream",
     "text": [
      "(None, 32)\n",
      "(128, 32)\n"
     ]
    }
   ],
   "source": [
    "outputs = decoder(encoder(inputs)[2])\n",
    "vae = Model(inputs, outputs, name='SpatialWorldModel')"
   ]
  },
  {
   "cell_type": "markdown",
   "metadata": {},
   "source": [
    "## Loss stuff"
   ]
  },
  {
   "cell_type": "code",
   "execution_count": 21,
   "metadata": {},
   "outputs": [],
   "source": [
    "# loss\n",
    "eps = 1e-6 # avoid taking log of zero\n",
    "\n",
    "# reconstruction loss\n",
    "r_loss = tf.reduce_sum(\n",
    "  tf.square(inputs - outputs),\n",
    "  axis = [1,2,3]\n",
    ")\n",
    "r_loss = tf.reduce_mean(r_loss)\n",
    "\n",
    "# augmented kl loss per dim (axis may need to change)\n",
    "kl_loss = - 0.5 * tf.reduce_sum(\n",
    "  (1 + z_log_var - tf.square(z_mean) - tf.exp(z_log_var)),\n",
    "  axis = 1\n",
    ")\n",
    "# todo: look this up. why did Ha do it this way?\n",
    "kl_loss = tf.maximum(kl_loss, KL_TOLERANCE * LATENT_SIZE)\n",
    "kl_loss = tf.reduce_mean(kl_loss)\n",
    "\n",
    "loss = r_loss + kl_loss"
   ]
  },
  {
   "cell_type": "code",
   "execution_count": 23,
   "metadata": {},
   "outputs": [
    {
     "name": "stdout",
     "output_type": "stream",
     "text": [
      "WARNING:tensorflow:Output decoder missing from loss dictionary. We assume this was done on purpose. The fit and evaluate APIs will not be expecting any data to be passed to decoder.\n"
     ]
    }
   ],
   "source": [
    "vae.add_loss(loss)\n",
    "vae.compile(optimizer='adam')"
   ]
  },
  {
   "cell_type": "code",
   "execution_count": null,
   "metadata": {},
   "outputs": [],
   "source": []
  },
  {
   "cell_type": "markdown",
   "metadata": {},
   "source": [
    "## Demo fit\n",
    "Can the model tightly fit just one trace? "
   ]
  },
  {
   "cell_type": "code",
   "execution_count": 3,
   "metadata": {},
   "outputs": [],
   "source": [
    "train_images = np.load('./data/traces/play_trace_69.npz')\n",
    "test = np.load('./data/traces/play_trace_420.npz')"
   ]
  },
  {
   "cell_type": "code",
   "execution_count": 27,
   "metadata": {},
   "outputs": [],
   "source": [
    "test = test['b']\n",
    "test = np.true_divide(test, 255, dtype=np.float32)\n",
    "test = resize(test, output_shape=(1024, 64, 64, 3))"
   ]
  },
  {
   "cell_type": "code",
   "execution_count": 4,
   "metadata": {},
   "outputs": [],
   "source": [
    "train_images = train_images['b']\n",
    "train_images = np.true_divide(train_images, 255, dtype=np.float32)\n",
    "train_images = resize(train_images, output_shape=(1024, 64, 64, 3))\n"
   ]
  },
  {
   "cell_type": "code",
   "execution_count": 5,
   "metadata": {},
   "outputs": [
    {
     "data": {
      "text/plain": [
       "<matplotlib.image.AxesImage at 0x7fec88527610>"
      ]
     },
     "execution_count": 5,
     "metadata": {},
     "output_type": "execute_result"
    },
    {
     "data": {
      "image/png": "[encoded data removed]",
      "text/plain": [
       "<Figure size 432x288 with 1 Axes>"
      ]
     },
     "metadata": {
      "needs_background": "light"
     },
     "output_type": "display_data"
    }
   ],
   "source": [
    "plt.imshow(train_images[242])"
   ]
  },
  {
   "cell_type": "code",
   "execution_count": null,
   "metadata": {},
   "outputs": [],
   "source": []
  },
  {
   "cell_type": "code",
   "execution_count": 24,
   "metadata": {
    "scrolled": true
   },
   "outputs": [
    {
     "name": "stdout",
     "output_type": "stream",
     "text": [
      "Train on 1024 samples\n",
      "Epoch 1/256\n",
      "(128, 32)\n",
      "(128, 32)\n",
      "(128, 32)\n",
      "(128, 32)\n",
      "1024/1024 [==============================] - 1s 1ms/sample - loss: 246.3537\n",
      "Epoch 2/256\n",
      "1024/1024 [==============================] - 0s 417us/sample - loss: 220.1396\n",
      "Epoch 3/256\n",
      "1024/1024 [==============================] - 0s 417us/sample - loss: 203.4724\n",
      "Epoch 4/256\n",
      "1024/1024 [==============================] - 0s 417us/sample - loss: 190.5773\n",
      "Epoch 5/256\n",
      "1024/1024 [==============================] - 0s 415us/sample - loss: 179.6177\n",
      "Epoch 6/256\n",
      "1024/1024 [==============================] - 0s 433us/sample - loss: 168.6472\n",
      "Epoch 7/256\n",
      "1024/1024 [==============================] - 0s 414us/sample - loss: 158.3962\n",
      "Epoch 8/256\n",
      "1024/1024 [==============================] - 0s 415us/sample - loss: 148.6221\n",
      "Epoch 9/256\n",
      "1024/1024 [==============================] - 0s 423us/sample - loss: 140.2349\n",
      "Epoch 10/256\n",
      "1024/1024 [==============================] - 0s 421us/sample - loss: 133.8798\n",
      "Epoch 11/256\n",
      "1024/1024 [==============================] - 0s 422us/sample - loss: 130.3483\n",
      "Epoch 12/256\n",
      "1024/1024 [==============================] - 0s 420us/sample - loss: 127.9257\n",
      "Epoch 13/256\n",
      "1024/1024 [==============================] - 0s 416us/sample - loss: 126.3851\n",
      "Epoch 14/256\n",
      "1024/1024 [==============================] - 0s 427us/sample - loss: 125.1701\n",
      "Epoch 15/256\n",
      "1024/1024 [==============================] - 0s 432us/sample - loss: 123.8977\n",
      "Epoch 16/256\n",
      "1024/1024 [==============================] - 0s 423us/sample - loss: 122.8529\n",
      "Epoch 17/256\n",
      "1024/1024 [==============================] - 0s 416us/sample - loss: 121.8316\n",
      "Epoch 18/256\n",
      "1024/1024 [==============================] - 0s 429us/sample - loss: 120.6350\n",
      "Epoch 19/256\n",
      "1024/1024 [==============================] - 0s 414us/sample - loss: 117.7375\n",
      "Epoch 20/256\n",
      "1024/1024 [==============================] - 0s 413us/sample - loss: 116.3316\n",
      "Epoch 21/256\n",
      "1024/1024 [==============================] - 0s 417us/sample - loss: 114.8782\n",
      "Epoch 22/256\n",
      "1024/1024 [==============================] - 0s 417us/sample - loss: 113.5760\n",
      "Epoch 23/256\n",
      "1024/1024 [==============================] - 0s 408us/sample - loss: 112.3616\n",
      "Epoch 24/256\n",
      "1024/1024 [==============================] - 0s 419us/sample - loss: 111.6920\n",
      "Epoch 25/256\n",
      "1024/1024 [==============================] - 0s 414us/sample - loss: 110.2283\n",
      "Epoch 26/256\n",
      "1024/1024 [==============================] - 0s 415us/sample - loss: 109.2598\n",
      "Epoch 27/256\n",
      "1024/1024 [==============================] - 0s 417us/sample - loss: 108.8845\n",
      "Epoch 28/256\n",
      "1024/1024 [==============================] - 0s 416us/sample - loss: 107.8603\n",
      "Epoch 29/256\n",
      "1024/1024 [==============================] - 0s 419us/sample - loss: 107.0221\n",
      "Epoch 30/256\n",
      "1024/1024 [==============================] - 0s 412us/sample - loss: 106.8868\n",
      "Epoch 31/256\n",
      "1024/1024 [==============================] - 0s 413us/sample - loss: 106.7204\n",
      "Epoch 32/256\n",
      "1024/1024 [==============================] - 0s 418us/sample - loss: 105.8233\n",
      "Epoch 33/256\n",
      "1024/1024 [==============================] - 0s 414us/sample - loss: 106.2096\n",
      "Epoch 34/256\n",
      "1024/1024 [==============================] - 0s 415us/sample - loss: 105.9580\n",
      "Epoch 35/256\n",
      "1024/1024 [==============================] - 0s 417us/sample - loss: 105.1015\n",
      "Epoch 36/256\n",
      "1024/1024 [==============================] - 0s 415us/sample - loss: 104.5667\n",
      "Epoch 37/256\n",
      "1024/1024 [==============================] - 0s 413us/sample - loss: 103.9936\n",
      "Epoch 38/256\n",
      "1024/1024 [==============================] - 0s 413us/sample - loss: 103.3106\n",
      "Epoch 39/256\n",
      "1024/1024 [==============================] - 0s 419us/sample - loss: 103.3081\n",
      "Epoch 40/256\n",
      "1024/1024 [==============================] - 0s 414us/sample - loss: 103.1073\n",
      "Epoch 41/256\n",
      "1024/1024 [==============================] - 0s 416us/sample - loss: 103.5133\n",
      "Epoch 42/256\n",
      "1024/1024 [==============================] - 0s 413us/sample - loss: 104.2971\n",
      "Epoch 43/256\n",
      "1024/1024 [==============================] - 0s 414us/sample - loss: 100.4790\n",
      "Epoch 44/256\n",
      "1024/1024 [==============================] - 0s 415us/sample - loss: 100.2172\n",
      "Epoch 45/256\n",
      "1024/1024 [==============================] - 0s 416us/sample - loss: 97.0634\n",
      "Epoch 46/256\n",
      "1024/1024 [==============================] - 0s 417us/sample - loss: 96.7289\n",
      "Epoch 47/256\n",
      "1024/1024 [==============================] - 0s 416us/sample - loss: 95.5167\n",
      "Epoch 48/256\n",
      "1024/1024 [==============================] - 0s 420us/sample - loss: 95.6888\n",
      "Epoch 49/256\n",
      "1024/1024 [==============================] - 0s 417us/sample - loss: 94.1893\n",
      "Epoch 50/256\n",
      "1024/1024 [==============================] - 0s 416us/sample - loss: 93.2427\n",
      "Epoch 51/256\n",
      "1024/1024 [==============================] - 0s 417us/sample - loss: 93.1401\n",
      "Epoch 52/256\n",
      "1024/1024 [==============================] - 0s 420us/sample - loss: 90.8002\n",
      "Epoch 53/256\n",
      "1024/1024 [==============================] - 0s 412us/sample - loss: 88.5215\n",
      "Epoch 54/256\n",
      "1024/1024 [==============================] - 0s 414us/sample - loss: 87.2862\n",
      "Epoch 55/256\n",
      "1024/1024 [==============================] - 0s 415us/sample - loss: 86.4901\n",
      "Epoch 56/256\n",
      "1024/1024 [==============================] - 0s 419us/sample - loss: 87.0387\n",
      "Epoch 57/256\n",
      "1024/1024 [==============================] - 0s 416us/sample - loss: 86.8266\n",
      "Epoch 58/256\n",
      "1024/1024 [==============================] - 0s 416us/sample - loss: 87.8936\n",
      "Epoch 59/256\n",
      "1024/1024 [==============================] - 0s 415us/sample - loss: 83.8300\n",
      "Epoch 60/256\n",
      "1024/1024 [==============================] - 0s 414us/sample - loss: 82.5146\n",
      "Epoch 61/256\n",
      "1024/1024 [==============================] - 0s 417us/sample - loss: 80.7488\n",
      "Epoch 62/256\n",
      "1024/1024 [==============================] - 0s 420us/sample - loss: 81.2945\n",
      "Epoch 63/256\n",
      "1024/1024 [==============================] - 0s 418us/sample - loss: 80.4740\n",
      "Epoch 64/256\n",
      "1024/1024 [==============================] - 0s 416us/sample - loss: 79.2490\n",
      "Epoch 65/256\n",
      "1024/1024 [==============================] - 0s 417us/sample - loss: 80.8316\n",
      "Epoch 66/256\n",
      "1024/1024 [==============================] - 0s 412us/sample - loss: 79.5339\n",
      "Epoch 67/256\n",
      "1024/1024 [==============================] - 0s 421us/sample - loss: 78.5507\n",
      "Epoch 68/256\n",
      "1024/1024 [==============================] - 0s 416us/sample - loss: 78.8249\n",
      "Epoch 69/256\n",
      "1024/1024 [==============================] - 0s 417us/sample - loss: 79.5041\n",
      "Epoch 70/256\n",
      "1024/1024 [==============================] - 0s 416us/sample - loss: 78.4903\n",
      "Epoch 71/256\n",
      "1024/1024 [==============================] - 0s 424us/sample - loss: 79.7896\n",
      "Epoch 72/256\n",
      "1024/1024 [==============================] - 0s 417us/sample - loss: 76.8639\n",
      "Epoch 73/256\n",
      "1024/1024 [==============================] - 0s 416us/sample - loss: 76.4917\n",
      "Epoch 74/256\n",
      "1024/1024 [==============================] - 0s 415us/sample - loss: 77.9061\n",
      "Epoch 75/256\n",
      "1024/1024 [==============================] - 0s 415us/sample - loss: 76.3398\n",
      "Epoch 76/256\n",
      "1024/1024 [==============================] - 0s 415us/sample - loss: 78.3770\n",
      "Epoch 77/256\n",
      "1024/1024 [==============================] - 0s 416us/sample - loss: 74.8459\n",
      "Epoch 78/256\n",
      "1024/1024 [==============================] - 0s 417us/sample - loss: 76.2582\n",
      "Epoch 79/256\n",
      "1024/1024 [==============================] - 0s 417us/sample - loss: 74.7167\n",
      "Epoch 80/256\n",
      "1024/1024 [==============================] - 0s 415us/sample - loss: 76.1892\n",
      "Epoch 81/256\n",
      "1024/1024 [==============================] - 0s 418us/sample - loss: 84.1656\n",
      "Epoch 82/256\n",
      "1024/1024 [==============================] - 0s 417us/sample - loss: 83.7176\n",
      "Epoch 83/256\n",
      "1024/1024 [==============================] - 0s 413us/sample - loss: 85.2492\n",
      "Epoch 84/256\n",
      "1024/1024 [==============================] - 0s 415us/sample - loss: 79.4342\n",
      "Epoch 85/256\n",
      "1024/1024 [==============================] - 0s 413us/sample - loss: 78.9417\n",
      "Epoch 86/256\n",
      "1024/1024 [==============================] - 0s 415us/sample - loss: 75.7272\n",
      "Epoch 87/256\n",
      "1024/1024 [==============================] - 0s 414us/sample - loss: 74.7247\n",
      "Epoch 88/256\n",
      "1024/1024 [==============================] - 0s 421us/sample - loss: 74.1833\n",
      "Epoch 89/256\n",
      "1024/1024 [==============================] - 0s 417us/sample - loss: 75.9673\n",
      "Epoch 90/256\n",
      "1024/1024 [==============================] - 0s 416us/sample - loss: 75.3015\n"
     ]
    },
    {
     "name": "stdout",
     "output_type": "stream",
     "text": [
      "Epoch 91/256\n",
      "1024/1024 [==============================] - 0s 412us/sample - loss: 73.1273\n",
      "Epoch 92/256\n",
      "1024/1024 [==============================] - 0s 413us/sample - loss: 72.6550\n",
      "Epoch 93/256\n",
      "1024/1024 [==============================] - 0s 417us/sample - loss: 72.9383\n",
      "Epoch 94/256\n",
      "1024/1024 [==============================] - 0s 415us/sample - loss: 72.7488\n",
      "Epoch 95/256\n",
      "1024/1024 [==============================] - 0s 417us/sample - loss: 74.5872\n",
      "Epoch 96/256\n",
      "1024/1024 [==============================] - 0s 413us/sample - loss: 75.0115\n",
      "Epoch 97/256\n",
      "1024/1024 [==============================] - 0s 416us/sample - loss: 76.4437\n",
      "Epoch 98/256\n",
      "1024/1024 [==============================] - 0s 417us/sample - loss: 76.0473\n",
      "Epoch 99/256\n",
      "1024/1024 [==============================] - 0s 414us/sample - loss: 76.4127\n",
      "Epoch 100/256\n",
      "1024/1024 [==============================] - 0s 414us/sample - loss: 73.5775\n",
      "Epoch 101/256\n",
      "1024/1024 [==============================] - 0s 415us/sample - loss: 73.7029\n",
      "Epoch 102/256\n",
      "1024/1024 [==============================] - 0s 416us/sample - loss: 76.7089\n",
      "Epoch 103/256\n",
      "1024/1024 [==============================] - 0s 413us/sample - loss: 74.0028\n",
      "Epoch 104/256\n",
      "1024/1024 [==============================] - 0s 417us/sample - loss: 75.4959\n",
      "Epoch 105/256\n",
      "1024/1024 [==============================] - 0s 414us/sample - loss: 73.0021\n",
      "Epoch 106/256\n",
      "1024/1024 [==============================] - 0s 418us/sample - loss: 74.6194\n",
      "Epoch 107/256\n",
      "1024/1024 [==============================] - 0s 414us/sample - loss: 75.4770\n",
      "Epoch 108/256\n",
      "1024/1024 [==============================] - 0s 415us/sample - loss: 73.3877\n",
      "Epoch 109/256\n",
      "1024/1024 [==============================] - 0s 413us/sample - loss: 73.1383\n",
      "Epoch 110/256\n",
      "1024/1024 [==============================] - 0s 418us/sample - loss: 73.4661\n",
      "Epoch 111/256\n",
      "1024/1024 [==============================] - 0s 418us/sample - loss: 72.2406\n",
      "Epoch 112/256\n",
      "1024/1024 [==============================] - 0s 416us/sample - loss: 74.7761\n",
      "Epoch 113/256\n",
      "1024/1024 [==============================] - 0s 417us/sample - loss: 70.9672\n",
      "Epoch 114/256\n",
      "1024/1024 [==============================] - 0s 419us/sample - loss: 73.4500\n",
      "Epoch 115/256\n",
      "1024/1024 [==============================] - 0s 413us/sample - loss: 70.7183\n",
      "Epoch 116/256\n",
      "1024/1024 [==============================] - 0s 419us/sample - loss: 71.9830\n",
      "Epoch 117/256\n",
      "1024/1024 [==============================] - 0s 423us/sample - loss: 72.3179\n",
      "Epoch 118/256\n",
      "1024/1024 [==============================] - 0s 431us/sample - loss: 72.0805\n",
      "Epoch 119/256\n",
      "1024/1024 [==============================] - 0s 413us/sample - loss: 71.7186\n",
      "Epoch 120/256\n",
      "1024/1024 [==============================] - 0s 415us/sample - loss: 72.9253\n",
      "Epoch 121/256\n",
      "1024/1024 [==============================] - 0s 418us/sample - loss: 71.8551\n",
      "Epoch 122/256\n",
      "1024/1024 [==============================] - 0s 431us/sample - loss: 71.9068\n",
      "Epoch 123/256\n",
      "1024/1024 [==============================] - 0s 444us/sample - loss: 70.6557\n",
      "Epoch 124/256\n",
      "1024/1024 [==============================] - 0s 431us/sample - loss: 72.4404\n",
      "Epoch 125/256\n",
      "1024/1024 [==============================] - 0s 429us/sample - loss: 69.1643\n",
      "Epoch 126/256\n",
      "1024/1024 [==============================] - 0s 429us/sample - loss: 71.0270\n",
      "Epoch 127/256\n",
      "1024/1024 [==============================] - 0s 420us/sample - loss: 69.0706\n",
      "Epoch 128/256\n",
      "1024/1024 [==============================] - 0s 428us/sample - loss: 69.5314\n",
      "Epoch 129/256\n",
      "1024/1024 [==============================] - 0s 419us/sample - loss: 69.8368\n",
      "Epoch 130/256\n",
      "1024/1024 [==============================] - 0s 433us/sample - loss: 68.2097\n",
      "Epoch 131/256\n",
      "1024/1024 [==============================] - 0s 423us/sample - loss: 66.9393\n",
      "Epoch 132/256\n",
      "1024/1024 [==============================] - 0s 416us/sample - loss: 66.4173\n",
      "Epoch 133/256\n",
      "1024/1024 [==============================] - 0s 423us/sample - loss: 68.9454\n",
      "Epoch 134/256\n",
      "1024/1024 [==============================] - 0s 421us/sample - loss: 67.8855\n",
      "Epoch 135/256\n",
      "1024/1024 [==============================] - 0s 404us/sample - loss: 68.9801\n",
      "Epoch 136/256\n",
      "1024/1024 [==============================] - 0s 404us/sample - loss: 68.9877\n",
      "Epoch 137/256\n",
      "1024/1024 [==============================] - 0s 400us/sample - loss: 66.7517\n",
      "Epoch 138/256\n",
      "1024/1024 [==============================] - 0s 418us/sample - loss: 67.0123\n",
      "Epoch 139/256\n",
      "1024/1024 [==============================] - 0s 429us/sample - loss: 68.6184\n",
      "Epoch 140/256\n",
      "1024/1024 [==============================] - 0s 405us/sample - loss: 69.9758\n",
      "Epoch 141/256\n",
      "1024/1024 [==============================] - 0s 411us/sample - loss: 68.0404\n",
      "Epoch 142/256\n",
      "1024/1024 [==============================] - 0s 403us/sample - loss: 67.8743\n",
      "Epoch 143/256\n",
      "1024/1024 [==============================] - 0s 404us/sample - loss: 68.0018\n",
      "Epoch 144/256\n",
      "1024/1024 [==============================] - 0s 405us/sample - loss: 67.6077\n",
      "Epoch 145/256\n",
      "1024/1024 [==============================] - 0s 408us/sample - loss: 67.2614\n",
      "Epoch 146/256\n",
      "1024/1024 [==============================] - 0s 413us/sample - loss: 68.7168\n",
      "Epoch 147/256\n",
      "1024/1024 [==============================] - 0s 425us/sample - loss: 67.3346\n",
      "Epoch 148/256\n",
      "1024/1024 [==============================] - 0s 436us/sample - loss: 67.1687\n",
      "Epoch 149/256\n",
      "1024/1024 [==============================] - 0s 440us/sample - loss: 66.8703\n",
      "Epoch 150/256\n",
      "1024/1024 [==============================] - 0s 433us/sample - loss: 65.2061\n",
      "Epoch 151/256\n",
      "1024/1024 [==============================] - 0s 426us/sample - loss: 67.3675\n",
      "Epoch 152/256\n",
      "1024/1024 [==============================] - 0s 435us/sample - loss: 66.1672\n",
      "Epoch 153/256\n",
      "1024/1024 [==============================] - 0s 427us/sample - loss: 69.7208\n",
      "Epoch 154/256\n",
      "1024/1024 [==============================] - 0s 410us/sample - loss: 68.9956\n",
      "Epoch 155/256\n",
      "1024/1024 [==============================] - 0s 403us/sample - loss: 66.5974\n",
      "Epoch 156/256\n",
      "1024/1024 [==============================] - 0s 401us/sample - loss: 67.7535\n",
      "Epoch 157/256\n",
      "1024/1024 [==============================] - 0s 402us/sample - loss: 67.8016\n",
      "Epoch 158/256\n",
      "1024/1024 [==============================] - 0s 400us/sample - loss: 68.9266\n",
      "Epoch 159/256\n",
      "1024/1024 [==============================] - 0s 402us/sample - loss: 67.5193\n",
      "Epoch 160/256\n",
      "1024/1024 [==============================] - 0s 397us/sample - loss: 66.9084\n",
      "Epoch 161/256\n",
      "1024/1024 [==============================] - 0s 401us/sample - loss: 67.5855\n",
      "Epoch 162/256\n",
      "1024/1024 [==============================] - 0s 405us/sample - loss: 66.4902\n",
      "Epoch 163/256\n",
      "1024/1024 [==============================] - 0s 401us/sample - loss: 66.6690\n",
      "Epoch 164/256\n",
      "1024/1024 [==============================] - 0s 423us/sample - loss: 65.7182\n",
      "Epoch 165/256\n",
      "1024/1024 [==============================] - 0s 414us/sample - loss: 66.1916\n",
      "Epoch 166/256\n",
      "1024/1024 [==============================] - 0s 404us/sample - loss: 66.9346\n",
      "Epoch 167/256\n",
      "1024/1024 [==============================] - 0s 402us/sample - loss: 65.0954\n",
      "Epoch 168/256\n",
      "1024/1024 [==============================] - 0s 403us/sample - loss: 67.2969\n",
      "Epoch 169/256\n",
      "1024/1024 [==============================] - 0s 403us/sample - loss: 65.7562\n",
      "Epoch 170/256\n",
      "1024/1024 [==============================] - 0s 403us/sample - loss: 66.8093\n",
      "Epoch 171/256\n",
      "1024/1024 [==============================] - 0s 402us/sample - loss: 66.5364\n",
      "Epoch 172/256\n",
      "1024/1024 [==============================] - 0s 402us/sample - loss: 65.3142\n",
      "Epoch 173/256\n",
      "1024/1024 [==============================] - 0s 403us/sample - loss: 64.9458\n",
      "Epoch 174/256\n",
      "1024/1024 [==============================] - 0s 400us/sample - loss: 65.3943\n",
      "Epoch 175/256\n",
      "1024/1024 [==============================] - 0s 408us/sample - loss: 67.5176\n",
      "Epoch 176/256\n",
      "1024/1024 [==============================] - 0s 401us/sample - loss: 66.7332\n",
      "Epoch 177/256\n",
      "1024/1024 [==============================] - 0s 404us/sample - loss: 66.8856\n",
      "Epoch 178/256\n",
      "1024/1024 [==============================] - 0s 421us/sample - loss: 65.7923\n",
      "Epoch 179/256\n",
      "1024/1024 [==============================] - 0s 406us/sample - loss: 65.2839\n",
      "Epoch 180/256\n",
      "1024/1024 [==============================] - 0s 420us/sample - loss: 65.7814\n",
      "Epoch 181/256\n"
     ]
    },
    {
     "name": "stdout",
     "output_type": "stream",
     "text": [
      "1024/1024 [==============================] - 0s 402us/sample - loss: 64.5678\n",
      "Epoch 182/256\n",
      "1024/1024 [==============================] - 0s 422us/sample - loss: 66.2351\n",
      "Epoch 183/256\n",
      "1024/1024 [==============================] - 0s 423us/sample - loss: 65.8783\n",
      "Epoch 184/256\n",
      "1024/1024 [==============================] - 0s 421us/sample - loss: 64.5214\n",
      "Epoch 185/256\n",
      "1024/1024 [==============================] - 0s 422us/sample - loss: 67.1420\n",
      "Epoch 186/256\n",
      "1024/1024 [==============================] - 0s 402us/sample - loss: 63.4955\n",
      "Epoch 187/256\n",
      "1024/1024 [==============================] - 0s 420us/sample - loss: 64.6677\n",
      "Epoch 188/256\n",
      "1024/1024 [==============================] - 0s 401us/sample - loss: 64.9012\n",
      "Epoch 189/256\n",
      "1024/1024 [==============================] - 0s 401us/sample - loss: 65.3457\n",
      "Epoch 190/256\n",
      "1024/1024 [==============================] - 0s 404us/sample - loss: 66.1579\n",
      "Epoch 191/256\n",
      "1024/1024 [==============================] - 0s 398us/sample - loss: 65.0303\n",
      "Epoch 192/256\n",
      "1024/1024 [==============================] - 0s 403us/sample - loss: 65.8750\n",
      "Epoch 193/256\n",
      "1024/1024 [==============================] - 0s 404us/sample - loss: 64.6510\n",
      "Epoch 194/256\n",
      "1024/1024 [==============================] - 0s 404us/sample - loss: 67.0626\n",
      "Epoch 195/256\n",
      "1024/1024 [==============================] - 0s 403us/sample - loss: 64.0613\n",
      "Epoch 196/256\n",
      "1024/1024 [==============================] - 0s 400us/sample - loss: 63.2837\n",
      "Epoch 197/256\n",
      "1024/1024 [==============================] - 0s 404us/sample - loss: 63.4834\n",
      "Epoch 198/256\n",
      "1024/1024 [==============================] - 0s 404us/sample - loss: 63.7676\n",
      "Epoch 199/256\n",
      "1024/1024 [==============================] - 0s 425us/sample - loss: 64.6499\n",
      "Epoch 200/256\n",
      "1024/1024 [==============================] - 0s 404us/sample - loss: 63.3741\n",
      "Epoch 201/256\n",
      "1024/1024 [==============================] - 0s 411us/sample - loss: 64.4345\n",
      "Epoch 202/256\n",
      "1024/1024 [==============================] - 0s 427us/sample - loss: 68.0203\n",
      "Epoch 203/256\n",
      "1024/1024 [==============================] - 0s 444us/sample - loss: 63.9711\n",
      "Epoch 204/256\n",
      "1024/1024 [==============================] - 0s 424us/sample - loss: 65.3155\n",
      "Epoch 205/256\n",
      "1024/1024 [==============================] - 0s 417us/sample - loss: 64.4588\n",
      "Epoch 206/256\n",
      "1024/1024 [==============================] - 0s 414us/sample - loss: 65.6604\n",
      "Epoch 207/256\n",
      "1024/1024 [==============================] - 0s 413us/sample - loss: 64.2715\n",
      "Epoch 208/256\n",
      "1024/1024 [==============================] - 0s 409us/sample - loss: 66.1063\n",
      "Epoch 209/256\n",
      "1024/1024 [==============================] - 0s 420us/sample - loss: 65.2614\n",
      "Epoch 210/256\n",
      "1024/1024 [==============================] - 0s 413us/sample - loss: 64.9422\n",
      "Epoch 211/256\n",
      "1024/1024 [==============================] - 0s 415us/sample - loss: 63.1658\n",
      "Epoch 212/256\n",
      "1024/1024 [==============================] - 0s 415us/sample - loss: 65.4117\n",
      "Epoch 213/256\n",
      "1024/1024 [==============================] - 0s 415us/sample - loss: 63.1103\n",
      "Epoch 214/256\n",
      "1024/1024 [==============================] - 0s 419us/sample - loss: 63.3936\n",
      "Epoch 215/256\n",
      "1024/1024 [==============================] - 0s 416us/sample - loss: 62.7813\n",
      "Epoch 216/256\n",
      "1024/1024 [==============================] - 0s 417us/sample - loss: 62.5800\n",
      "Epoch 217/256\n",
      "1024/1024 [==============================] - 0s 414us/sample - loss: 64.3572\n",
      "Epoch 218/256\n",
      "1024/1024 [==============================] - 0s 417us/sample - loss: 62.7987\n",
      "Epoch 219/256\n",
      "1024/1024 [==============================] - 0s 416us/sample - loss: 62.2129\n",
      "Epoch 220/256\n",
      "1024/1024 [==============================] - 0s 409us/sample - loss: 63.7325\n",
      "Epoch 221/256\n",
      "1024/1024 [==============================] - 0s 415us/sample - loss: 64.4931\n",
      "Epoch 222/256\n",
      "1024/1024 [==============================] - 0s 418us/sample - loss: 64.1118\n",
      "Epoch 223/256\n",
      "1024/1024 [==============================] - 0s 418us/sample - loss: 63.5591\n",
      "Epoch 224/256\n",
      "1024/1024 [==============================] - 0s 412us/sample - loss: 62.1288\n",
      "Epoch 225/256\n",
      "1024/1024 [==============================] - 0s 422us/sample - loss: 64.8794\n",
      "Epoch 226/256\n",
      "1024/1024 [==============================] - 0s 436us/sample - loss: 62.0215\n",
      "Epoch 227/256\n",
      "1024/1024 [==============================] - 0s 417us/sample - loss: 63.1020\n",
      "Epoch 228/256\n",
      "1024/1024 [==============================] - 0s 428us/sample - loss: 62.0918\n",
      "Epoch 229/256\n",
      "1024/1024 [==============================] - 0s 428us/sample - loss: 62.6163\n",
      "Epoch 230/256\n",
      "1024/1024 [==============================] - 0s 422us/sample - loss: 62.1878\n",
      "Epoch 231/256\n",
      "1024/1024 [==============================] - 0s 420us/sample - loss: 65.2246\n",
      "Epoch 232/256\n",
      "1024/1024 [==============================] - 0s 418us/sample - loss: 61.3677\n",
      "Epoch 233/256\n",
      "1024/1024 [==============================] - 0s 425us/sample - loss: 65.5637\n",
      "Epoch 234/256\n",
      "1024/1024 [==============================] - 0s 425us/sample - loss: 62.4489\n",
      "Epoch 235/256\n",
      "1024/1024 [==============================] - 0s 421us/sample - loss: 62.4813\n",
      "Epoch 236/256\n",
      "1024/1024 [==============================] - 0s 439us/sample - loss: 62.9777\n",
      "Epoch 237/256\n",
      "1024/1024 [==============================] - 0s 430us/sample - loss: 63.4780\n",
      "Epoch 238/256\n",
      "1024/1024 [==============================] - 0s 427us/sample - loss: 63.8901\n",
      "Epoch 239/256\n",
      "1024/1024 [==============================] - 0s 431us/sample - loss: 63.4608\n",
      "Epoch 240/256\n",
      "1024/1024 [==============================] - 0s 417us/sample - loss: 67.2807\n",
      "Epoch 241/256\n",
      "1024/1024 [==============================] - 0s 412us/sample - loss: 62.5854\n",
      "Epoch 242/256\n",
      "1024/1024 [==============================] - 0s 414us/sample - loss: 64.3916\n",
      "Epoch 243/256\n",
      "1024/1024 [==============================] - 0s 418us/sample - loss: 62.6117\n",
      "Epoch 244/256\n",
      "1024/1024 [==============================] - 0s 418us/sample - loss: 64.9762\n",
      "Epoch 245/256\n",
      "1024/1024 [==============================] - 0s 413us/sample - loss: 62.0133\n",
      "Epoch 246/256\n",
      "1024/1024 [==============================] - 0s 416us/sample - loss: 61.8802\n",
      "Epoch 247/256\n",
      "1024/1024 [==============================] - 0s 416us/sample - loss: 61.9585\n",
      "Epoch 248/256\n",
      "1024/1024 [==============================] - 0s 414us/sample - loss: 65.3103\n",
      "Epoch 249/256\n",
      "1024/1024 [==============================] - 0s 412us/sample - loss: 63.1489\n",
      "Epoch 250/256\n",
      "1024/1024 [==============================] - 0s 412us/sample - loss: 65.0979\n",
      "Epoch 251/256\n",
      "1024/1024 [==============================] - 0s 417us/sample - loss: 64.4484\n",
      "Epoch 252/256\n",
      "1024/1024 [==============================] - 0s 423us/sample - loss: 62.3609\n",
      "Epoch 253/256\n",
      "1024/1024 [==============================] - 0s 413us/sample - loss: 63.4149\n",
      "Epoch 254/256\n",
      "1024/1024 [==============================] - 0s 431us/sample - loss: 65.5819\n",
      "Epoch 255/256\n",
      "1024/1024 [==============================] - 0s 411us/sample - loss: 62.4240\n",
      "Epoch 256/256\n",
      "1024/1024 [==============================] - 0s 413us/sample - loss: 61.8702\n"
     ]
    }
   ],
   "source": [
    "history = vae.fit(train_images,\n",
    "                    epochs=256, \n",
    "                    batch_size=BATCH_SIZE)"
   ]
  },
  {
   "cell_type": "code",
   "execution_count": 25,
   "metadata": {},
   "outputs": [
    {
     "data": {
      "text/plain": [
       "[<matplotlib.lines.Line2D at 0x7febc33db190>]"
      ]
     },
     "execution_count": 25,
     "metadata": {},
     "output_type": "execute_result"
    },
    {
     "data": {
      "image/png": "[encoded data removed]",
      "text/plain": [
       "<Figure size 432x288 with 1 Axes>"
      ]
     },
     "metadata": {
      "needs_background": "light"
     },
     "output_type": "display_data"
    }
   ],
   "source": [
    "plt.plot(history.history['loss'])"
   ]
  },
  {
   "cell_type": "code",
   "execution_count": 26,
   "metadata": {},
   "outputs": [],
   "source": [
    "vae.save_weights('./SpatialWorldModel.h5')"
   ]
  },
  {
   "cell_type": "code",
   "execution_count": 31,
   "metadata": {},
   "outputs": [],
   "source": []
  },
  {
   "cell_type": "code",
   "execution_count": 36,
   "metadata": {},
   "outputs": [],
   "source": [
    "s = sample(decoder, 1)"
   ]
  },
  {
   "cell_type": "code",
   "execution_count": 38,
   "metadata": {},
   "outputs": [
    {
     "data": {
      "text/plain": [
       "(1, 64, 64, 3)"
      ]
     },
     "execution_count": 38,
     "metadata": {},
     "output_type": "execute_result"
    }
   ],
   "source": [
    "s.shape"
   ]
  },
  {
   "cell_type": "code",
   "execution_count": 39,
   "metadata": {},
   "outputs": [
    {
     "data": {
      "text/plain": [
       "<matplotlib.image.AxesImage at 0x7febb4194390>"
      ]
     },
     "execution_count": 39,
     "metadata": {},
     "output_type": "execute_result"
    },
    {
     "data": {
      "image/png": "[encoded data removed]",
      "text/plain": [
       "<Figure size 432x288 with 1 Axes>"
      ]
     },
     "metadata": {
      "needs_background": "light"
     },
     "output_type": "display_data"
    }
   ],
   "source": [
    "plt.imshow(s.squeeze())"
   ]
  },
  {
   "cell_type": "markdown",
   "metadata": {},
   "source": [
    "Yep, looks good!"
   ]
  },
  {
   "cell_type": "markdown",
   "metadata": {},
   "source": [
    "## Real boii fitting"
   ]
  },
  {
   "cell_type": "code",
   "execution_count": 73,
   "metadata": {},
   "outputs": [],
   "source": [
    "from tensorflow.keras.callbacks import (EarlyStopping, ModelCheckpoint, \n",
    "                                       TensorBoard, Callback)\n",
    "import datetime\n",
    "from time import time"
   ]
  },
  {
   "cell_type": "code",
   "execution_count": 74,
   "metadata": {},
   "outputs": [],
   "source": [
    "class TrainTimeCallback(Callback): \n",
    "    def __init__(self): \n",
    "        super(TrainTimeCallback, self).__init__()\n",
    "        \n",
    "    def on_train_begin(self, logs=None): \n",
    "        self._start_time = time()\n",
    "        \n",
    "    def on_train_end(self, logs=None):\n",
    "        self._train_time = time() - self._start_time\n",
    "        \n",
    "    @property\n",
    "    def train_time(self):\n",
    "        s = self._train_time\n",
    "        hours, remainder = divmod(s, 3600)\n",
    "        minutes, seconds = divmod(remainder, 60)\n",
    "        \n",
    "        return f'{hours:02.0f}:{minutes:02.0f}:{seconds:02.0f}'\n",
    "    \n",
    "    def print_train_time(self):\n",
    "        print(f'Train time for model: {self.train_time}')"
   ]
  },
  {
   "cell_type": "code",
   "execution_count": 75,
   "metadata": {},
   "outputs": [
    {
     "name": "stdout",
     "output_type": "stream",
     "text": [
      "mkdir: cannot create directory ‘./logs/’: File exists\n",
      "mkdir: cannot create directory ‘./logs/fit’: File exists\n",
      "rm: cannot remove './logs/fit/*': No such file or directory\n"
     ]
    }
   ],
   "source": [
    "!mkdir \"./logs/\"\n",
    "!mkdir \"./logs/fit\"\n",
    "!rm \"./logs/fit/*\""
   ]
  },
  {
   "cell_type": "code",
   "execution_count": 76,
   "metadata": {},
   "outputs": [],
   "source": [
    "log_dir=\"logs/fit/\" + datetime.datetime.now().strftime(\"%Y%m%d-%H%M%S\")"
   ]
  },
  {
   "cell_type": "code",
   "execution_count": 77,
   "metadata": {},
   "outputs": [],
   "source": [
    "monitor = 'loss' # change this\n",
    "callbacks = [\n",
    "    TrainTimeCallback(),\n",
    "    ModelCheckpoint('./best_VAE.h5', save_best_only=True, \n",
    "                    monitor=monitor),\n",
    "    EarlyStopping(monitor, patience=10,\n",
    "                  mode='min',\n",
    "                  restore_best_weights=True),\n",
    "    TensorBoard(log_dir=log_dir, histogram_freq=1)\n",
    "]"
   ]
  },
  {
   "cell_type": "code",
   "execution_count": 78,
   "metadata": {},
   "outputs": [
    {
     "name": "stdout",
     "output_type": "stream",
     "text": [
      "Train on 1024 samples\n",
      "Epoch 1/256\n",
      " 896/1024 [=========================>....] - ETA: 0s - loss: 54.9576WARNING:tensorflow:Found duplicated `Variable`s in Model's `weights`. This is usually caused by `Variable`s being shared by Layers in the Model. These `Variable`s will be treated as separate `Variable`s when the Model is restored. To avoid this, please save with `save_format=\"tf\"`.\n",
      "1024/1024 [==============================] - 1s 936us/sample - loss: 54.9099\n",
      "Epoch 2/256\n",
      " 896/1024 [=========================>....] - ETA: 0s - loss: 53.5529WARNING:tensorflow:Found duplicated `Variable`s in Model's `weights`. This is usually caused by `Variable`s being shared by Layers in the Model. These `Variable`s will be treated as separate `Variable`s when the Model is restored. To avoid this, please save with `save_format=\"tf\"`.\n",
      "1024/1024 [==============================] - 2s 2ms/sample - loss: 53.4788\n",
      "Epoch 3/256\n",
      "1024/1024 [==============================] - 1s 735us/sample - loss: 57.2538\n",
      "Epoch 4/256\n",
      "1024/1024 [==============================] - 1s 744us/sample - loss: 54.2339\n",
      "Epoch 5/256\n",
      "1024/1024 [==============================] - 1s 737us/sample - loss: 56.5657\n",
      "Epoch 6/256\n",
      "1024/1024 [==============================] - 1s 739us/sample - loss: 54.6146\n",
      "Epoch 7/256\n",
      "1024/1024 [==============================] - 1s 740us/sample - loss: 55.5279\n",
      "Epoch 8/256\n",
      "1024/1024 [==============================] - 1s 743us/sample - loss: 53.9493\n",
      "Epoch 9/256\n",
      "1024/1024 [==============================] - 1s 747us/sample - loss: 55.0406\n",
      "Epoch 10/256\n",
      "1024/1024 [==============================] - 1s 736us/sample - loss: 53.9214\n",
      "Epoch 11/256\n",
      "1024/1024 [==============================] - 1s 742us/sample - loss: 54.7681\n",
      "Epoch 12/256\n",
      "1024/1024 [==============================] - 1s 749us/sample - loss: 54.0331\n",
      "Train time for model: 00:00:10\n"
     ]
    }
   ],
   "source": [
    "history = vae.fit(train_images,\n",
    "                    epochs=256, \n",
    "                    batch_size=BATCH_SIZE,\n",
    "                 callbacks=callbacks)\n",
    "callbacks[0].print_train_time()"
   ]
  },
  {
   "cell_type": "code",
   "execution_count": 79,
   "metadata": {},
   "outputs": [
    {
     "name": "stdout",
     "output_type": "stream",
     "text": [
      "\u001b[0m\u001b[01;32mAWM_environment.yml\u001b[0m*     \u001b[01;34mdata\u001b[0m/                    \u001b[01;34mSpatialWorldModel\u001b[0m/\r\n",
      "best_VAE.h5              \u001b[01;32mdemo.ipynb\u001b[0m*              SpatialWorldModel.h5\r\n",
      "\u001b[01;32mcollecting_state.ipynb\u001b[0m*  listenToYourHeart.ipynb  VAE_2.ipynb\r\n",
      "\u001b[01;32mcollect.py\u001b[0m*              \u001b[01;34mlogs\u001b[0m/                    vae.ipynb\r\n",
      "\u001b[01;32mcvae.ipynb\u001b[0m*              \u001b[01;32mModelsZoo.ipynb\u001b[0m*\r\n"
     ]
    }
   ],
   "source": [
    "ls"
   ]
  },
  {
   "cell_type": "code",
   "execution_count": null,
   "metadata": {},
   "outputs": [],
   "source": []
  }
 ],
 "metadata": {
  "kernelspec": {
   "display_name": "Python 3",
   "language": "python",
   "name": "python3"
  },
  "language_info": {
   "codemirror_mode": {
    "name": "ipython",
    "version": 3
   },
   "file_extension": ".py",
   "mimetype": "text/x-python",
   "name": "python",
   "nbconvert_exporter": "python",
   "pygments_lexer": "ipython3",
   "version": "3.7.5"
  }
 },
 "nbformat": 4,
 "nbformat_minor": 2
}
