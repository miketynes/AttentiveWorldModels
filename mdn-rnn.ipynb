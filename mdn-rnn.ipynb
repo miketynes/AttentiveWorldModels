{
 "cells": [
  {
   "cell_type": "code",
   "execution_count": 1,
   "metadata": {},
   "outputs": [],
   "source": [
    "import numpy as np\n",
    "import tensorflow as tf\n",
    "import mdn"
   ]
  },
  {
   "cell_type": "code",
   "execution_count": 3,
   "metadata": {},
   "outputs": [],
   "source": [
    "import tensorflow.keras.backend as K\n",
    "\n",
    "from tensorflow.keras.models import Sequential, Model\n",
    "from tensorflow.keras.layers import LSTM, Dense, InputLayer, Attention\n",
    "from tensorflow.keras.layers import (Conv2D, Input, Reshape, \n",
    "                                     Lambda, Dense, Conv2DTranspose)\n",
    "\n",
    "if tf.test.is_gpu_available():\n",
    "    physical_devices = tf.config.experimental.list_physical_devices('GPU')\n",
    "    tf.config.experimental.set_memory_growth(physical_devices[0], True)"
   ]
  },
  {
   "cell_type": "code",
   "execution_count": 4,
   "metadata": {},
   "outputs": [],
   "source": [
    "import matplotlib.pyplot as plt\n",
    "import os\n",
    "import utils\n",
    "\n",
    "from tensorflow.keras.callbacks import (EarlyStopping, ModelCheckpoint, \n",
    "                                       TensorBoard, Callback)\n",
    "import datetime\n",
    "from time import time\n",
    "from utils import TrainTimeCallback"
   ]
  },
  {
   "cell_type": "code",
   "execution_count": 5,
   "metadata": {},
   "outputs": [],
   "source": [
    "import matplotlib.pyplot as plt"
   ]
  },
  {
   "cell_type": "code",
   "execution_count": 6,
   "metadata": {},
   "outputs": [],
   "source": [
    "seq_len = 128\n",
    "act_len = 3\n",
    "n_mixtures = 5\n",
    "output_dims = 32"
   ]
  },
  {
   "cell_type": "code",
   "execution_count": 7,
   "metadata": {},
   "outputs": [
    {
     "name": "stdout",
     "output_type": "stream",
     "text": [
      "              total        used        free      shared  buff/cache   available\r\n",
      "Mem:          64384        3938       46649         269       13796       59522\r\n",
      "Swap:          2047           0        2047\r\n"
     ]
    }
   ],
   "source": [
    "!free -m"
   ]
  },
  {
   "cell_type": "code",
   "execution_count": 8,
   "metadata": {},
   "outputs": [],
   "source": [
    "num_instances = len(os.listdir('./data/states'))"
   ]
  },
  {
   "cell_type": "code",
   "execution_count": 9,
   "metadata": {},
   "outputs": [],
   "source": [
    "def load_folder(path):\n",
    "    files = os.listdir(path)\n",
    "    _1 = np.load(os.path.join(path, files[0]))\n",
    "    data = np.zeros((len(files), *_1.shape))\n",
    "    for i, fname in enumerate(files):\n",
    "        data[i] = np.load(os.path.join(path, fname))\n",
    "    return data"
   ]
  },
  {
   "cell_type": "code",
   "execution_count": 10,
   "metadata": {},
   "outputs": [],
   "source": [
    "z_states = load_folder('./data/z_states')"
   ]
  },
  {
   "cell_type": "code",
   "execution_count": 11,
   "metadata": {},
   "outputs": [
    {
     "data": {
      "text/plain": [
       "(154624, 32)"
      ]
     },
     "execution_count": 11,
     "metadata": {},
     "output_type": "execute_result"
    }
   ],
   "source": [
    "z_states.shape"
   ]
  },
  {
   "cell_type": "code",
   "execution_count": 12,
   "metadata": {},
   "outputs": [],
   "source": [
    "actions = load_folder('./data/actions')"
   ]
  },
  {
   "cell_type": "code",
   "execution_count": 13,
   "metadata": {},
   "outputs": [
    {
     "data": {
      "text/plain": [
       "(154624, 3)"
      ]
     },
     "execution_count": 13,
     "metadata": {},
     "output_type": "execute_result"
    }
   ],
   "source": [
    "actions.shape"
   ]
  },
  {
   "cell_type": "code",
   "execution_count": 14,
   "metadata": {},
   "outputs": [
    {
     "data": {
      "text/plain": [
       "9.4375"
      ]
     },
     "execution_count": 14,
     "metadata": {},
     "output_type": "execute_result"
    }
   ],
   "source": [
    "154624 / 128 / 128"
   ]
  },
  {
   "cell_type": "code",
   "execution_count": 15,
   "metadata": {},
   "outputs": [],
   "source": [
    "pair = np.concatenate((z_states, actions), axis=1)"
   ]
  },
  {
   "cell_type": "code",
   "execution_count": 16,
   "metadata": {},
   "outputs": [
    {
     "data": {
      "text/plain": [
       "(154624, 35)"
      ]
     },
     "execution_count": 16,
     "metadata": {},
     "output_type": "execute_result"
    }
   ],
   "source": [
    "pair.shape"
   ]
  },
  {
   "cell_type": "code",
   "execution_count": 17,
   "metadata": {},
   "outputs": [],
   "source": [
    "latent_dataset = tf.data.Dataset.from_tensor_slices(pair)"
   ]
  },
  {
   "cell_type": "code",
   "execution_count": 18,
   "metadata": {},
   "outputs": [],
   "source": [
    "sequences = latent_dataset.batch(seq_len + 1, drop_remainder=True)"
   ]
  },
  {
   "cell_type": "code",
   "execution_count": 19,
   "metadata": {},
   "outputs": [
    {
     "data": {
      "text/plain": [
       "<BatchDataset shapes: (129, 35), types: tf.float64>"
      ]
     },
     "execution_count": 19,
     "metadata": {},
     "output_type": "execute_result"
    }
   ],
   "source": [
    "sequences"
   ]
  },
  {
   "cell_type": "code",
   "execution_count": 20,
   "metadata": {},
   "outputs": [],
   "source": [
    "def split_input_target(chunk):\n",
    "    input_z = chunk[:-1]\n",
    "    target_z = chunk[1:, :32]\n",
    "    return input_z, target_z"
   ]
  },
  {
   "cell_type": "code",
   "execution_count": 21,
   "metadata": {},
   "outputs": [],
   "source": [
    "dataset = sequences.map(split_input_target)"
   ]
  },
  {
   "cell_type": "code",
   "execution_count": 22,
   "metadata": {},
   "outputs": [
    {
     "data": {
      "text/plain": [
       "<MapDataset shapes: ((128, 35), (128, 32)), types: (tf.float64, tf.float64)>"
      ]
     },
     "execution_count": 22,
     "metadata": {},
     "output_type": "execute_result"
    }
   ],
   "source": [
    "dataset"
   ]
  },
  {
   "cell_type": "code",
   "execution_count": 23,
   "metadata": {},
   "outputs": [],
   "source": [
    "dataset = dataset.shuffle(10000).batch(utils.BATCH_SIZE, drop_remainder=True)"
   ]
  },
  {
   "cell_type": "code",
   "execution_count": 24,
   "metadata": {},
   "outputs": [
    {
     "data": {
      "text/plain": [
       "<BatchDataset shapes: ((128, 128, 35), (128, 128, 32)), types: (tf.float64, tf.float64)>"
      ]
     },
     "execution_count": 24,
     "metadata": {},
     "output_type": "execute_result"
    }
   ],
   "source": [
    "dataset"
   ]
  },
  {
   "cell_type": "code",
   "execution_count": 26,
   "metadata": {},
   "outputs": [],
   "source": [
    "i = 0\n",
    "for a, b in dataset:\n",
    "    i += 1"
   ]
  },
  {
   "cell_type": "code",
   "execution_count": 27,
   "metadata": {},
   "outputs": [
    {
     "data": {
      "text/plain": [
       "9"
      ]
     },
     "execution_count": 27,
     "metadata": {},
     "output_type": "execute_result"
    }
   ],
   "source": [
    "i"
   ]
  },
  {
   "cell_type": "code",
   "execution_count": 28,
   "metadata": {},
   "outputs": [],
   "source": [
    "percent_20 = i // 5\n",
    "val = dataset.take(percent_20)\n",
    "train = dataset.skip(percent_20)"
   ]
  },
  {
   "cell_type": "code",
   "execution_count": 29,
   "metadata": {},
   "outputs": [
    {
     "data": {
      "text/plain": [
       "<TakeDataset shapes: ((128, 128, 35), (128, 128, 32)), types: (tf.float64, tf.float64)>"
      ]
     },
     "execution_count": 29,
     "metadata": {},
     "output_type": "execute_result"
    }
   ],
   "source": [
    "val"
   ]
  },
  {
   "cell_type": "code",
   "execution_count": 30,
   "metadata": {},
   "outputs": [
    {
     "data": {
      "text/plain": [
       "<SkipDataset shapes: ((128, 128, 35), (128, 128, 32)), types: (tf.float64, tf.float64)>"
      ]
     },
     "execution_count": 30,
     "metadata": {},
     "output_type": "execute_result"
    }
   ],
   "source": [
    "train"
   ]
  },
  {
   "cell_type": "code",
   "execution_count": null,
   "metadata": {},
   "outputs": [],
   "source": []
  },
  {
   "cell_type": "code",
   "execution_count": 31,
   "metadata": {},
   "outputs": [
    {
     "name": "stdout",
     "output_type": "stream",
     "text": [
      "rm: cannot remove './logs/fit/*': No such file or directory\r\n"
     ]
    }
   ],
   "source": [
    "!mkdir \"./logs/\"\n",
    "!mkdir \"./logs/fit\"\n",
    "!rm \"./logs/fit/*\""
   ]
  },
  {
   "cell_type": "code",
   "execution_count": 32,
   "metadata": {},
   "outputs": [],
   "source": [
    "log_dir=\"logs/fit/\" + datetime.datetime.now().strftime(\"%Y%m%d-%H%M%S\")"
   ]
  },
  {
   "cell_type": "code",
   "execution_count": 33,
   "metadata": {},
   "outputs": [],
   "source": [
    "seq_len = 128\n",
    "act_len = 3"
   ]
  },
  {
   "cell_type": "code",
   "execution_count": 34,
   "metadata": {},
   "outputs": [],
   "source": [
    "callbacks = [\n",
    "    TrainTimeCallback(),\n",
    "    ModelCheckpoint('./best_mdn_rnn.h5', save_best_only=True, \n",
    "                    monitor='val_loss', save_weights_only=True),\n",
    "    TensorBoard(log_dir=log_dir, histogram_freq=1)\n",
    "]"
   ]
  },
  {
   "cell_type": "code",
   "execution_count": 35,
   "metadata": {},
   "outputs": [
    {
     "name": "stdout",
     "output_type": "stream",
     "text": [
      "Model: \"sequential\"\n",
      "_________________________________________________________________\n",
      "Layer (type)                 Output Shape              Param #   \n",
      "=================================================================\n",
      "lstm (LSTM)                  (None, None, 256)         299008    \n",
      "_________________________________________________________________\n",
      "mdn (MDN)                    (None, None, 325)         83525     \n",
      "=================================================================\n",
      "Total params: 382,533\n",
      "Trainable params: 382,533\n",
      "Non-trainable params: 0\n",
      "_________________________________________________________________\n"
     ]
    }
   ],
   "source": [
    "output_dims = 32\n",
    "n_mixes     = 5\n",
    "M = Sequential([\n",
    "    Input((None, act_len + utils.LATENT_SIZE)),\n",
    "    LSTM(256, return_sequences=True),\n",
    "    mdn.MDN(output_dims, n_mixes)\n",
    "])\n",
    "\n",
    "M.compile(loss=mdn.get_mixture_loss_func(output_dims, n_mixes), \n",
    "          optimizer=tf.keras.optimizers.Adam(), \n",
    "          callbacks=callbacks,\n",
    "         )\n",
    "\n",
    "M.summary()"
   ]
  },
  {
   "cell_type": "code",
   "execution_count": 36,
   "metadata": {
    "scrolled": true
   },
   "outputs": [
    {
     "name": "stdout",
     "output_type": "stream",
     "text": [
      "Epoch 1/100\n",
      "8/8 [==============================] - 12s 2s/step - loss: 38.4039 - val_loss: 0.0000e+00\n",
      "Epoch 2/100\n",
      "8/8 [==============================] - 6s 799ms/step - loss: 31.9600 - val_loss: 29.1187\n",
      "Epoch 3/100\n",
      "8/8 [==============================] - 6s 766ms/step - loss: 27.2370 - val_loss: 25.5476\n",
      "Epoch 4/100\n",
      "8/8 [==============================] - 6s 777ms/step - loss: 24.4685 - val_loss: 23.0570\n",
      "Epoch 5/100\n",
      "8/8 [==============================] - 6s 770ms/step - loss: 23.2680 - val_loss: 23.3950\n",
      "Epoch 6/100\n",
      "8/8 [==============================] - 6s 754ms/step - loss: 21.9966 - val_loss: 20.8906\n",
      "Epoch 7/100\n",
      "8/8 [==============================] - 6s 753ms/step - loss: 20.5771 - val_loss: 23.1591\n",
      "Epoch 8/100\n",
      "8/8 [==============================] - 6s 762ms/step - loss: 21.0471 - val_loss: 20.1560\n",
      "Epoch 9/100\n",
      "8/8 [==============================] - 6s 748ms/step - loss: 19.9366 - val_loss: 19.3875\n",
      "Epoch 10/100\n",
      "8/8 [==============================] - 6s 769ms/step - loss: 21.0763 - val_loss: 19.5937\n",
      "Epoch 11/100\n",
      "8/8 [==============================] - 6s 760ms/step - loss: 19.6521 - val_loss: 19.6789\n",
      "Epoch 12/100\n",
      "8/8 [==============================] - 6s 749ms/step - loss: 19.0462 - val_loss: 18.5862\n",
      "Epoch 13/100\n",
      "8/8 [==============================] - 6s 752ms/step - loss: 20.1568 - val_loss: 19.8489\n",
      "Epoch 14/100\n",
      "8/8 [==============================] - 6s 741ms/step - loss: 19.4654 - val_loss: 18.6530\n",
      "Epoch 15/100\n",
      "8/8 [==============================] - 6s 743ms/step - loss: 18.6415 - val_loss: 23.0712\n",
      "Epoch 16/100\n",
      "8/8 [==============================] - 6s 750ms/step - loss: 19.7779 - val_loss: 18.6021\n",
      "Epoch 17/100\n",
      "8/8 [==============================] - 6s 747ms/step - loss: 18.4805 - val_loss: 19.4544\n",
      "Epoch 18/100\n",
      "8/8 [==============================] - 6s 755ms/step - loss: 18.5221 - val_loss: 17.9659\n",
      "Epoch 19/100\n",
      "8/8 [==============================] - 6s 744ms/step - loss: 17.9879 - val_loss: 19.5647\n",
      "Epoch 20/100\n",
      "8/8 [==============================] - 6s 766ms/step - loss: 19.3852 - val_loss: 18.4254\n",
      "Epoch 21/100\n",
      "8/8 [==============================] - 6s 764ms/step - loss: 18.1797 - val_loss: 17.9183\n",
      "Epoch 22/100\n",
      "8/8 [==============================] - 6s 748ms/step - loss: 18.3437 - val_loss: 18.4021\n",
      "Epoch 23/100\n",
      "8/8 [==============================] - 6s 739ms/step - loss: 18.3217 - val_loss: 17.8895\n",
      "Epoch 24/100\n",
      "8/8 [==============================] - 6s 746ms/step - loss: 17.9143 - val_loss: 17.7828\n",
      "Epoch 25/100\n",
      "8/8 [==============================] - 6s 745ms/step - loss: 17.7794 - val_loss: 17.4738\n",
      "Epoch 26/100\n",
      "8/8 [==============================] - 6s 744ms/step - loss: 17.6550 - val_loss: 17.4436\n",
      "Epoch 27/100\n",
      "8/8 [==============================] - 6s 759ms/step - loss: 18.1669 - val_loss: 17.1986\n",
      "Epoch 28/100\n",
      "8/8 [==============================] - 6s 754ms/step - loss: 17.6382 - val_loss: 17.5336\n",
      "Epoch 29/100\n",
      "8/8 [==============================] - 6s 750ms/step - loss: 17.4575 - val_loss: 17.4280\n",
      "Epoch 30/100\n",
      "8/8 [==============================] - 6s 752ms/step - loss: 17.3579 - val_loss: 21.0667\n",
      "Epoch 31/100\n",
      "8/8 [==============================] - 6s 735ms/step - loss: 19.1592 - val_loss: 17.8792\n",
      "Epoch 32/100\n",
      "8/8 [==============================] - 6s 752ms/step - loss: 17.6878 - val_loss: 17.3786\n",
      "Epoch 33/100\n",
      "8/8 [==============================] - 6s 746ms/step - loss: 17.6058 - val_loss: 21.9961\n",
      "Epoch 34/100\n",
      "8/8 [==============================] - 6s 753ms/step - loss: 19.0807 - val_loss: 17.7519\n",
      "Epoch 35/100\n",
      "8/8 [==============================] - 6s 759ms/step - loss: 17.6974 - val_loss: 17.0640\n",
      "Epoch 36/100\n",
      "8/8 [==============================] - 6s 760ms/step - loss: 17.4018 - val_loss: 18.1465\n",
      "Epoch 37/100\n",
      "8/8 [==============================] - 6s 755ms/step - loss: 19.0638 - val_loss: 17.7691\n",
      "Epoch 38/100\n",
      "8/8 [==============================] - 6s 748ms/step - loss: 17.6801 - val_loss: 17.5143\n",
      "Epoch 39/100\n",
      "8/8 [==============================] - 6s 765ms/step - loss: 17.4576 - val_loss: 16.9855\n",
      "Epoch 40/100\n",
      "8/8 [==============================] - 6s 754ms/step - loss: 17.2889 - val_loss: 19.0431\n",
      "Epoch 41/100\n",
      "8/8 [==============================] - 6s 757ms/step - loss: 18.3842 - val_loss: 17.4323\n",
      "Epoch 42/100\n",
      "8/8 [==============================] - 6s 764ms/step - loss: 17.4379 - val_loss: 17.4184\n",
      "Epoch 43/100\n",
      "8/8 [==============================] - 6s 754ms/step - loss: 17.4230 - val_loss: 17.3054\n",
      "Epoch 44/100\n",
      "8/8 [==============================] - 6s 738ms/step - loss: 17.2506 - val_loss: 16.9041\n",
      "Epoch 45/100\n",
      "8/8 [==============================] - 6s 744ms/step - loss: 17.2147 - val_loss: 17.1803\n",
      "Epoch 46/100\n",
      "8/8 [==============================] - 6s 757ms/step - loss: 17.0033 - val_loss: 16.9506\n",
      "Epoch 47/100\n",
      "8/8 [==============================] - 6s 762ms/step - loss: 17.3071 - val_loss: 17.0303\n",
      "Epoch 48/100\n",
      "8/8 [==============================] - 6s 756ms/step - loss: 16.8978 - val_loss: 16.9866\n",
      "Epoch 49/100\n",
      "8/8 [==============================] - 6s 737ms/step - loss: 17.0977 - val_loss: 17.1675\n",
      "Epoch 50/100\n",
      "8/8 [==============================] - 6s 731ms/step - loss: 16.7414 - val_loss: 17.0280\n",
      "Epoch 51/100\n",
      "8/8 [==============================] - 6s 741ms/step - loss: 16.7100 - val_loss: 17.7924\n",
      "Epoch 52/100\n",
      "8/8 [==============================] - 6s 744ms/step - loss: 19.8234 - val_loss: 17.7590\n",
      "Epoch 53/100\n",
      "8/8 [==============================] - 6s 745ms/step - loss: 17.6146 - val_loss: 17.2702\n",
      "Epoch 54/100\n",
      "8/8 [==============================] - 6s 756ms/step - loss: 17.3865 - val_loss: 17.4438\n",
      "Epoch 55/100\n",
      "8/8 [==============================] - 6s 754ms/step - loss: 17.1747 - val_loss: 16.9591\n",
      "Epoch 56/100\n",
      "8/8 [==============================] - 6s 738ms/step - loss: 17.1639 - val_loss: 18.3590\n",
      "Epoch 57/100\n",
      "8/8 [==============================] - 6s 750ms/step - loss: 18.5159 - val_loss: 17.0454\n",
      "Epoch 58/100\n",
      "8/8 [==============================] - 6s 745ms/step - loss: 17.3751 - val_loss: 17.1947\n",
      "Epoch 59/100\n",
      "8/8 [==============================] - 6s 756ms/step - loss: 17.2533 - val_loss: 17.0309\n",
      "Epoch 60/100\n",
      "8/8 [==============================] - 6s 742ms/step - loss: 17.2422 - val_loss: 17.2255\n",
      "Epoch 61/100\n",
      "8/8 [==============================] - 6s 740ms/step - loss: 17.0831 - val_loss: 17.2273\n",
      "Epoch 62/100\n",
      "8/8 [==============================] - 6s 739ms/step - loss: 16.9186 - val_loss: 16.8006\n",
      "Epoch 63/100\n",
      "8/8 [==============================] - 6s 751ms/step - loss: 17.2497 - val_loss: 16.8882\n",
      "Epoch 64/100\n",
      "8/8 [==============================] - 6s 754ms/step - loss: 16.9387 - val_loss: 17.0008\n",
      "Epoch 65/100\n",
      "8/8 [==============================] - 6s 762ms/step - loss: 18.4289 - val_loss: 17.0299\n",
      "Epoch 66/100\n",
      "8/8 [==============================] - 6s 756ms/step - loss: 17.2283 - val_loss: 17.1111\n",
      "Epoch 67/100\n",
      "8/8 [==============================] - 6s 741ms/step - loss: 16.9643 - val_loss: 16.6309\n",
      "Epoch 68/100\n",
      "8/8 [==============================] - 6s 756ms/step - loss: 16.8372 - val_loss: 16.9341\n",
      "Epoch 69/100\n",
      "8/8 [==============================] - 6s 752ms/step - loss: 16.7603 - val_loss: 16.7327\n",
      "Epoch 70/100\n",
      "8/8 [==============================] - 6s 753ms/step - loss: 16.9541 - val_loss: 17.5891\n",
      "Epoch 71/100\n",
      "8/8 [==============================] - 6s 747ms/step - loss: 16.9712 - val_loss: 16.9181\n",
      "Epoch 72/100\n",
      "8/8 [==============================] - 6s 749ms/step - loss: 16.9328 - val_loss: 16.3265\n",
      "Epoch 73/100\n",
      "8/8 [==============================] - 6s 762ms/step - loss: 16.7419 - val_loss: 17.5340\n",
      "Epoch 74/100\n",
      "8/8 [==============================] - 6s 748ms/step - loss: 18.9268 - val_loss: 17.2481\n",
      "Epoch 75/100\n",
      "8/8 [==============================] - 6s 738ms/step - loss: 17.2634 - val_loss: 16.8352\n",
      "Epoch 76/100\n",
      "8/8 [==============================] - 6s 753ms/step - loss: 17.0684 - val_loss: 17.0792\n",
      "Epoch 77/100\n",
      "8/8 [==============================] - 6s 738ms/step - loss: 16.9341 - val_loss: 16.9090\n",
      "Epoch 78/100\n",
      "8/8 [==============================] - 6s 755ms/step - loss: 16.8946 - val_loss: 16.7233\n",
      "Epoch 79/100\n",
      "8/8 [==============================] - 6s 752ms/step - loss: 16.9404 - val_loss: 17.9229\n",
      "Epoch 80/100\n",
      "8/8 [==============================] - 6s 739ms/step - loss: 17.0325 - val_loss: 16.2830\n",
      "Epoch 81/100\n"
     ]
    },
    {
     "name": "stdout",
     "output_type": "stream",
     "text": [
      "8/8 [==============================] - 6s 747ms/step - loss: 16.7718 - val_loss: 16.7060\n",
      "Epoch 82/100\n",
      "8/8 [==============================] - 6s 758ms/step - loss: 16.6809 - val_loss: 16.5434\n",
      "Epoch 83/100\n",
      "8/8 [==============================] - 6s 750ms/step - loss: 16.5088 - val_loss: 16.7059\n",
      "Epoch 84/100\n",
      "8/8 [==============================] - 6s 757ms/step - loss: 16.6197 - val_loss: 17.5018\n",
      "Epoch 85/100\n",
      "8/8 [==============================] - 6s 752ms/step - loss: 18.7205 - val_loss: 17.1194\n",
      "Epoch 86/100\n",
      "8/8 [==============================] - 6s 739ms/step - loss: 17.1276 - val_loss: 17.1813\n",
      "Epoch 87/100\n",
      "8/8 [==============================] - 6s 726ms/step - loss: 16.9356 - val_loss: 16.8712\n",
      "Epoch 88/100\n",
      "8/8 [==============================] - 6s 759ms/step - loss: 16.8474 - val_loss: 16.4158\n",
      "Epoch 89/100\n",
      "8/8 [==============================] - 6s 732ms/step - loss: 16.6722 - val_loss: 16.8699\n",
      "Epoch 90/100\n",
      "8/8 [==============================] - 6s 745ms/step - loss: 17.7042 - val_loss: 17.4499\n",
      "Epoch 91/100\n",
      "8/8 [==============================] - 6s 749ms/step - loss: 17.1414 - val_loss: 16.7569\n",
      "Epoch 92/100\n",
      "8/8 [==============================] - 6s 743ms/step - loss: 16.9168 - val_loss: 16.9828\n",
      "Epoch 93/100\n",
      "8/8 [==============================] - 6s 749ms/step - loss: 16.8251 - val_loss: 16.9000\n",
      "Epoch 94/100\n",
      "8/8 [==============================] - 6s 755ms/step - loss: 16.7556 - val_loss: 17.5364\n",
      "Epoch 95/100\n",
      "8/8 [==============================] - 6s 755ms/step - loss: 18.3941 - val_loss: 17.0525\n",
      "Epoch 96/100\n",
      "8/8 [==============================] - 6s 753ms/step - loss: 17.0433 - val_loss: 16.6976\n",
      "Epoch 97/100\n",
      "8/8 [==============================] - 6s 746ms/step - loss: 16.8512 - val_loss: 16.6891\n",
      "Epoch 98/100\n",
      "8/8 [==============================] - 6s 755ms/step - loss: 16.7213 - val_loss: 16.7703\n",
      "Epoch 99/100\n",
      "8/8 [==============================] - 6s 750ms/step - loss: 16.7044 - val_loss: 17.2092\n",
      "Epoch 100/100\n",
      "8/8 [==============================] - 6s 759ms/step - loss: 17.3234 - val_loss: 17.1823\n"
     ]
    }
   ],
   "source": [
    "history = M.fit(train, epochs=100, validation_data=val)"
   ]
  },
  {
   "cell_type": "code",
   "execution_count": null,
   "metadata": {},
   "outputs": [],
   "source": []
  },
  {
   "cell_type": "code",
   "execution_count": 37,
   "metadata": {},
   "outputs": [
    {
     "data": {
      "text/plain": [
       "[<matplotlib.lines.Line2D at 0x7f44800b88d0>]"
      ]
     },
     "execution_count": 37,
     "metadata": {},
     "output_type": "execute_result"
    },
    {
     "data": {
      "image/png": "[encoded data removed]",
      "text/plain": [
       "<Figure size 432x288 with 1 Axes>"
      ]
     },
     "metadata": {
      "needs_background": "light"
     },
     "output_type": "display_data"
    }
   ],
   "source": [
    "plt.plot(history.history['loss'])"
   ]
  },
  {
   "cell_type": "code",
   "execution_count": 38,
   "metadata": {},
   "outputs": [
    {
     "data": {
      "text/plain": [
       "[<matplotlib.lines.Line2D at 0x7f4463789f10>]"
      ]
     },
     "execution_count": 38,
     "metadata": {},
     "output_type": "execute_result"
    },
    {
     "data": {
      "image/png": "[encoded data removed]",
      "text/plain": [
       "<Figure size 432x288 with 1 Axes>"
      ]
     },
     "metadata": {
      "needs_background": "light"
     },
     "output_type": "display_data"
    }
   ],
   "source": [
    "plt.plot(history.history['val_loss'])"
   ]
  },
  {
   "cell_type": "code",
   "execution_count": null,
   "metadata": {},
   "outputs": [],
   "source": []
  }
 ],
 "metadata": {
  "kernelspec": {
   "display_name": "Python 3",
   "language": "python",
   "name": "python3"
  },
  "language_info": {
   "codemirror_mode": {
    "name": "ipython",
    "version": 3
   },
   "file_extension": ".py",
   "mimetype": "text/x-python",
   "name": "python",
   "nbconvert_exporter": "python",
   "pygments_lexer": "ipython3",
   "version": "3.7.5"
  }
 },
 "nbformat": 4,
 "nbformat_minor": 2
}
