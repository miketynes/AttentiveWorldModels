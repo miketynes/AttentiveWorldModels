{
 "cells": [
  {
   "cell_type": "code",
   "execution_count": 1,
   "metadata": {},
   "outputs": [],
   "source": [
    "import numpy as np\n",
    "import os\n",
    "from skimage.transform import resize\n",
    "from tqdm import tqdm\n",
    "\n",
    "from models import Encoder"
   ]
  },
  {
   "cell_type": "code",
   "execution_count": 2,
   "metadata": {},
   "outputs": [],
   "source": [
    "from utils import to_latent"
   ]
  },
  {
   "cell_type": "code",
   "execution_count": 3,
   "metadata": {},
   "outputs": [],
   "source": [
    "e = Encoder(weights='./data/weights/encoder_weights.h5')"
   ]
  },
  {
   "cell_type": "code",
   "execution_count": 4,
   "metadata": {},
   "outputs": [
    {
     "name": "stdout",
     "output_type": "stream",
     "text": [
      "Model: \"encoder\"\n",
      "__________________________________________________________________________________________________\n",
      "Layer (type)                    Output Shape         Param #     Connected to                     \n",
      "==================================================================================================\n",
      "encoder_input (InputLayer)      [(None, 64, 64, 3)]  0                                            \n",
      "__________________________________________________________________________________________________\n",
      "enc_conv1 (Conv2D)              (None, 31, 31, 32)   1568        encoder_input[0][0]              \n",
      "__________________________________________________________________________________________________\n",
      "enc_conv2 (Conv2D)              (None, 14, 14, 64)   32832       enc_conv1[0][0]                  \n",
      "__________________________________________________________________________________________________\n",
      "enc_conv3 (Conv2D)              (None, 6, 6, 128)    131200      enc_conv2[0][0]                  \n",
      "__________________________________________________________________________________________________\n",
      "enc_conv4 (Conv2D)              (None, 2, 2, 256)    524544      enc_conv3[0][0]                  \n",
      "__________________________________________________________________________________________________\n",
      "reshape (Reshape)               (None, 1024)         0           enc_conv4[0][0]                  \n",
      "__________________________________________________________________________________________________\n",
      "z_mean (Dense)                  (None, 32)           32800       reshape[0][0]                    \n",
      "__________________________________________________________________________________________________\n",
      "z_log_var (Dense)               (None, 32)           32800       reshape[0][0]                    \n",
      "__________________________________________________________________________________________________\n",
      "z (Lambda)                      (128, 32)            0           z_mean[0][0]                     \n",
      "                                                                 z_log_var[0][0]                  \n",
      "==================================================================================================\n",
      "Total params: 755,744\n",
      "Trainable params: 755,744\n",
      "Non-trainable params: 0\n",
      "__________________________________________________________________________________________________\n"
     ]
    }
   ],
   "source": [
    "e.summary()"
   ]
  },
  {
   "cell_type": "code",
   "execution_count": 5,
   "metadata": {},
   "outputs": [
    {
     "name": "stdout",
     "output_type": "stream",
     "text": [
      "actions  sampled_traces      screenshots.zip  weights\r\n",
      "kaggle\t sampled_traces.zip  states\t      z_states\r\n"
     ]
    }
   ],
   "source": [
    "!ls ./data"
   ]
  },
  {
   "cell_type": "code",
   "execution_count": 6,
   "metadata": {},
   "outputs": [],
   "source": [
    "sausage_files = os.listdir('./data/sampled_traces')"
   ]
  },
  {
   "cell_type": "code",
   "execution_count": 7,
   "metadata": {},
   "outputs": [],
   "source": [
    "MEAT_DIR = './data/states'\n",
    "Z_MEAT_DIR = './data/z_states'\n",
    "CHEESE_DIR = './data/actions'"
   ]
  },
  {
   "cell_type": "code",
   "execution_count": 8,
   "metadata": {},
   "outputs": [],
   "source": [
    "# for _ in [MEAT_DIR, Z_MEAT_DIR, CHEESE_DIR]: \n",
    "#     os.mkdir(_)"
   ]
  },
  {
   "cell_type": "code",
   "execution_count": 9,
   "metadata": {},
   "outputs": [
    {
     "name": "stderr",
     "output_type": "stream",
     "text": [
      "sausage: 100%|██████████| 151/151 [05:32<00:00,  2.20s/it]\n"
     ]
    }
   ],
   "source": [
    "for i, sausage_id in enumerate(tqdm(sausage_files, 'sausage')):\n",
    "    s = np.load(os.path.join('./data/sampled_traces', sausage_id))\n",
    "    actions = s['a']\n",
    "    sausage = s['b']\n",
    "    sausage = np.true_divide(sausage, 255, dtype=np.float32)\n",
    "    sausage = resize(sausage, output_shape=(1024, 64, 64, 3))\n",
    "    z_sausage = to_latent(e, sausage)\n",
    "    for j, slice_ in enumerate(sausage):\n",
    "        np.save(os.path.join(MEAT_DIR,   f'state{i}_{j}.npy'), sausage[j])\n",
    "        np.save(os.path.join(Z_MEAT_DIR,   f'z_state{i}_{j}.npy'), z_sausage[j])\n",
    "        np.save(os.path.join(CHEESE_DIR, f'action{i}_{j}.npy'), actions[j])"
   ]
  },
  {
   "cell_type": "code",
   "execution_count": 10,
   "metadata": {},
   "outputs": [],
   "source": [
    "foo = os.listdir(MEAT_DIR)"
   ]
  },
  {
   "cell_type": "code",
   "execution_count": 11,
   "metadata": {},
   "outputs": [],
   "source": [
    "bar = os.listdir(Z_MEAT_DIR)"
   ]
  },
  {
   "cell_type": "code",
   "execution_count": 12,
   "metadata": {},
   "outputs": [],
   "source": [
    "baz = os.listdir(CHEESE_DIR)"
   ]
  },
  {
   "cell_type": "code",
   "execution_count": 13,
   "metadata": {},
   "outputs": [
    {
     "data": {
      "text/plain": [
       "True"
      ]
     },
     "execution_count": 13,
     "metadata": {},
     "output_type": "execute_result"
    }
   ],
   "source": [
    "len(foo) == len(bar) == len(baz)"
   ]
  },
  {
   "cell_type": "code",
   "execution_count": 14,
   "metadata": {},
   "outputs": [
    {
     "data": {
      "text/plain": [
       "154624"
      ]
     },
     "execution_count": 14,
     "metadata": {},
     "output_type": "execute_result"
    }
   ],
   "source": [
    "len(foo)"
   ]
  },
  {
   "cell_type": "code",
   "execution_count": null,
   "metadata": {},
   "outputs": [],
   "source": []
  }
 ],
 "metadata": {
  "kernelspec": {
   "display_name": "Python 3",
   "language": "python",
   "name": "python3"
  },
  "language_info": {
   "codemirror_mode": {
    "name": "ipython",
    "version": 3
   },
   "file_extension": ".py",
   "mimetype": "text/x-python",
   "name": "python",
   "nbconvert_exporter": "python",
   "pygments_lexer": "ipython3",
   "version": "3.7.5"
  }
 },
 "nbformat": 4,
 "nbformat_minor": 2
}
